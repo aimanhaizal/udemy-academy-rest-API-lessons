{
  "nbformat": 4,
  "nbformat_minor": 0,
  "metadata": {
    "colab": {
      "provenance": [],
      "authorship_tag": "ABX9TyNxlZN7DuHnZtdBAyfqKbWC",
      "include_colab_link": true
    },
    "kernelspec": {
      "name": "python3",
      "display_name": "Python 3"
    },
    "language_info": {
      "name": "python"
    }
  },
  "cells": [
    {
      "cell_type": "markdown",
      "metadata": {
        "id": "view-in-github",
        "colab_type": "text"
      },
      "source": [
        "<a href=\"https://colab.research.google.com/github/aimanhaizal/udemy-academy-rest-API-lessons/blob/main/PythonRefresher.ipynb\" target=\"_parent\"><img src=\"https://colab.research.google.com/assets/colab-badge.svg\" alt=\"Open In Colab\"/></a>"
      ]
    },
    {
      "cell_type": "code",
      "execution_count": 25,
      "metadata": {
        "colab": {
          "base_uri": "https://localhost:8080/"
        },
        "id": "8pluBhg6sGhV",
        "outputId": "85c53624-943e-48d7-b9f1-daed53abd226"
      },
      "outputs": [
        {
          "output_type": "stream",
          "name": "stdout",
          "text": [
            "Hello, World!\n"
          ]
        }
      ],
      "source": [
        "print(\"Hello, World!\")"
      ]
    },
    {
      "cell_type": "code",
      "source": [
        "x = 1500\n",
        "price = 9.99\n",
        "\n",
        "discount = 0.2\n",
        "\n",
        "result = price*(1-discount)\n",
        "print(result)"
      ],
      "metadata": {
        "colab": {
          "base_uri": "https://localhost:8080/"
        },
        "id": "NBMxQDM4sblY",
        "outputId": "70c3821b-cdf3-42b6-95e3-ca6fb16067db"
      },
      "execution_count": 26,
      "outputs": [
        {
          "output_type": "stream",
          "name": "stdout",
          "text": [
            "7.992000000000001\n"
          ]
        }
      ]
    },
    {
      "cell_type": "code",
      "source": [
        "name = \"rolf\"\n",
        "name = \"bob\"\n",
        "print(name)\n",
        "print(name*2)"
      ],
      "metadata": {
        "colab": {
          "base_uri": "https://localhost:8080/"
        },
        "id": "3h1aybL9xBhT",
        "outputId": "80217326-5b26-43ba-eef3-d0c22933ee76"
      },
      "execution_count": 27,
      "outputs": [
        {
          "output_type": "stream",
          "name": "stdout",
          "text": [
            "bob\n",
            "bobbob\n"
          ]
        }
      ]
    },
    {
      "cell_type": "code",
      "source": [
        "a = 25\n",
        "b = a\n",
        "\n",
        "print(a)\n",
        "print(b)\n",
        "\n",
        "b = 17\n",
        "print(a)\n",
        "print(b)"
      ],
      "metadata": {
        "colab": {
          "base_uri": "https://localhost:8080/"
        },
        "id": "2Ic-pEqAxpiF",
        "outputId": "d27b630e-cbd5-4279-ecff-6fab495e0116"
      },
      "execution_count": 28,
      "outputs": [
        {
          "output_type": "stream",
          "name": "stdout",
          "text": [
            "25\n",
            "25\n",
            "25\n",
            "17\n"
          ]
        }
      ]
    },
    {
      "cell_type": "code",
      "source": [
        "name = \"Bob\"\n",
        "greeting =f\"Hello,{name}\"\n",
        "#fstring embed variables in string\n",
        "\n",
        "print(f\"Hello,{name}\")\n",
        "\n",
        "name= \"Rolf\"\n",
        "print(f\"Hello,{name}\")"
      ],
      "metadata": {
        "colab": {
          "base_uri": "https://localhost:8080/"
        },
        "id": "3Hj5gDCXx1nk",
        "outputId": "355edcf1-ac3d-4942-bc85-d8824e6af82e"
      },
      "execution_count": 29,
      "outputs": [
        {
          "output_type": "stream",
          "name": "stdout",
          "text": [
            "Hello,Bob\n",
            "Hello,Rolf\n"
          ]
        }
      ]
    },
    {
      "cell_type": "code",
      "source": [
        "#template strings\n",
        "name = \"Bob\"\n",
        "greeting = \"Hello, {}\"\n",
        "with_name = greeting.format(name)\n",
        "#called the format function inside greeting\n",
        "\n",
        "with_name_two = greeting.format(\"Rolf\")\n",
        "print(with_name)\n",
        "print(with_name_two)"
      ],
      "metadata": {
        "colab": {
          "base_uri": "https://localhost:8080/"
        },
        "id": "DLjenWRA0T2f",
        "outputId": "a58f4f20-6cb5-4b94-a9ce-f79d05926c18"
      },
      "execution_count": 30,
      "outputs": [
        {
          "output_type": "stream",
          "name": "stdout",
          "text": [
            "Hello, Bob\n",
            "Hello, Rolf\n"
          ]
        }
      ]
    },
    {
      "cell_type": "code",
      "source": [
        "longer_phrase = \"Hello, {}. Today is {}.\"\n",
        "formatted = longer_phrase.format(\"Bob\", \"Monday\")\n",
        "print(formatted)"
      ],
      "metadata": {
        "colab": {
          "base_uri": "https://localhost:8080/"
        },
        "id": "uKm1JXZZ04F5",
        "outputId": "df297c89-0c13-4644-8cf5-541a5e52febb"
      },
      "execution_count": 31,
      "outputs": [
        {
          "output_type": "stream",
          "name": "stdout",
          "text": [
            "Hello, Bob. Today is Monday.\n"
          ]
        }
      ]
    },
    {
      "cell_type": "code",
      "source": [
        "name=input(\"What is your name?\")\n",
        "print(f\"Hello,{name}\")"
      ],
      "metadata": {
        "colab": {
          "base_uri": "https://localhost:8080/"
        },
        "id": "1l4jnBVy1J6A",
        "outputId": "34453b86-badd-41e0-e0c7-451b018469e1"
      },
      "execution_count": 32,
      "outputs": [
        {
          "output_type": "stream",
          "name": "stdout",
          "text": [
            "What is your name?bob\n",
            "Hello,bob\n"
          ]
        }
      ]
    },
    {
      "cell_type": "code",
      "source": [
        "size_input = input(\"How big is your house (in square feet)?\")\n",
        "square_feet = int(size_input)\n",
        "square_meters = square_feet/10.8\n",
        "print(f\"{square_feet} square feet is {square_meters:.2f} square meters.\")"
      ],
      "metadata": {
        "colab": {
          "base_uri": "https://localhost:8080/"
        },
        "id": "6k0u6bdl1VDC",
        "outputId": "0a7b479b-8085-4196-f1b1-51cb8f46d46b"
      },
      "execution_count": 33,
      "outputs": [
        {
          "output_type": "stream",
          "name": "stdout",
          "text": [
            "How big is your house (in square feet)?32\n",
            "32 square feet is 2.96 square meters.\n"
          ]
        }
      ]
    },
    {
      "cell_type": "code",
      "source": [
        "# user_age = input(\"Enter your age:\")\n",
        "user_age = int(input(\"Enter your age:\"))\n",
        "age_in_days = int(user_age)*365\n",
        "print(f\"Your age in days is {age_in_days}.\")\n",
        "age_in_month = int(user_age)*12\n",
        "print(f\"Your age in days is {age_in_month}.\")"
      ],
      "metadata": {
        "colab": {
          "base_uri": "https://localhost:8080/"
        },
        "id": "2ff7VzGS30RP",
        "outputId": "7c063425-7444-48ef-a890-a8a92dfdbcec"
      },
      "execution_count": 34,
      "outputs": [
        {
          "output_type": "stream",
          "name": "stdout",
          "text": [
            "Enter your age:32\n",
            "Your age in days is 11680.\n",
            "Your age in days is 384.\n"
          ]
        }
      ]
    },
    {
      "cell_type": "code",
      "source": [
        "l = [\"Bob\",\"Rolf\",\"Anne\"]\n",
        "print(l)\n",
        "#you cannot change inside a tuple\n",
        "t=(\"Bob\",\"Rolf\",\"Anne\")\n",
        "print(t)\n",
        "#set, you cannot havedupes\n",
        "s={\"Bob\",\"Rolf\",\"Anne\"}\n",
        "print(s)\n",
        "# print(l[0])\n",
        "# print(t[0])\n",
        "#set cannot have subscript\n",
        "# print(s[0])\n",
        "# l[0] = \"Smith\"\n",
        "\n",
        "# t[0] = \"Anne"
      ],
      "metadata": {
        "colab": {
          "base_uri": "https://localhost:8080/"
        },
        "id": "S1gMQsgZ4C1s",
        "outputId": "d1ac8d89-6d8a-42df-e519-53aa91ce62d8"
      },
      "execution_count": 35,
      "outputs": [
        {
          "output_type": "stream",
          "name": "stdout",
          "text": [
            "['Bob', 'Rolf', 'Anne']\n",
            "('Bob', 'Rolf', 'Anne')\n",
            "{'Bob', 'Rolf', 'Anne'}\n"
          ]
        }
      ]
    },
    {
      "cell_type": "code",
      "source": [
        "print(s[1])"
      ],
      "metadata": {
        "colab": {
          "base_uri": "https://localhost:8080/",
          "height": 141
        },
        "id": "pT6NlRe28Utd",
        "outputId": "faf4dad9-61ed-44f0-85db-0710e047d336"
      },
      "execution_count": 37,
      "outputs": [
        {
          "output_type": "error",
          "ename": "TypeError",
          "evalue": "'set' object is not subscriptable",
          "traceback": [
            "\u001b[0;31m---------------------------------------------------------------------------\u001b[0m",
            "\u001b[0;31mTypeError\u001b[0m                                 Traceback (most recent call last)",
            "\u001b[0;32m<ipython-input-37-c1d0669698c5>\u001b[0m in \u001b[0;36m<cell line: 1>\u001b[0;34m()\u001b[0m\n\u001b[0;32m----> 1\u001b[0;31m \u001b[0mprint\u001b[0m\u001b[0;34m(\u001b[0m\u001b[0ms\u001b[0m\u001b[0;34m[\u001b[0m\u001b[0;36m1\u001b[0m\u001b[0;34m]\u001b[0m\u001b[0;34m)\u001b[0m\u001b[0;34m\u001b[0m\u001b[0;34m\u001b[0m\u001b[0m\n\u001b[0m",
            "\u001b[0;31mTypeError\u001b[0m: 'set' object is not subscriptable"
          ]
        }
      ]
    },
    {
      "cell_type": "code",
      "source": [
        "w = [\"Bob\",\"Rolf\",\"Anne\"]\n",
        "# print(l)\n",
        "\n",
        "w[1] = \"Smith\"\n",
        "print(w)"
      ],
      "metadata": {
        "colab": {
          "base_uri": "https://localhost:8080/"
        },
        "id": "DXH8rWRp5uaH",
        "outputId": "9297c8ea-6ada-4484-e08b-5b978654ee4d"
      },
      "execution_count": 38,
      "outputs": [
        {
          "output_type": "stream",
          "name": "stdout",
          "text": [
            "['Bob', 'Smith', 'Anne']\n"
          ]
        }
      ]
    },
    {
      "cell_type": "code",
      "source": [
        "l.append(\"Smith\")\n",
        "print(l)\n",
        "\n",
        "l.remove(\"Bob\")\n",
        "print(l)"
      ],
      "metadata": {
        "colab": {
          "base_uri": "https://localhost:8080/"
        },
        "id": "NjIOXoGN4nSM",
        "outputId": "0b38a01b-c425-489c-8091-9f6349691dbc"
      },
      "execution_count": 39,
      "outputs": [
        {
          "output_type": "stream",
          "name": "stdout",
          "text": [
            "['Bob', 'Rolf', 'Anne', 'Smith']\n",
            "['Rolf', 'Anne', 'Smith']\n"
          ]
        }
      ]
    },
    {
      "cell_type": "code",
      "source": [
        "print(s)\n",
        "s.add(\"Smith\")\n",
        "s.add(\"Smith\")\n",
        "print(s)\n",
        "#sets cannot have duplicates"
      ],
      "metadata": {
        "colab": {
          "base_uri": "https://localhost:8080/"
        },
        "id": "UtuHAovY61NJ",
        "outputId": "a4d7e7db-e167-4c3c-fd65-11841f62c7f4"
      },
      "execution_count": 40,
      "outputs": [
        {
          "output_type": "stream",
          "name": "stdout",
          "text": [
            "{'Bob', 'Rolf', 'Anne'}\n",
            "{'Bob', 'Rolf', 'Smith', 'Anne'}\n"
          ]
        }
      ]
    },
    {
      "cell_type": "code",
      "source": [
        "friends = {\"Bob\",\"Rolf\",\"Anne\"}\n",
        "abroad = {\"Bob\",\"Anne\"}\n",
        "#finds the difference between friends and abroad\n",
        "local_friends = friends.difference(abroad)\n",
        "print(local_friends)\n",
        "#"
      ],
      "metadata": {
        "colab": {
          "base_uri": "https://localhost:8080/"
        },
        "id": "5s5MtgpV7KJz",
        "outputId": "ca68b226-aaa8-4f47-b18a-e89772d49756"
      },
      "execution_count": 41,
      "outputs": [
        {
          "output_type": "stream",
          "name": "stdout",
          "text": [
            "{'Rolf'}\n"
          ]
        }
      ]
    },
    {
      "cell_type": "code",
      "source": [
        "local = {\"Rolf\"}\n",
        "abroad = {\"Bob\",\"Anne\"}\n",
        "#finds the union between local and abroad\n",
        "friends = local.union(abroad)\n",
        "print(friends)\n",
        "#"
      ],
      "metadata": {
        "colab": {
          "base_uri": "https://localhost:8080/"
        },
        "id": "g7pKM8Iy7i5K",
        "outputId": "5b545782-bc53-47bd-8116-c28e7ca3a5bc"
      },
      "execution_count": 42,
      "outputs": [
        {
          "output_type": "stream",
          "name": "stdout",
          "text": [
            "{'Bob', 'Rolf', 'Anne'}\n"
          ]
        }
      ]
    },
    {
      "cell_type": "code",
      "source": [
        "art={\"Bob\",\"Jen\",\"Rolf\",\"Charlie\"}\n",
        "science = {\"Bob\",\"Jen\",\"Adam\",\"Anne\"}\n",
        "both = art.intersection(science)\n",
        "print(both)\n",
        "#finding out which friends study both art and science"
      ],
      "metadata": {
        "colab": {
          "base_uri": "https://localhost:8080/"
        },
        "id": "cEiIdRhD77ps",
        "outputId": "39e2cd6d-b656-406a-9c60-b398586d5cc0"
      },
      "execution_count": 43,
      "outputs": [
        {
          "output_type": "stream",
          "name": "stdout",
          "text": [
            "{'Jen', 'Bob'}\n"
          ]
        }
      ]
    },
    {
      "cell_type": "code",
      "source": [
        "#booleans\n",
        "print(5 == 5)\n",
        "print(5 > 5)\n",
        "print(10 != 10)"
      ],
      "metadata": {
        "colab": {
          "base_uri": "https://localhost:8080/"
        },
        "id": "85Gngfl279h6",
        "outputId": "d4590d79-4713-4fba-a33c-0479fc8c4a5e"
      },
      "execution_count": 44,
      "outputs": [
        {
          "output_type": "stream",
          "name": "stdout",
          "text": [
            "True\n",
            "False\n",
            "False\n"
          ]
        }
      ]
    },
    {
      "cell_type": "code",
      "source": [
        "friends = [\"Rolf\",\"Bob\"]\n",
        "abroad = [\"Rolf\",\"Bob\"]\n",
        "# print(friends == abroad)\n",
        "print(friends is abroad)\n",
        "#the lists themselves are different"
      ],
      "metadata": {
        "colab": {
          "base_uri": "https://localhost:8080/"
        },
        "id": "oaiHvE0T-L3C",
        "outputId": "a95d4bfc-3270-42da-a05e-2c79290c7cd6"
      },
      "execution_count": 45,
      "outputs": [
        {
          "output_type": "stream",
          "name": "stdout",
          "text": [
            "False\n"
          ]
        }
      ]
    },
    {
      "cell_type": "code",
      "source": [
        "day_of_week = input(\"What day of the week is it today?\").lower()\n",
        "if day_of_week == \"monday\":\n",
        "    print(\"Have a great start to your week!\")\n",
        "elif (day_of_week == \"teusday\"):\n",
        "    print(\"Its chewsday innit?\")\n",
        "else:\n",
        "    print(\"Full speed ahead\")\n",
        "\n",
        "print(day_of_week ==\"Monday\")"
      ],
      "metadata": {
        "colab": {
          "base_uri": "https://localhost:8080/"
        },
        "id": "YYuO6JnL-fWy",
        "outputId": "9133e7ed-6d8d-4405-bbdd-4f0c07588491"
      },
      "execution_count": 46,
      "outputs": [
        {
          "output_type": "stream",
          "name": "stdout",
          "text": [
            "What day of the week is it today?teusday\n",
            "Its chewsday innit?\n",
            "False\n"
          ]
        }
      ]
    },
    {
      "cell_type": "code",
      "source": [
        "#the in keywords\n",
        "friends = [\"Rolf\",\"Bob\",\"Jen\"]\n",
        "print(\"Bob\" in friends)"
      ],
      "metadata": {
        "colab": {
          "base_uri": "https://localhost:8080/"
        },
        "id": "ggt9k-84-4IS",
        "outputId": "7425162c-90dd-4c24-bd0b-ce2b996ddce7"
      },
      "execution_count": 47,
      "outputs": [
        {
          "output_type": "stream",
          "name": "stdout",
          "text": [
            "True\n"
          ]
        }
      ]
    },
    {
      "cell_type": "code",
      "source": [
        "movies_watched = {\"The Matrix\",\"Green Book\",\"Her\"}\n",
        "user_movie = input(\"Enter something you've watched recently\")\n",
        "print(user_movie in movies_watched)\n"
      ],
      "metadata": {
        "colab": {
          "base_uri": "https://localhost:8080/"
        },
        "id": "YQVryOYUATTv",
        "outputId": "f823b9d0-bb95-419c-c7b4-8fbbb022cf1d"
      },
      "execution_count": 48,
      "outputs": [
        {
          "output_type": "stream",
          "name": "stdout",
          "text": [
            "Enter something you've watched recentlyThe Matrix\n",
            "True\n"
          ]
        }
      ]
    },
    {
      "cell_type": "code",
      "source": [
        "movies_watched = {\"The Matrix\",\"Green Book\",\"Her\"}\n",
        "user_movie = input(\"Enter something you've watched recently\")\n",
        "\n",
        "if user_movie in movies_watched:\n",
        "    print(f\"I've watched {user_movie} too!\")\n",
        "else:\n",
        "    print(\"I haven't watched that yet.\")"
      ],
      "metadata": {
        "colab": {
          "base_uri": "https://localhost:8080/"
        },
        "id": "84r6BOXnAYNZ",
        "outputId": "fa94afcf-5f4f-4e65-b7d6-9ad95b0846c7"
      },
      "execution_count": 49,
      "outputs": [
        {
          "output_type": "stream",
          "name": "stdout",
          "text": [
            "Enter something you've watched recentlyHer\n",
            "I've watched Her too!\n"
          ]
        }
      ]
    },
    {
      "cell_type": "code",
      "source": [
        "number = 7\n",
        "user_input = input(\"Enter 'y' if you would like to play:\")\n",
        "if user_input in (\"y\",\"Y\"):\n",
        "    user_number = int(input(\"Guess our number:\"))\n",
        "    if user_number == number:\n",
        "        print(\"You guessed correctly!\")\n",
        "    elif number - user_number in (1, -1):\n",
        "    # elif abs(number - user_number) == 1:\n",
        "\n",
        "        print(\"You were off by one.\")\n",
        "    else:\n",
        "        print(\"Sorry, it's wrong!\")\n",
        "elif user_input != \"y\":\n",
        "    quit()"
      ],
      "metadata": {
        "colab": {
          "base_uri": "https://localhost:8080/"
        },
        "id": "Y8j0afK-Anm5",
        "outputId": "c9364426-c144-4718-a9f5-401348924896"
      },
      "execution_count": 50,
      "outputs": [
        {
          "output_type": "stream",
          "name": "stdout",
          "text": [
            "Enter 'y' if you would like to play:y\n",
            "Guess our number:3\n",
            "Sorry, it's wrong!\n"
          ]
        }
      ]
    },
    {
      "cell_type": "code",
      "source": [
        "number = 7\n",
        "# user_input = input(\"Would you like to play? (Y/n)\")\n",
        "\n",
        "while True:\n",
        "    user_input = input(\"Enter 'y' if you would like to play:\")\n",
        "    if user_input == \"n\":\n",
        "        break\n",
        "\n",
        "\n",
        "    user_number = int(input(\"Guess our number:\"))\n",
        "    if user_number == number:\n",
        "        print(\"You guessed correctly!\")\n",
        "        break\n",
        "    elif number - user_number in (1, -1):\n",
        "        print(\"You were off by one.\")\n",
        "    else:\n",
        "        print(\"Sorry, it's wrong!\")"
      ],
      "metadata": {
        "colab": {
          "base_uri": "https://localhost:8080/"
        },
        "id": "fdeMY_57BD0l",
        "outputId": "205f916f-af2f-4a27-98d8-0b4e43a8ed8a"
      },
      "execution_count": 52,
      "outputs": [
        {
          "name": "stdout",
          "output_type": "stream",
          "text": [
            "Enter 'y' if you would like to play:y\n",
            "Guess our number:10\n",
            "Sorry, it's wrong!\n",
            "Enter 'y' if you would like to play:n\n"
          ]
        }
      ]
    },
    {
      "cell_type": "code",
      "source": [
        "friends = [\"Rolf\",\"Jen\",\"Bob\", \"Anne\"]\n",
        "for friend in friends:\n",
        "    print(f\"{friend} is my friend.\")\n",
        "\n",
        "for i in range(4):\n",
        "    print(f\"{friends[i]} is my friend.\")"
      ],
      "metadata": {
        "colab": {
          "base_uri": "https://localhost:8080/"
        },
        "id": "dT96HxLXDv-_",
        "outputId": "7db2931f-092b-4429-8d6f-f762aff7f48d"
      },
      "execution_count": 53,
      "outputs": [
        {
          "output_type": "stream",
          "name": "stdout",
          "text": [
            "Rolf is my friend.\n",
            "Jen is my friend.\n",
            "Bob is my friend.\n",
            "Anne is my friend.\n",
            "Rolf is my friend.\n",
            "Jen is my friend.\n",
            "Bob is my friend.\n",
            "Anne is my friend.\n"
          ]
        }
      ]
    },
    {
      "cell_type": "code",
      "source": [
        "grades = [35,67,98,100,100]\n",
        "total = 0\n",
        "amount = len(grades)\n",
        "\n",
        "for grade in grades:\n",
        "    total += grade\n",
        "\n",
        "print(total/amount)\n",
        "#"
      ],
      "metadata": {
        "colab": {
          "base_uri": "https://localhost:8080/"
        },
        "id": "8Ec4suvDDzIB",
        "outputId": "a5b91868-38ca-4098-c241-e4b2c43e832e"
      },
      "execution_count": 54,
      "outputs": [
        {
          "output_type": "stream",
          "name": "stdout",
          "text": [
            "80.0\n"
          ]
        }
      ]
    },
    {
      "cell_type": "code",
      "source": [
        "grades = [35,67,98,100,100]\n",
        "total = sum(grades)\n",
        "amount = len(grades)\n",
        "print(total/amount)"
      ],
      "metadata": {
        "colab": {
          "base_uri": "https://localhost:8080/"
        },
        "id": "K6n3juqjEsZc",
        "outputId": "d8a75205-b780-4cd5-f1ed-ff06faa779bd"
      },
      "execution_count": 55,
      "outputs": [
        {
          "output_type": "stream",
          "name": "stdout",
          "text": [
            "80.0\n"
          ]
        }
      ]
    },
    {
      "cell_type": "code",
      "source": [
        "numbers = [1,3,5]\n",
        "doubled = [x*2 for x in numbers]\n",
        "print(doubled)\n"
      ],
      "metadata": {
        "colab": {
          "base_uri": "https://localhost:8080/"
        },
        "id": "PyReJQBGFDwl",
        "outputId": "e13e798a-2adb-4f05-ad25-a0f3c774cb63"
      },
      "execution_count": 56,
      "outputs": [
        {
          "output_type": "stream",
          "name": "stdout",
          "text": [
            "[2, 6, 10]\n"
          ]
        }
      ]
    },
    {
      "cell_type": "code",
      "source": [
        "friends = [\"Rolf\",\"Sam\",\"Samantha\",\"Saurabh\",\"Jen\"]\n",
        "starts_s = [friend for friend in friends if friend.startswith(\"S\")]\n",
        "print(starts_s)\n",
        "#\n",
        "print(\"friends: \", id(friends), \" starts_s: \", id(starts_s))"
      ],
      "metadata": {
        "colab": {
          "base_uri": "https://localhost:8080/"
        },
        "id": "Dsp5iwylGp39",
        "outputId": "eb0a875f-c724-45a9-a10d-43316763f3a9"
      },
      "execution_count": 57,
      "outputs": [
        {
          "output_type": "stream",
          "name": "stdout",
          "text": [
            "['Sam', 'Samantha', 'Saurabh']\n",
            "friends:  139761086814400  starts_s:  139761087934912\n"
          ]
        }
      ]
    },
    {
      "cell_type": "code",
      "source": [
        "#dictionaries\n",
        "friend_ages = {\"Rolf\":24,\"Adam\":30,\"Anne\":27}\n",
        "friend_ages[\"Bob\"] = 20\n",
        "print(friend_ages)"
      ],
      "metadata": {
        "colab": {
          "base_uri": "https://localhost:8080/"
        },
        "id": "ZE-SLQ2LG9XA",
        "outputId": "cbd35daa-9a24-44b4-d5b2-0e59d437e140"
      },
      "execution_count": 58,
      "outputs": [
        {
          "output_type": "stream",
          "name": "stdout",
          "text": [
            "{'Rolf': 24, 'Adam': 30, 'Anne': 27, 'Bob': 20}\n"
          ]
        }
      ]
    },
    {
      "cell_type": "code",
      "source": [
        "friends = [\n",
        "    {\"name\":\"Rolf\",\"age\":24},\n",
        "    {\"name\":\"Adam\",\"age\":30},\n",
        "    {\"name\":\"Anne\",\"age\":27}\n",
        "]\n",
        "print(friends[0][\"name\"])\n",
        "#"
      ],
      "metadata": {
        "colab": {
          "base_uri": "https://localhost:8080/"
        },
        "id": "VwK7p7fOIiu8",
        "outputId": "4053039f-98ff-4f0e-baf0-acf3d380e1fe"
      },
      "execution_count": 59,
      "outputs": [
        {
          "output_type": "stream",
          "name": "stdout",
          "text": [
            "Rolf\n"
          ]
        }
      ]
    },
    {
      "cell_type": "code",
      "source": [
        "student_attendance = {\"Rolf\":96,\"Bob\":80,\"Anne\":100}\n",
        "for student,attendance in student_attendance.items():\n",
        "    # print(f\"{student}: {student_attendance[student]}%\")\n",
        "    print(f\"{student}: {attendance}%\")\n",
        "\n",
        "#"
      ],
      "metadata": {
        "colab": {
          "base_uri": "https://localhost:8080/"
        },
        "id": "9gA91cXcI46C",
        "outputId": "a6bc688d-26e5-4506-d6a6-523180ef7a56"
      },
      "execution_count": 60,
      "outputs": [
        {
          "output_type": "stream",
          "name": "stdout",
          "text": [
            "Rolf: 96%\n",
            "Bob: 80%\n",
            "Anne: 100%\n"
          ]
        }
      ]
    },
    {
      "cell_type": "code",
      "source": [
        "student_attendance = {\"Rolf\":96,\"Bob\":80,\"Anne\":100}\n",
        "\n",
        "if \"Bob\" in student_attendance:\n",
        "    print(f\"Bob: {student_attendance['Bob']}\")\n",
        "else:\n",
        "    print(\"Bob isn't a student in this class!\")\n",
        "\n",
        "attendance_values = student_attendance.values()\n",
        "print(sum(attendance_values)/len(attendance_values))\n",
        "#"
      ],
      "metadata": {
        "colab": {
          "base_uri": "https://localhost:8080/"
        },
        "id": "61tgL2VSJPx2",
        "outputId": "db41e61e-6507-4e02-89c2-244e5f703d1b"
      },
      "execution_count": 61,
      "outputs": [
        {
          "output_type": "stream",
          "name": "stdout",
          "text": [
            "Bob: 80\n",
            "92.0\n"
          ]
        }
      ]
    },
    {
      "cell_type": "code",
      "source": [
        "t=5,11\n",
        "x, y = t\n",
        "print(x,y)"
      ],
      "metadata": {
        "colab": {
          "base_uri": "https://localhost:8080/"
        },
        "id": "SNIQRirLKHpe",
        "outputId": "82e0cbb5-dc6c-4dfe-ff31-1989bd9cf01e"
      },
      "execution_count": 62,
      "outputs": [
        {
          "output_type": "stream",
          "name": "stdout",
          "text": [
            "5 11\n"
          ]
        }
      ]
    },
    {
      "cell_type": "code",
      "source": [
        "student_attendance = {\"Rolf\":96,\"Bob\":80,\"Anne\":100}\n",
        "print(list(student_attendance.items()))\n",
        "\n",
        "for student, attendance in student_attendance.items():\n",
        "    print(f\"{student}:{attendance}\")\n",
        "\n",
        "# for t in student_attendance.items():\n",
        "#     print (t)"
      ],
      "metadata": {
        "colab": {
          "base_uri": "https://localhost:8080/"
        },
        "id": "ooYHjnw9NNxS",
        "outputId": "5f736ecd-c86e-4c9b-a557-d8b9117bf5a2"
      },
      "execution_count": 63,
      "outputs": [
        {
          "output_type": "stream",
          "name": "stdout",
          "text": [
            "[('Rolf', 96), ('Bob', 80), ('Anne', 100)]\n",
            "Rolf:96\n",
            "Bob:80\n",
            "Anne:100\n"
          ]
        }
      ]
    },
    {
      "cell_type": "code",
      "source": [
        "people = [(\"Bob\",42,\"Mechanic\"),(\"James\",24,\"Artist\"),(\"Harry\",32,\"Lecturer\")]\n",
        "\n",
        "for name, age, profession in people:\n",
        "    print(f\"Name:{name}, Age:{age}, Profession:{profession}\")\n",
        "#"
      ],
      "metadata": {
        "colab": {
          "base_uri": "https://localhost:8080/"
        },
        "id": "aDqfw6vINwwA",
        "outputId": "df95881a-51a0-447b-adb1-040e6b7a426b"
      },
      "execution_count": 64,
      "outputs": [
        {
          "output_type": "stream",
          "name": "stdout",
          "text": [
            "Name:Bob, Age:42, Profession:Mechanic\n",
            "Name:James, Age:24, Profession:Artist\n",
            "Name:Harry, Age:32, Profession:Lecturer\n"
          ]
        }
      ]
    },
    {
      "cell_type": "code",
      "source": [
        "person =(\"Bob\",42,\"Mechanic\")\n",
        "name,_,profession = person\n",
        "print(name,profession)"
      ],
      "metadata": {
        "colab": {
          "base_uri": "https://localhost:8080/"
        },
        "id": "XUYnVm4UORKz",
        "outputId": "00aee85c-9b25-4870-b3b9-8b383f2e5438"
      },
      "execution_count": 65,
      "outputs": [
        {
          "output_type": "stream",
          "name": "stdout",
          "text": [
            "Bob Mechanic\n"
          ]
        }
      ]
    },
    {
      "cell_type": "code",
      "source": [
        "head, *tail = [1,2,3,4,5]\n",
        "print(head)\n",
        "print(tail)"
      ],
      "metadata": {
        "colab": {
          "base_uri": "https://localhost:8080/"
        },
        "id": "FuNtaCyPPKdp",
        "outputId": "971b4e73-ffcb-40df-bf55-acde3498a636"
      },
      "execution_count": 66,
      "outputs": [
        {
          "output_type": "stream",
          "name": "stdout",
          "text": [
            "1\n",
            "[2, 3, 4, 5]\n"
          ]
        }
      ]
    },
    {
      "cell_type": "code",
      "source": [
        "def hello():\n",
        "    print(\"Hello!\")\n",
        "\n",
        "hello()"
      ],
      "metadata": {
        "colab": {
          "base_uri": "https://localhost:8080/"
        },
        "id": "tTgU4rgIPYVJ",
        "outputId": "0c5f8894-d18e-444d-c5c6-2380c7da0326"
      },
      "execution_count": 67,
      "outputs": [
        {
          "output_type": "stream",
          "name": "stdout",
          "text": [
            "Hello!\n"
          ]
        }
      ]
    },
    {
      "cell_type": "code",
      "source": [
        "def user_age_in_seconds():\n",
        "    user_age = int(input(\"Enter you age:\"))\n",
        "    age_seconds = user_age*365*24*60*60\n",
        "    print(f\"Your age in seconds is {age_seconds}.\")\n",
        "\n",
        "user_age_in_seconds()"
      ],
      "metadata": {
        "colab": {
          "base_uri": "https://localhost:8080/"
        },
        "id": "7ZmBUkiiQMqg",
        "outputId": "87001692-0ad7-4df7-ba44-2f29c9e3c2c0"
      },
      "execution_count": 68,
      "outputs": [
        {
          "output_type": "stream",
          "name": "stdout",
          "text": [
            "Enter you age:32\n",
            "Your age in seconds is 1009152000.\n"
          ]
        }
      ]
    },
    {
      "cell_type": "code",
      "source": [
        "friends = [\"Rolf\",\"Bob\"]\n",
        "\n",
        "def add_friend():\n",
        "    friend_name = input(\"Enter your friend name:\")\n",
        "    friends.append(friend_name)\n",
        "\n",
        "add_friend()"
      ],
      "metadata": {
        "colab": {
          "base_uri": "https://localhost:8080/"
        },
        "id": "l2DHLMsYQqNw",
        "outputId": "1caeabda-2bfd-4a61-da18-1c95dac0a2ef"
      },
      "execution_count": 69,
      "outputs": [
        {
          "name": "stdout",
          "output_type": "stream",
          "text": [
            "Enter your friend name:Rolg\n"
          ]
        }
      ]
    },
    {
      "cell_type": "code",
      "source": [
        "#del print"
      ],
      "metadata": {
        "id": "YSUJT_UwSVBe"
      },
      "execution_count": 71,
      "outputs": []
    },
    {
      "cell_type": "code",
      "source": [
        "def add_friend():\n",
        "    friends.append(\"Rolf\")\n",
        "\n",
        "friends=[]\n",
        "add_friend()\n",
        "add_friend()\n",
        "add_friend()\n",
        "\n",
        "print(friends)"
      ],
      "metadata": {
        "colab": {
          "base_uri": "https://localhost:8080/"
        },
        "id": "msBr1dsaRSp3",
        "outputId": "2eef7a03-4233-4427-e9a6-6b639528c122"
      },
      "execution_count": 72,
      "outputs": [
        {
          "output_type": "stream",
          "name": "stdout",
          "text": [
            "['Rolf', 'Rolf', 'Rolf']\n"
          ]
        }
      ]
    },
    {
      "cell_type": "code",
      "source": [
        "def add(x,y):\n",
        "    result = x+y\n",
        "    return result\n",
        "\n",
        "add(5,3)"
      ],
      "metadata": {
        "colab": {
          "base_uri": "https://localhost:8080/"
        },
        "id": "Mp7b5wMyR4xx",
        "outputId": "43d0873a-6f15-4967-9937-66d437abdfa6"
      },
      "execution_count": 73,
      "outputs": [
        {
          "output_type": "execute_result",
          "data": {
            "text/plain": [
              "8"
            ]
          },
          "metadata": {},
          "execution_count": 73
        }
      ]
    },
    {
      "cell_type": "code",
      "source": [
        "def say_hello(name):\n",
        "    print(f\"Hello {name}\")\n",
        "\n",
        "say_hello(\"Bob\")"
      ],
      "metadata": {
        "colab": {
          "base_uri": "https://localhost:8080/"
        },
        "id": "Kk9JJuIHTG4U",
        "outputId": "75e8ce68-7c39-45af-9ca5-e819d3e748c2"
      },
      "execution_count": 74,
      "outputs": [
        {
          "output_type": "stream",
          "name": "stdout",
          "text": [
            "Hello Bob\n"
          ]
        }
      ]
    },
    {
      "cell_type": "code",
      "source": [
        "def say_hello(name,surname):\n",
        "    print(f\"Hello {name} {surname}\")\n",
        "\n",
        "\n",
        "say_hello(surname = \"Bob\",name = \"Smith\")"
      ],
      "metadata": {
        "colab": {
          "base_uri": "https://localhost:8080/"
        },
        "id": "oH3EzT5QTNRb",
        "outputId": "4d5db33d-ea48-4db1-d795-abb289151765"
      },
      "execution_count": 75,
      "outputs": [
        {
          "output_type": "stream",
          "name": "stdout",
          "text": [
            "Hello Smith Bob\n"
          ]
        }
      ]
    },
    {
      "cell_type": "code",
      "source": [
        "def divide(dividend, divisor):\n",
        "    if divisor != 0:\n",
        "        return dividend/divisor\n",
        "    else:\n",
        "        return \"You fool!\"\n",
        "\n",
        "divide(dividend=15, divisor=0)"
      ],
      "metadata": {
        "colab": {
          "base_uri": "https://localhost:8080/",
          "height": 35
        },
        "id": "Nvzo81_5TpAx",
        "outputId": "2bc08e94-725b-4a93-b2ff-e91c51f38117"
      },
      "execution_count": 76,
      "outputs": [
        {
          "output_type": "execute_result",
          "data": {
            "text/plain": [
              "'You fool!'"
            ],
            "application/vnd.google.colaboratory.intrinsic+json": {
              "type": "string"
            }
          },
          "metadata": {},
          "execution_count": 76
        }
      ]
    },
    {
      "cell_type": "code",
      "source": [
        "def add(x,y=8):\n",
        "    return x+y\n",
        "    print(\"This shouldn't print\")\n",
        "\n",
        "add(5,90)"
      ],
      "metadata": {
        "colab": {
          "base_uri": "https://localhost:8080/"
        },
        "id": "HJDO2eftT-Bs",
        "outputId": "359b294e-b67b-4362-de6a-eb8c5d506675"
      },
      "execution_count": 77,
      "outputs": [
        {
          "output_type": "execute_result",
          "data": {
            "text/plain": [
              "95"
            ]
          },
          "metadata": {},
          "execution_count": 77
        }
      ]
    },
    {
      "cell_type": "code",
      "source": [
        "default_y = 5\n",
        "def add(x,y=default_y):\n",
        "    return x+y\n",
        "\n",
        "add(2)\n",
        "#"
      ],
      "metadata": {
        "colab": {
          "base_uri": "https://localhost:8080/"
        },
        "id": "SRTB8v8wUv0X",
        "outputId": "127fb6c2-4b02-4a42-8790-51ba4f65f800"
      },
      "execution_count": 78,
      "outputs": [
        {
          "output_type": "execute_result",
          "data": {
            "text/plain": [
              "7"
            ]
          },
          "metadata": {},
          "execution_count": 78
        }
      ]
    },
    {
      "cell_type": "code",
      "source": [
        "def add(x,y):\n",
        "  return (x+y)\n",
        "\n",
        "add(5,3)\n",
        "result = add(5,3)\n",
        "print(result)"
      ],
      "metadata": {
        "colab": {
          "base_uri": "https://localhost:8080/"
        },
        "id": "Q6xYAEFGVG7P",
        "outputId": "8ef530a1-3881-4cd1-8dec-4dcc8429b6c7"
      },
      "execution_count": 79,
      "outputs": [
        {
          "output_type": "stream",
          "name": "stdout",
          "text": [
            "8\n"
          ]
        }
      ]
    },
    {
      "cell_type": "code",
      "source": [
        "def divide(dividend, divisor):\n",
        "    if divisor != 0:\n",
        "        return dividend/divisor\n",
        "    else:\n",
        "        return \"You fool!\"\n",
        "        print(\"This won't print\")\n",
        "\n",
        "\n",
        "result=divide(15,0)\n",
        "print(result)\n",
        "#"
      ],
      "metadata": {
        "colab": {
          "base_uri": "https://localhost:8080/"
        },
        "id": "CGzhO79Emdde",
        "outputId": "7446fc1d-cfcc-4bd8-959d-f010c5397a9a"
      },
      "execution_count": 80,
      "outputs": [
        {
          "output_type": "stream",
          "name": "stdout",
          "text": [
            "You fool!\n"
          ]
        }
      ]
    },
    {
      "cell_type": "code",
      "source": [
        "#lambda functions, only for return values\n",
        "#only input outputs\n",
        "\n",
        "def add(x,y):\n",
        "    return x+y\n",
        "\n",
        "add = lambda x,y: x+y\n",
        "\n",
        "print(add(5,3))"
      ],
      "metadata": {
        "colab": {
          "base_uri": "https://localhost:8080/"
        },
        "id": "SpCEme8pnTWO",
        "outputId": "1f1e22cb-798c-4aff-fe1e-25c493660e99"
      },
      "execution_count": 81,
      "outputs": [
        {
          "output_type": "stream",
          "name": "stdout",
          "text": [
            "8\n"
          ]
        }
      ]
    },
    {
      "cell_type": "code",
      "source": [
        "(lambda x,y: x+y)(5,3)"
      ],
      "metadata": {
        "colab": {
          "base_uri": "https://localhost:8080/"
        },
        "id": "7yCWyXlopMI-",
        "outputId": "e6382585-bdde-4855-8fdb-fd2f5c3aea81"
      },
      "execution_count": 82,
      "outputs": [
        {
          "output_type": "execute_result",
          "data": {
            "text/plain": [
              "8"
            ]
          },
          "metadata": {},
          "execution_count": 82
        }
      ]
    },
    {
      "cell_type": "code",
      "source": [
        "def double(x):\n",
        "    return x*2\n",
        "\n",
        "# double = lambda x: x*2\n",
        "\n",
        "# print(double(5))\n",
        "\n",
        "sequence = [1,3,5,9]\n",
        "doubled = [double(x) for x in sequence]\n",
        "print(doubled)\n",
        "#make it a list if you want to actually see the values\n",
        "doubled=list(map(lambda x:x*2,sequence))\n",
        "print(doubled)"
      ],
      "metadata": {
        "colab": {
          "base_uri": "https://localhost:8080/"
        },
        "id": "grRbjMqvphs3",
        "outputId": "27736cc2-5311-4952-a077-217b2b950353"
      },
      "execution_count": 83,
      "outputs": [
        {
          "output_type": "stream",
          "name": "stdout",
          "text": [
            "[2, 6, 10, 18]\n",
            "[2, 6, 10, 18]\n"
          ]
        }
      ]
    },
    {
      "cell_type": "code",
      "source": [
        "users = [\n",
        "    (0,\"Bob\",\"password\"),\n",
        "    (1,\"Rolf\",\"bob123\"),\n",
        "    (2,\"Jose\",\"longp4assword\"),\n",
        "    (3,\"username\",\"1234\")\n",
        "]\n",
        "username_mapping = {user[1]:user for user in users}\n",
        "print(username_mapping)"
      ],
      "metadata": {
        "colab": {
          "base_uri": "https://localhost:8080/"
        },
        "id": "FRVlgmL5prkh",
        "outputId": "00a9cd53-f49f-48bd-dbb9-f8c37a6fa4d2"
      },
      "execution_count": 84,
      "outputs": [
        {
          "output_type": "stream",
          "name": "stdout",
          "text": [
            "{'Bob': (0, 'Bob', 'password'), 'Rolf': (1, 'Rolf', 'bob123'), 'Jose': (2, 'Jose', 'longp4assword'), 'username': (3, 'username', '1234')}\n"
          ]
        }
      ]
    },
    {
      "cell_type": "code",
      "source": [
        "users = [\n",
        "    (0,\"Bob\",\"password\"),\n",
        "    (1,\"Rolf\",\"bob123\"),\n",
        "    (2,\"Jose\",\"longp4assword\"),\n",
        "    (3,\"username\",\"1234\")\n",
        "]\n",
        "username_mapping = {user[1]:user for user in users}\n",
        "\n",
        "username_input = input(\"Enter your username:\")\n",
        "password_input = input(\"Enter your password:\")\n",
        "\n",
        "_, username, password = username_mapping[username_input]\n",
        "\n",
        "if password_input == password:\n",
        "    print(\"Your details are correct!\")\n",
        "else:\n",
        "    print(\"Your details are incorrect!\")"
      ],
      "metadata": {
        "colab": {
          "base_uri": "https://localhost:8080/"
        },
        "id": "1W4PI6bQqhjv",
        "outputId": "813ce8a8-aac3-4a20-90dd-1c84ebd9b9cd"
      },
      "execution_count": 85,
      "outputs": [
        {
          "output_type": "stream",
          "name": "stdout",
          "text": [
            "Enter your username:Bob\n",
            "Enter your password:password\n",
            "Your details are correct!\n"
          ]
        }
      ]
    },
    {
      "cell_type": "code",
      "source": [
        "#create a dictionary\n",
        "student = {\n",
        "    'name': 'Jose',\n",
        "    'school': 'Computing',\n",
        "    'grades': (66, 77, 88)\n",
        "}\n"
      ],
      "metadata": {
        "id": "KzHnf41Rq8WH"
      },
      "execution_count": 86,
      "outputs": []
    },
    {
      "cell_type": "code",
      "source": [
        "#modify grade function\n",
        "def average_grade(data):\n",
        "    grades = data['grades']  # Access the 'grades' key from the data dictionary\n",
        "    return sum(grades) / len(grades)  # Return the average\n"
      ],
      "metadata": {
        "id": "i8S3WVjLuCyG"
      },
      "execution_count": 87,
      "outputs": []
    },
    {
      "cell_type": "code",
      "source": [
        "#add all grades\n",
        "def average_grade_all_students(student_list):\n",
        "    total = 0\n",
        "    count = 0\n",
        "    for student in student_list:\n",
        "        grades = student['grades']  # Access the 'grades' for each student\n",
        "        total += sum(grades)  # Add the sum of grades for the current student to total\n",
        "        count += len(grades)  # Add the number of grades for the current student to count\n",
        "\n",
        "    # Return the average grade for the entire class\n",
        "    return total / count if count > 0 else 0\n"
      ],
      "metadata": {
        "id": "6OrRB_SnuG7d"
      },
      "execution_count": 88,
      "outputs": []
    },
    {
      "cell_type": "code",
      "source": [
        "def multiply(*args):\n",
        "    total = 1\n",
        "    for arg in args:\n",
        "        total *= arg\n",
        "    return total\n",
        "\n",
        "print(multiply(1,3,5))\n",
        "#* means it takes any number of arguments"
      ],
      "metadata": {
        "colab": {
          "base_uri": "https://localhost:8080/"
        },
        "id": "B0mudyEHvZUl",
        "outputId": "60d718f2-8500-4be5-c00b-c83ea834833f"
      },
      "execution_count": 89,
      "outputs": [
        {
          "output_type": "stream",
          "name": "stdout",
          "text": [
            "15\n"
          ]
        }
      ]
    },
    {
      "cell_type": "code",
      "source": [
        "def add(x,y):\n",
        "    return x+y\n",
        "\n",
        "# nums = [3,5]\n",
        "nums = {\"x\":15, \"y\":25}\n",
        "print(add(**nums))\n",
        "#print(add(nums))\n",
        "#split the nums into x and y below\n",
        "# print(add(*nums))"
      ],
      "metadata": {
        "colab": {
          "base_uri": "https://localhost:8080/"
        },
        "id": "Zx8rGJPZvofI",
        "outputId": "f17f37ea-8dee-43df-f66d-762c2774808c"
      },
      "execution_count": 90,
      "outputs": [
        {
          "output_type": "stream",
          "name": "stdout",
          "text": [
            "40\n"
          ]
        }
      ]
    },
    {
      "cell_type": "code",
      "source": [
        "def multiply(*args):\n",
        "    print(args)\n",
        "    total = 1\n",
        "    for arg in args:\n",
        "        total *= arg\n",
        "    return total\n",
        "\n",
        "def apply(*args, operator):\n",
        "    if operator == \"*\":\n",
        "        return multiply(*args)\n",
        "    elif operator == \"+\":\n",
        "        return sum(args)\n",
        "    else:\n",
        "        return \"No valid operator provided to apply().\"\n",
        "\n",
        "print(apply(1,3,6,7, operator=\"*\"))"
      ],
      "metadata": {
        "colab": {
          "base_uri": "https://localhost:8080/"
        },
        "id": "WF6nGmg8wers",
        "outputId": "a254b164-7c0d-479b-e7fd-bd6ae3a51e42"
      },
      "execution_count": 91,
      "outputs": [
        {
          "output_type": "stream",
          "name": "stdout",
          "text": [
            "(1, 3, 6, 7)\n",
            "126\n"
          ]
        }
      ]
    },
    {
      "cell_type": "code",
      "source": [
        "#unpacking keyword arguments\n",
        "def named(**kwargs):\n",
        "    print(kwargs)\n",
        "\n",
        "named(name=\"Bob\",age=25)"
      ],
      "metadata": {
        "colab": {
          "base_uri": "https://localhost:8080/"
        },
        "id": "cy_QE9QjxJfV",
        "outputId": "eb99cfdd-0a6a-4922-8401-98ae61344b5d"
      },
      "execution_count": 92,
      "outputs": [
        {
          "output_type": "stream",
          "name": "stdout",
          "text": [
            "{'name': 'Bob', 'age': 25}\n"
          ]
        }
      ]
    },
    {
      "cell_type": "code",
      "source": [
        "def named(name, age):\n",
        "    print(name,age)\n",
        "\n",
        "details = {\"name\":\"Bob\",\"age\":25}\n",
        "named(**details)"
      ],
      "metadata": {
        "colab": {
          "base_uri": "https://localhost:8080/"
        },
        "id": "377LaqrE0bNS",
        "outputId": "bc03c4b5-4921-48b6-fa7a-1aad6def7627"
      },
      "execution_count": 93,
      "outputs": [
        {
          "output_type": "stream",
          "name": "stdout",
          "text": [
            "Bob 25\n"
          ]
        }
      ]
    },
    {
      "cell_type": "code",
      "source": [
        "def named(**kwargs):\n",
        "    print(kwargs)\n",
        "\n",
        "def print_nicely(**kwargs):\n",
        "    named(**kwargs)\n",
        "    for arg, value in kwargs.items():\n",
        "        print(f\"{arg}:{value}\")\n",
        "\n",
        "print_nicely(name=\"Bob\",age=25)\n",
        "#the items is for dictionaries"
      ],
      "metadata": {
        "colab": {
          "base_uri": "https://localhost:8080/"
        },
        "id": "MJCTZvIH0q1c",
        "outputId": "ae28546b-6176-4f77-d133-1a83cc8ae4bf"
      },
      "execution_count": 94,
      "outputs": [
        {
          "output_type": "stream",
          "name": "stdout",
          "text": [
            "{'name': 'Bob', 'age': 25}\n",
            "name:Bob\n",
            "age:25\n"
          ]
        }
      ]
    },
    {
      "cell_type": "code",
      "source": [
        "def both(*args, **kwargs):\n",
        "    print(args)\n",
        "    print(kwargs)\n",
        "\n",
        "both(1,3,5,name=\"Bob\",age=25)\n",
        "#** is always a dictionary"
      ],
      "metadata": {
        "colab": {
          "base_uri": "https://localhost:8080/"
        },
        "id": "G5d0YRYu1cYd",
        "outputId": "58396a74-d3f3-400f-dbcd-2f6513117835"
      },
      "execution_count": 95,
      "outputs": [
        {
          "output_type": "stream",
          "name": "stdout",
          "text": [
            "(1, 3, 5)\n",
            "{'name': 'Bob', 'age': 25}\n"
          ]
        }
      ]
    },
    {
      "cell_type": "markdown",
      "source": [
        "#Object Oriented Programming"
      ],
      "metadata": {
        "id": "OZdzvyi63WgB"
      }
    },
    {
      "cell_type": "code",
      "source": [
        "student = {\"name\":\"Rolf\",\"grades\":(89,90,93,78,90)}\n",
        "\n",
        "def average(sequence):\n",
        "    return sum(sequence)/len(sequence)\n",
        "\n",
        "print(average(student[\"grades\"]))\n",
        "#the function does notr know anything about the student\n",
        "#its better if we ask specific average about the student\n",
        "# print(student.average())"
      ],
      "metadata": {
        "colab": {
          "base_uri": "https://localhost:8080/"
        },
        "id": "GlIVH8yT22lI",
        "outputId": "6ccae6b4-2cdb-4c49-8d7c-d7d167ce42ab"
      },
      "execution_count": 96,
      "outputs": [
        {
          "output_type": "stream",
          "name": "stdout",
          "text": [
            "88.0\n"
          ]
        }
      ]
    },
    {
      "cell_type": "code",
      "source": [
        "class Student:\n",
        "  #defining how a student will behave\n",
        "  def __init__(self):\n",
        "    self.name = \"Rolf\"\n",
        "    self.grades = (89,90,93,78,90)\n",
        "\n",
        "  def average_grade(self):\n",
        "    return sum(self.grades)/len(self.grades)\n",
        "\n",
        "student = Student()\n",
        "print(student.name)\n",
        "print(student.grades)\n",
        "# print(Student.average(student))\n",
        "print(student.average_grade())\n",
        "#"
      ],
      "metadata": {
        "colab": {
          "base_uri": "https://localhost:8080/"
        },
        "id": "BeFgBFBI-jhZ",
        "outputId": "16c38390-0bbc-4090-d19b-26a96dac640c"
      },
      "execution_count": 97,
      "outputs": [
        {
          "output_type": "stream",
          "name": "stdout",
          "text": [
            "Rolf\n",
            "(89, 90, 93, 78, 90)\n",
            "88.0\n"
          ]
        }
      ]
    },
    {
      "cell_type": "code",
      "source": [
        "class Student:\n",
        "  #defining how a student will behave\n",
        "  def __init__(self,name,grades):\n",
        "    self.name = name\n",
        "    self.grades = grades\n",
        "\n",
        "  def average_grade(self):\n",
        "    return sum(self.grades)/len(self.grades)\n",
        "\n",
        "student = Student(\"Bob\", (100,100,93,78,90))\n",
        "student2 = Student(\"Rolf\", (89,90,93,78,90))\n",
        "# print(student.name)\n",
        "# print(student.grades)\n",
        "print(Student.average_grade(student2))\n",
        "print(student2.average_grade())\n",
        "# print(student2.average_grade())\n",
        "#"
      ],
      "metadata": {
        "colab": {
          "base_uri": "https://localhost:8080/"
        },
        "id": "W9baS6_w_-Jx",
        "outputId": "dad0fe26-29aa-43df-8584-5ae6703ccb1f"
      },
      "execution_count": 98,
      "outputs": [
        {
          "output_type": "stream",
          "name": "stdout",
          "text": [
            "88.0\n",
            "88.0\n"
          ]
        }
      ]
    },
    {
      "cell_type": "markdown",
      "source": [
        "##__str__ and __repr__ methods"
      ],
      "metadata": {
        "id": "jYe9kkgzDHCQ"
      }
    },
    {
      "cell_type": "code",
      "source": [
        "class Person:\n",
        "  def __init__(self,name,age):\n",
        "      self.name = name\n",
        "      self.age = age\n",
        "\n",
        "  # def __str__(self):\n",
        "  #   return f\"Person {self.name}, {self.age} years old.\"\n",
        "  def __repr__(self):\n",
        "    return f\"<Person({self.name},{self.age})>\"\n",
        "    # return \"Hellow\"\n",
        "\n",
        "\n",
        "\n",
        "bob = Person(\"Bob\",35)\n",
        "print(bob)\n",
        "\n",
        "#str method is to turn your object into a string\n",
        "#repr is when to print an unambiguous representation of an object"
      ],
      "metadata": {
        "colab": {
          "base_uri": "https://localhost:8080/"
        },
        "id": "aQ37q1JZDKat",
        "outputId": "4cf8bbdb-5158-44ed-c8b3-7bd1a9e96e17"
      },
      "execution_count": 99,
      "outputs": [
        {
          "output_type": "stream",
          "name": "stdout",
          "text": [
            "<Person(Bob,35)>\n"
          ]
        }
      ]
    },
    {
      "cell_type": "code",
      "source": [
        "class Store:\n",
        "  def __init__(self,name):\n",
        "    self.name = name\n",
        "    self.items = []\n",
        "  #make init method, it only takes name, and it should initialise name and self items\n",
        "  #store object will always have these two properties\n",
        "  def add_item(self,name,price):\n",
        "    item = {'name':name, 'price':price}\n",
        "    self.items.append(item)\n",
        "\n",
        "  def stock_price(self):\n",
        "    # total = 0\n",
        "    # for item in self.items:\n",
        "    #   total += item['price']\n",
        "    # return total\n",
        "\n",
        "    return sum([item['price'] for item in self.items])\n",
        "\n",
        "    #it creates a diuctionary with keys name and price which appends to self items\n",
        "    #this dictionary will have name and price"
      ],
      "metadata": {
        "id": "drIJ1c7VDSuh"
      },
      "execution_count": 100,
      "outputs": []
    },
    {
      "cell_type": "markdown",
      "source": [
        "#classmethod and static method"
      ],
      "metadata": {
        "id": "KWxfrjS00Wd4"
      }
    },
    {
      "cell_type": "code",
      "source": [
        "class ClassTest:\n",
        "  def instance_method(self):\n",
        "    print(f\"Called instance_method of {self}\")\n",
        "\n",
        "# test = ClassTest()\n",
        "# test.instance_method()\n",
        "#instance method means called on class instance\n",
        "\n",
        "  @classmethod\n",
        "  def class_method(cls):\n",
        "    print(f\"Called class_method of {cls}\")\n",
        "\n",
        "  @staticmethod\n",
        "  def static_method():\n",
        "    print(\"Called static_method.\")\n",
        "\n",
        "ClassTest.class_method()\n",
        "ClassTest.static_method()\n",
        "#instance method used for most things\n",
        "#"
      ],
      "metadata": {
        "colab": {
          "base_uri": "https://localhost:8080/"
        },
        "id": "iLVeX70a0slJ",
        "outputId": "343e7124-79ef-4ad7-b55a-e7e52ee0dd21"
      },
      "execution_count": 101,
      "outputs": [
        {
          "output_type": "stream",
          "name": "stdout",
          "text": [
            "Called class_method of <class '__main__.ClassTest'>\n",
            "Called static_method.\n"
          ]
        }
      ]
    },
    {
      "cell_type": "code",
      "source": [
        "class Book:\n",
        "  TYPES = (\"hardcover\",\"paperback\")\n",
        "  def __init__(self,name,book_type,weight):\n",
        "    self.name = name\n",
        "    self.book_type = book_type\n",
        "    self.weight = weight\n",
        "\n",
        "  def __repr__(self):\n",
        "    return f\"<Book {self.name},{self.book_type},{self.weight}g>\"\n",
        "\n",
        "  @classmethod\n",
        "  def hardcover(cls,name,page_weight):\n",
        "    return cls(name,cls.TYPES[0],page_weight+100)\n",
        "\n",
        "  @classmethod\n",
        "  def paperback(cls,name,page_weight):\n",
        "    return cls(name,cls.TYPES[1],page_weight)\n",
        "\n",
        "# print(Book.TYPES)\n",
        "# book = Book(\"Harry Potter\",\"comic book\",1500)\n",
        "book = Book.hardcover(\"Harry Potter\",1500)\n",
        "light = Book.paperback(\"Python101\",1500)\n",
        "print(book)\n",
        "print(light)\n",
        "#"
      ],
      "metadata": {
        "colab": {
          "base_uri": "https://localhost:8080/"
        },
        "id": "PrbQOcVP30MD",
        "outputId": "1c4c29cf-a6b5-4cb1-d444-d0f6dde47a6f"
      },
      "execution_count": 102,
      "outputs": [
        {
          "output_type": "stream",
          "name": "stdout",
          "text": [
            "<Book Harry Potter,hardcover,1600g>\n",
            "<Book Python101,paperback,1500g>\n"
          ]
        }
      ]
    },
    {
      "cell_type": "code",
      "source": [
        "animal = \"lion\"\n",
        "print(f\"A {animal} is a cold animal.\")"
      ],
      "metadata": {
        "id": "GTeD7eZn398x",
        "colab": {
          "base_uri": "https://localhost:8080/"
        },
        "outputId": "78508216-d0a9-41ea-df62-d4fc6948b6b3"
      },
      "execution_count": 103,
      "outputs": [
        {
          "output_type": "stream",
          "name": "stdout",
          "text": [
            "A lion is a cold animal.\n"
          ]
        }
      ]
    },
    {
      "cell_type": "code",
      "source": [
        "class Store:\n",
        "    def __init__(self, name):\n",
        "        self.name = name\n",
        "        self.items = []\n",
        "\n",
        "    def add_item(self, name, price):\n",
        "        self.items.append({\n",
        "            'name': name,\n",
        "            'price': price\n",
        "        })\n",
        "\n",
        "    #just returns all item value in store\n",
        "    def stock_price(self):\n",
        "        total = 0\n",
        "        for item in self.items:\n",
        "            total += item['price']\n",
        "        return total\n",
        "\n",
        "    @classmethod\n",
        "    def franchise(cls, store):\n",
        "        # Return another store, with the same name as the argument's name, plus \" - franchise\"\n",
        "        return cls(store.name + \" - franchise\")\n",
        "\n",
        "\n",
        "    @staticmethod\n",
        "    def store_details(store):\n",
        "        # Return a string representing the argument\n",
        "        # It should be in the format 'NAME, total stock price: TOTAL'\n",
        "        return \"{}, total stock price: {}\".format(store.name, int(store.stock_price()))\n",
        "        # return f\"{store.name}, total stock price: {stock_price()}\"\n",
        "        # return f\"<Book {self.name},{self.book_type},{self.weight}g>\"\n",
        "\n",
        "\n",
        "\n",
        "#cls is just referencing to the main Store class."
      ],
      "metadata": {
        "id": "ek2JENLI8N6-"
      },
      "execution_count": 104,
      "outputs": []
    },
    {
      "cell_type": "code",
      "source": [
        "store = Store(\"Test\")\n",
        "store2 = Store(\"Amazon\")\n",
        "store2.add_item(\"Keyboard\", 160)\n",
        "print(Store.franchise(store))\n",
        "print(Store.franchise(store2))\n",
        "print(Store.store_details(store))\n",
        "print(Store.store_details(store2))"
      ],
      "metadata": {
        "colab": {
          "base_uri": "https://localhost:8080/"
        },
        "id": "WJYN8lci-JKX",
        "outputId": "3418f1d6-5286-4b39-cb54-abe8a1a69f2a"
      },
      "execution_count": 105,
      "outputs": [
        {
          "output_type": "stream",
          "name": "stdout",
          "text": [
            "<__main__.Store object at 0x7f1ca9f30940>\n",
            "<__main__.Store object at 0x7f1ca9f337f0>\n",
            "Test, total stock price: 0\n",
            "Amazon, total stock price: 160\n"
          ]
        }
      ]
    },
    {
      "cell_type": "code",
      "source": [
        "# Create a store\n",
        "store = Store(\"Tech Store\")\n",
        "\n",
        "# Add items to the store\n",
        "store.add_item(\"Laptop\", 1200)\n",
        "store.add_item(\"Phone\", 800)\n",
        "\n",
        "# Print stock price of the original store\n",
        "print(f\"Stock price of {store.name}: {store.stock_price()}\")  # Output: Stock price of Tech Store: 2000\n",
        "\n",
        "# Create a franchise store\n",
        "franchise_store = Store.franchise(store)\n",
        "\n",
        "# Print the name of the franchise store\n",
        "print(f\"Franchise store name: {franchise_store.name}\")  # Output: Franchise store name: Tech Store - franchise\n",
        "\n",
        "# Print the details of the franchise store\n",
        "print(Store.store_details(franchise_store))  # Output: Tech Store - franchise, total stock price: 0\n",
        "\n",
        "# Print the details of the original store\n",
        "print(Store.store_details(store))  # Output: Tech Store, total stock price: 2000\n"
      ],
      "metadata": {
        "colab": {
          "base_uri": "https://localhost:8080/"
        },
        "id": "mzSYgscT9OB9",
        "outputId": "5b5922eb-8124-4607-e7b3-41a5ba5f5a0d"
      },
      "execution_count": 106,
      "outputs": [
        {
          "output_type": "stream",
          "name": "stdout",
          "text": [
            "Stock price of Tech Store: 2000\n",
            "Franchise store name: Tech Store - franchise\n",
            "Tech Store - franchise, total stock price: 0\n",
            "Tech Store, total stock price: 2000\n"
          ]
        }
      ]
    },
    {
      "cell_type": "markdown",
      "source": [
        "#class inheritance"
      ],
      "metadata": {
        "id": "B_I9JczK_QXa"
      }
    },
    {
      "cell_type": "code",
      "source": [
        "class Device:\n",
        "  def __init__(self,name,connected_by):\n",
        "    self.name = name\n",
        "    self.connected_by = connected_by\n",
        "    self.connected = True\n",
        "\n",
        "    def __str__(self):\n",
        "      return f\"Device {self.name!r} ({self.connected_by})\"\n",
        "\n",
        "  def disconnect(self):\n",
        "    self.connected = False\n",
        "    print(\"Disconnected.\")\n",
        "\n",
        "# printer = Device(\"Printer\",\"USB\")\n",
        "# print(printer)\n",
        "# printer.disconnect()\n",
        "#\n",
        "\n",
        "class Printer(Device):\n",
        "  def __init__(self,name,connected_by,capacity):\n",
        "    #this init comes from the inheritance of the parent\n",
        "\n",
        "    super().__init__(name,connected_by)\n",
        "    self.capacity = capacity\n",
        "    self.remaining_pages = capacity\n",
        "\n",
        "  def __str__(self):\n",
        "    return f\"{super().__str__()} ({self.remaining_pages} pages remaining)\"\n",
        "\n",
        "  def print(self,pages):\n",
        "    if not self.connected:\n",
        "      print(\"Your printer is not connected!\")\n",
        "      return\n",
        "    print(f\"Printing {pages} pages.\")\n",
        "    self.remaining_pages -= pages\n",
        "\n",
        "printer = Printer(\"Printer\",\"USB\",500)\n",
        "print(printer)\n",
        "printer.print(20)\n",
        "print(printer)\n",
        "printer.disconnect()\n",
        "printer.print(30)\n",
        "#"
      ],
      "metadata": {
        "colab": {
          "base_uri": "https://localhost:8080/"
        },
        "id": "5-iYtgrJ_Ukm",
        "outputId": "5cdb87fd-5719-4f95-c3ed-5e75d5c51874"
      },
      "execution_count": 107,
      "outputs": [
        {
          "output_type": "stream",
          "name": "stdout",
          "text": [
            "<__main__.Printer object at 0x7f1ca9f30370> (500 pages remaining)\n",
            "Printing 20 pages.\n",
            "<__main__.Printer object at 0x7f1ca9f30370> (480 pages remaining)\n",
            "Disconnected.\n",
            "Your printer is not connected!\n"
          ]
        }
      ]
    },
    {
      "cell_type": "markdown",
      "source": [
        "#class composition\n",
        "##the opposite of inheritance"
      ],
      "metadata": {
        "id": "Yu1JaytGDGy8"
      }
    },
    {
      "cell_type": "code",
      "source": [
        "class BookShelf:\n",
        "  def __init__(self,quantity):\n",
        "    self.quantity = quantity\n",
        "\n",
        "  def __str__(self):\n",
        "    return f\"BookShelf with {self.quantity} books.\"\n",
        "\n",
        "shelf = BookShelf(300)\n",
        "# print(shelf)\n",
        "\n",
        "class Book(BookShelf):\n",
        "  def __init__(self,name,quantity):\n",
        "    super().__init__(quantity)\n",
        "    self.name = name\n",
        "\n",
        "  def __str__(self):\n",
        "    return f\"Book {self.name}\"\n",
        "\n",
        "book = Book(\"Harry Potter\", 120)\n",
        "print(book)"
      ],
      "metadata": {
        "colab": {
          "base_uri": "https://localhost:8080/"
        },
        "id": "sE62IKF7DL9G",
        "outputId": "2d0b09cb-ba0c-460d-e57c-e6d48b45fe09"
      },
      "execution_count": 108,
      "outputs": [
        {
          "output_type": "stream",
          "name": "stdout",
          "text": [
            "Book Harry Potter\n"
          ]
        }
      ]
    },
    {
      "cell_type": "code",
      "source": [
        "class BookShelf:\n",
        "  def __init__(self,*books):\n",
        "    self.books = books\n",
        "\n",
        "  def __str__(self):\n",
        "    return f\"BookShelf with {len(self.books)} books.\"\n",
        "\n",
        "# shelf = BookShelf(300)\n",
        "# print(shelf)\n",
        "\n",
        "class Book:\n",
        "  def __init__(self,name):\n",
        "    self.name = name\n",
        "\n",
        "  def __str__(self):\n",
        "    return f\"Book {self.name}\"\n",
        "\n",
        "book = Book(\"Harry Potter\")\n",
        "book2 = Book(\"Python 101\")\n",
        "\n",
        "shelf = BookShelf(book,book2)\n",
        "print(shelf)\n",
        "print(book)\n",
        "print(book2)"
      ],
      "metadata": {
        "colab": {
          "base_uri": "https://localhost:8080/"
        },
        "id": "fTpW8IcfEDnm",
        "outputId": "aca6f2aa-b5e8-4801-c1d2-10eedf29c3fe"
      },
      "execution_count": 109,
      "outputs": [
        {
          "output_type": "stream",
          "name": "stdout",
          "text": [
            "BookShelf with 2 books.\n",
            "Book Harry Potter\n",
            "Book Python 101\n"
          ]
        }
      ]
    },
    {
      "cell_type": "markdown",
      "source": [
        "#type hinting"
      ],
      "metadata": {
        "id": "1xl7KTijJaL1"
      }
    },
    {
      "cell_type": "code",
      "source": [
        "# def list_avg(sequence:list) -> float:\n",
        "#   return sum(sequence)/len(sequence)\n",
        "from typing import List\n",
        "\n",
        "def list_avg(sequence: list) -> float:\n",
        "  return sum(sequence)/len(sequence)\n",
        "\n",
        "print(list_avg([123]))  # Output: 123.0\n",
        "print(list_avg([1, 2, 3]))  # Output: 2.0"
      ],
      "metadata": {
        "colab": {
          "base_uri": "https://localhost:8080/"
        },
        "id": "DTuIjdQUJcQ2",
        "outputId": "0671a562-420c-4c16-d164-2b48de42be36"
      },
      "execution_count": 110,
      "outputs": [
        {
          "output_type": "stream",
          "name": "stdout",
          "text": [
            "123.0\n",
            "2.0\n"
          ]
        }
      ]
    },
    {
      "cell_type": "code",
      "source": [
        "class Book:\n",
        "  #no return values because this doesnt return anything\n",
        "  def __init__(self,name:str,page_count:int):\n",
        "    self.name = name\n",
        "    self.page_count = page_count\n",
        "\n",
        "book = Book(\"Harry Potter\",500)\n",
        "print(book)"
      ],
      "metadata": {
        "colab": {
          "base_uri": "https://localhost:8080/"
        },
        "id": "WsMC8HHPKP_h",
        "outputId": "518c69d1-30a1-4c59-b295-78d9aec4801f"
      },
      "execution_count": 111,
      "outputs": [
        {
          "output_type": "stream",
          "name": "stdout",
          "text": [
            "<__main__.Book object at 0x7f1ca9f44ee0>\n"
          ]
        }
      ]
    },
    {
      "cell_type": "code",
      "source": [
        "from typing import List\n",
        "\n",
        "class BookShelf:\n",
        "  #the book parameter is a list of book objects\n",
        "  def __init__(self,books:List[Book]):\n",
        "    self.books = books\n",
        "\n",
        "  #STRING BEING RETURNSED FROM THE STR\n",
        "  def __str__(self) -> str:\n",
        "    return f\"BookShelf with {len(self.books)} books.\"\n",
        "\n",
        "book = Book(\"Harry Potter\",500)\n",
        "book2 = Book(\"Python 101\",600)\n",
        "shelf = BookShelf([book,book2])\n",
        "print(shelf)"
      ],
      "metadata": {
        "colab": {
          "base_uri": "https://localhost:8080/"
        },
        "id": "rvpz2NvyLbOn",
        "outputId": "a0c2154f-2182-4cfc-daeb-29143fde1a57"
      },
      "execution_count": 112,
      "outputs": [
        {
          "output_type": "stream",
          "name": "stdout",
          "text": [
            "BookShelf with 2 books.\n"
          ]
        }
      ]
    },
    {
      "cell_type": "code",
      "source": [
        "class Book:\n",
        "  TYPES = (\"hardcover\",\"paperback\")\n",
        "  def __init__(self,name:str,book_type:str,weight:int):\n",
        "    self.name = name\n",
        "    self.book_type = book_type\n",
        "    self.weight = weight\n",
        "\n",
        "  def __repr__(self) -> str:\n",
        "    return f\"<Book {self.name},{self.book_type},{self.weight}g>\"\n",
        "\n",
        "  @classmethod\n",
        "  def hardcover(cls,name:str,page_weight:int) -> \"Book\":\n",
        "    return cls(name,cls.TYPES[0],page_weight+100)\n",
        "\n",
        "  @classmethod\n",
        "  def paperback(cls,name:str,page_weight:int) -> \"Book\":\n",
        "    return cls(name,cls.TYPES[1],page_weight)\n",
        "\n",
        "book = Book(\"Harry Potter\")"
      ],
      "metadata": {
        "id": "Mx_SkkqVL1rH",
        "colab": {
          "base_uri": "https://localhost:8080/",
          "height": 176
        },
        "outputId": "6a52a4fa-071f-4e2f-b1c0-4da3441c590b"
      },
      "execution_count": 113,
      "outputs": [
        {
          "output_type": "error",
          "ename": "TypeError",
          "evalue": "Book.__init__() missing 2 required positional arguments: 'book_type' and 'weight'",
          "traceback": [
            "\u001b[0;31m---------------------------------------------------------------------------\u001b[0m",
            "\u001b[0;31mTypeError\u001b[0m                                 Traceback (most recent call last)",
            "\u001b[0;32m<ipython-input-113-e6c307ef6b93>\u001b[0m in \u001b[0;36m<cell line: 19>\u001b[0;34m()\u001b[0m\n\u001b[1;32m     17\u001b[0m     \u001b[0;32mreturn\u001b[0m \u001b[0mcls\u001b[0m\u001b[0;34m(\u001b[0m\u001b[0mname\u001b[0m\u001b[0;34m,\u001b[0m\u001b[0mcls\u001b[0m\u001b[0;34m.\u001b[0m\u001b[0mTYPES\u001b[0m\u001b[0;34m[\u001b[0m\u001b[0;36m1\u001b[0m\u001b[0;34m]\u001b[0m\u001b[0;34m,\u001b[0m\u001b[0mpage_weight\u001b[0m\u001b[0;34m)\u001b[0m\u001b[0;34m\u001b[0m\u001b[0;34m\u001b[0m\u001b[0m\n\u001b[1;32m     18\u001b[0m \u001b[0;34m\u001b[0m\u001b[0m\n\u001b[0;32m---> 19\u001b[0;31m \u001b[0mbook\u001b[0m \u001b[0;34m=\u001b[0m \u001b[0mBook\u001b[0m\u001b[0;34m(\u001b[0m\u001b[0;34m\"Harry Potter\"\u001b[0m\u001b[0;34m)\u001b[0m\u001b[0;34m\u001b[0m\u001b[0;34m\u001b[0m\u001b[0m\n\u001b[0m",
            "\u001b[0;31mTypeError\u001b[0m: Book.__init__() missing 2 required positional arguments: 'book_type' and 'weight'"
          ]
        }
      ]
    },
    {
      "cell_type": "code",
      "source": [
        "import mymodule\n",
        "\n",
        "mymodule.sqroot(5)"
      ],
      "metadata": {
        "id": "3O_XaZ4IRRGs"
      },
      "execution_count": null,
      "outputs": []
    },
    {
      "cell_type": "code",
      "source": [
        "from mymodule2 import divide\n",
        "print(divide(10,2))\n",
        "print(__name__)\n"
      ],
      "metadata": {
        "id": "BZKrwlhqRfQd"
      },
      "execution_count": null,
      "outputs": []
    },
    {
      "cell_type": "code",
      "source": [
        "import sys\n",
        "\n",
        "print(sys.path)"
      ],
      "metadata": {
        "id": "FZ5uXT_oV2Pk"
      },
      "execution_count": null,
      "outputs": []
    },
    {
      "cell_type": "code",
      "source": [
        "# import libs.mylib"
      ],
      "metadata": {
        "id": "HlAKAnj7W4SH"
      },
      "execution_count": null,
      "outputs": []
    },
    {
      "cell_type": "code",
      "source": [
        "import mymodule2\n",
        "import sys"
      ],
      "metadata": {
        "id": "BHEnVTBrXEY-"
      },
      "execution_count": null,
      "outputs": []
    },
    {
      "cell_type": "code",
      "source": [
        "#main here\n",
        "import mymodule\n",
        "\n",
        "print(\"code.py: \", __name__)"
      ],
      "metadata": {
        "id": "8SN1NQ6PXWfJ"
      },
      "execution_count": null,
      "outputs": []
    },
    {
      "cell_type": "markdown",
      "source": [
        "#Relative Imports"
      ],
      "metadata": {
        "id": "C3BcrU6bVPu-"
      }
    },
    {
      "cell_type": "code",
      "source": [
        "import mymodule\n",
        "\n",
        "/content/mymodule.py"
      ],
      "metadata": {
        "id": "lOW3TdxJVNcP"
      },
      "execution_count": null,
      "outputs": []
    },
    {
      "cell_type": "markdown",
      "source": [
        "#Monday 9/9 Codes"
      ],
      "metadata": {
        "id": "j7m8saw6RDtO"
      }
    },
    {
      "cell_type": "code",
      "source": [
        "#relative imports in python\n",
        "import mymodule\n",
        "\n",
        "print(\"code.py\", __name__)"
      ],
      "metadata": {
        "id": "X_lXKpQeRbd9"
      },
      "execution_count": null,
      "outputs": []
    },
    {
      "cell_type": "code",
      "source": [
        "# from .mymodule import divide\n",
        "\n",
        "print(\"code.py\", __name__)"
      ],
      "metadata": {
        "id": "47Xew6wNUVbQ"
      },
      "execution_count": null,
      "outputs": []
    },
    {
      "cell_type": "markdown",
      "source": [
        "#Errors in python"
      ],
      "metadata": {
        "id": "Q0KjPiFS-lsE"
      }
    },
    {
      "cell_type": "code",
      "source": [
        "def divide(dividend,divisor):\n",
        "  if divisor == 0:\n",
        "    # raise ZeroDivisionError(\"Divisor cannot be 0.\")\n",
        "    print(\"Divisor cannot be 0.\")\n",
        "    return\n",
        "\n",
        "  return dividend/divisor\n",
        "\n",
        "# divide(10,0)\n",
        "# grades = [78,99,85,100]\n",
        "grades = []\n",
        "print(\"Welcome to the average grade program.\")\n",
        "average = divide(sum(grades),len(grades))\n",
        "print(f\"The average grade is {average}.\")"
      ],
      "metadata": {
        "colab": {
          "base_uri": "https://localhost:8080/"
        },
        "id": "m94tP_Rm-lKI",
        "outputId": "3045ab61-927b-4daa-f325-a703cf71af82"
      },
      "execution_count": 114,
      "outputs": [
        {
          "output_type": "stream",
          "name": "stdout",
          "text": [
            "Welcome to the average grade program.\n",
            "Divisor cannot be 0.\n",
            "The average grade is None.\n"
          ]
        }
      ]
    },
    {
      "cell_type": "code",
      "source": [
        "def divide(dividend,divisor):\n",
        "  if divisor == 0:\n",
        "    raise ZeroDivisionError(\"Divisor cannot be 0.\")\n",
        "    # print(\"Divisor cannot be 0.\")\n",
        "    # return\n",
        "\n",
        "  return dividend/divisor\n",
        "\n",
        "grades=[]\n",
        "\n",
        "print(\"Welcome to the average grade program.\")\n",
        "try:\n",
        "  average = divide(sum(grades),len(grades))\n",
        "  # print(f\"The average grade is {average}.\")\n",
        "except ZeroDivisionError as e:\n",
        "  print(e)\n",
        "  print(\"There are no grades yet in your list.\")\n",
        "else:\n",
        "  print(f\"The average grade is {average}.\")\n",
        "finally:\n",
        "  print(\"Thank you!\")\n",
        "#"
      ],
      "metadata": {
        "colab": {
          "base_uri": "https://localhost:8080/"
        },
        "id": "Qv2Q2YeoUcMe",
        "outputId": "4162eb0e-c0c7-4018-c5be-6666ca078646"
      },
      "execution_count": 115,
      "outputs": [
        {
          "output_type": "stream",
          "name": "stdout",
          "text": [
            "Welcome to the average grade program.\n",
            "Divisor cannot be 0.\n",
            "There are no grades yet in your list.\n",
            "Thank you!\n"
          ]
        }
      ]
    },
    {
      "cell_type": "code",
      "source": [
        "def divide(dividend,divisor):\n",
        "  if divisor == 0:\n",
        "    raise ZeroDivisionError(\"Divisor cannot be 0.\")\n",
        "\n",
        "  return dividend/divisor\n",
        "\n",
        "students = [\n",
        "    {\"name\":\"Bob\",\"grades\":[75 , 90]},\n",
        "  {\"name\":\"Rolf\",\"grades\":[]},\n",
        "  {\"name\":\"Jen\",\"grades\":[100,90]}\n",
        "]\n",
        "\n",
        "try:\n",
        "  for student in students:\n",
        "    name = student[\"name\"]\n",
        "    grades = student[\"grades\"]\n",
        "    average = divide(sum(grades),len(grades))\n",
        "    print(f\"{name} averaged {average}.\")\n",
        "except ZeroDivisionError as e:\n",
        "  print(f\"ERROR: {name} has no grades!\")\n",
        "  print(e)\n",
        "else:\n",
        "  print(\"-- All student averages calculated--\")\n",
        "finally:\n",
        "  print(\"-- End of student average calculation--\")"
      ],
      "metadata": {
        "colab": {
          "base_uri": "https://localhost:8080/"
        },
        "id": "PyuN-BiUWB9I",
        "outputId": "167d4aa6-086b-4e20-9303-b10af5462545"
      },
      "execution_count": 116,
      "outputs": [
        {
          "output_type": "stream",
          "name": "stdout",
          "text": [
            "Bob averaged 82.5.\n",
            "ERROR: Rolf has no grades!\n",
            "Divisor cannot be 0.\n",
            "-- End of student average calculation--\n"
          ]
        }
      ]
    },
    {
      "cell_type": "markdown",
      "source": [
        "#Custom error classes"
      ],
      "metadata": {
        "id": "vtsP9SHkW3yz"
      }
    },
    {
      "cell_type": "code",
      "source": [
        "class TooManyPagesReadError(ValueError):\n",
        "  pass\n",
        "\n",
        "class Book:\n",
        "  def __init__(self,name:str,page_count:int):\n",
        "    self.name = name\n",
        "    self.page_count = page_count\n",
        "    self.pages_read = 0\n",
        "\n",
        "  def __repr__(self):\n",
        "    return (\n",
        "      f\"<Book {self.name}, read {self.pages_read} pages out of {self.page_count}>\"\n",
        "    )\n",
        "\n",
        "  def read(self,pages:int):\n",
        "    if self.pages_read + pages > self.page_count:\n",
        "      raise ValueError(\n",
        "          f\"You tried to read {self.pages_read + pages} pages, but this book only has {self.page_count} pages.\"\n",
        "          )\n",
        "    self.pages_read += pages\n",
        "    print(f\"You have now read {self.pages_read} pages out of {self.page_count}.\")\n",
        "\n",
        "python101 = Book(\"Python 101\",50)\n",
        "try:\n",
        "  python101.read(35)\n",
        "  python101.read(50)\n",
        "except TooManyPagesReadError as e:\n",
        "  print(e)\n"
      ],
      "metadata": {
        "colab": {
          "base_uri": "https://localhost:8080/",
          "height": 367
        },
        "id": "fz8ATH7pW2ir",
        "outputId": "b92b5aa2-3fb0-4690-cc9d-70c8dccd56ed"
      },
      "execution_count": 117,
      "outputs": [
        {
          "output_type": "stream",
          "name": "stdout",
          "text": [
            "You have now read 35 pages out of 50.\n"
          ]
        },
        {
          "output_type": "error",
          "ename": "ValueError",
          "evalue": "You tried to read 85 pages, but this book only has 50 pages.",
          "traceback": [
            "\u001b[0;31m---------------------------------------------------------------------------\u001b[0m",
            "\u001b[0;31mValueError\u001b[0m                                Traceback (most recent call last)",
            "\u001b[0;32m<ipython-input-117-478bf74a12a2>\u001b[0m in \u001b[0;36m<cell line: 24>\u001b[0;34m()\u001b[0m\n\u001b[1;32m     24\u001b[0m \u001b[0;32mtry\u001b[0m\u001b[0;34m:\u001b[0m\u001b[0;34m\u001b[0m\u001b[0;34m\u001b[0m\u001b[0m\n\u001b[1;32m     25\u001b[0m   \u001b[0mpython101\u001b[0m\u001b[0;34m.\u001b[0m\u001b[0mread\u001b[0m\u001b[0;34m(\u001b[0m\u001b[0;36m35\u001b[0m\u001b[0;34m)\u001b[0m\u001b[0;34m\u001b[0m\u001b[0;34m\u001b[0m\u001b[0m\n\u001b[0;32m---> 26\u001b[0;31m   \u001b[0mpython101\u001b[0m\u001b[0;34m.\u001b[0m\u001b[0mread\u001b[0m\u001b[0;34m(\u001b[0m\u001b[0;36m50\u001b[0m\u001b[0;34m)\u001b[0m\u001b[0;34m\u001b[0m\u001b[0;34m\u001b[0m\u001b[0m\n\u001b[0m\u001b[1;32m     27\u001b[0m \u001b[0;32mexcept\u001b[0m \u001b[0mTooManyPagesReadError\u001b[0m \u001b[0;32mas\u001b[0m \u001b[0me\u001b[0m\u001b[0;34m:\u001b[0m\u001b[0;34m\u001b[0m\u001b[0;34m\u001b[0m\u001b[0m\n\u001b[1;32m     28\u001b[0m   \u001b[0mprint\u001b[0m\u001b[0;34m(\u001b[0m\u001b[0me\u001b[0m\u001b[0;34m)\u001b[0m\u001b[0;34m\u001b[0m\u001b[0;34m\u001b[0m\u001b[0m\n",
            "\u001b[0;32m<ipython-input-117-478bf74a12a2>\u001b[0m in \u001b[0;36mread\u001b[0;34m(self, pages)\u001b[0m\n\u001b[1;32m     15\u001b[0m   \u001b[0;32mdef\u001b[0m \u001b[0mread\u001b[0m\u001b[0;34m(\u001b[0m\u001b[0mself\u001b[0m\u001b[0;34m,\u001b[0m\u001b[0mpages\u001b[0m\u001b[0;34m:\u001b[0m\u001b[0mint\u001b[0m\u001b[0;34m)\u001b[0m\u001b[0;34m:\u001b[0m\u001b[0;34m\u001b[0m\u001b[0;34m\u001b[0m\u001b[0m\n\u001b[1;32m     16\u001b[0m     \u001b[0;32mif\u001b[0m \u001b[0mself\u001b[0m\u001b[0;34m.\u001b[0m\u001b[0mpages_read\u001b[0m \u001b[0;34m+\u001b[0m \u001b[0mpages\u001b[0m \u001b[0;34m>\u001b[0m \u001b[0mself\u001b[0m\u001b[0;34m.\u001b[0m\u001b[0mpage_count\u001b[0m\u001b[0;34m:\u001b[0m\u001b[0;34m\u001b[0m\u001b[0;34m\u001b[0m\u001b[0m\n\u001b[0;32m---> 17\u001b[0;31m       raise ValueError(\n\u001b[0m\u001b[1;32m     18\u001b[0m           \u001b[0;34mf\"You tried to read {self.pages_read + pages} pages, but this book only has {self.page_count} pages.\"\u001b[0m\u001b[0;34m\u001b[0m\u001b[0;34m\u001b[0m\u001b[0m\n\u001b[1;32m     19\u001b[0m           )\n",
            "\u001b[0;31mValueError\u001b[0m: You tried to read 85 pages, but this book only has 50 pages."
          ]
        }
      ]
    },
    {
      "cell_type": "markdown",
      "source": [
        "#First Class Functions"
      ],
      "metadata": {
        "id": "y1OWCVCyeoey"
      }
    },
    {
      "cell_type": "code",
      "source": [
        "def divide(dividend,divisor):\n",
        "  if divisor == 0:\n",
        "    raise ZeroDivisionError(\"Divisor cannot be 0.\")\n",
        "\n",
        "  return dividend/divisor\n",
        "\n",
        "def calculate(*values, operator)  :\n",
        "  return operator(*values)\n",
        "\n",
        "result = calculate(20,4,operator=divide)\n",
        "print(result)\n",
        "#pass in divide operator as the function to be used with (*values)\n"
      ],
      "metadata": {
        "colab": {
          "base_uri": "https://localhost:8080/"
        },
        "id": "YHmsSNE4eqlQ",
        "outputId": "c2f0ab08-578d-41fc-91be-8383c70a104a"
      },
      "execution_count": 118,
      "outputs": [
        {
          "output_type": "stream",
          "name": "stdout",
          "text": [
            "5.0\n"
          ]
        }
      ]
    },
    {
      "cell_type": "code",
      "source": [
        "def search(sequence,expected,finder):\n",
        "  for elem in sequence:\n",
        "    if finder(elem) == expected:\n",
        "      return elem\n",
        "  raise RuntimeError(f\"Could not find an element with {expected}.\")\n",
        "\n",
        "friends = [\n",
        "    {\"name\":\"Rolf Smith\",\"age\":24},\n",
        "  {\"name\":\"Adam Wool\",\"age\":30},\n",
        "  {\"name\":\"Anne Pun\",\"age\":27}\n",
        "]\n",
        "\n",
        "def get_friend_name(friend):\n",
        "  return friend[\"name\"]\n",
        "\n",
        "print(search(friends,\"Rolf Smith\",get_friend_name))\n",
        "#"
      ],
      "metadata": {
        "colab": {
          "base_uri": "https://localhost:8080/"
        },
        "id": "A9M9x_DqfaRy",
        "outputId": "8977052b-bd96-4ccd-c7e7-c5e91f1fc374"
      },
      "execution_count": 119,
      "outputs": [
        {
          "output_type": "stream",
          "name": "stdout",
          "text": [
            "{'name': 'Rolf Smith', 'age': 24}\n"
          ]
        }
      ]
    },
    {
      "cell_type": "code",
      "source": [
        "def search(sequence,expected,finder):\n",
        "  for elem in sequence:\n",
        "    if finder(elem) == expected:\n",
        "      return elem\n",
        "  raise RuntimeError(f\"Could not find an element with {expected}.\")\n",
        "\n",
        "friends = [\n",
        "    {\"name\":\"Rolf Smith\",\"age\":24},\n",
        "  {\"name\":\"Adam Wool\",\"age\":30},\n",
        "  {\"name\":\"Anne Pun\",\"age\":27}\n",
        "]\n",
        "\n",
        "# def get_friend_name(friend):\n",
        "#   return friend[\"name\"]\n",
        "\n",
        "print(search(friends,\"Rolf Smith\",lambda friend: friend[\"name\"]))\n",
        "#"
      ],
      "metadata": {
        "colab": {
          "base_uri": "https://localhost:8080/"
        },
        "id": "dosj4lMwgJyW",
        "outputId": "7495160f-54db-4bf7-8791-deec15b79805"
      },
      "execution_count": 120,
      "outputs": [
        {
          "output_type": "stream",
          "name": "stdout",
          "text": [
            "{'name': 'Rolf Smith', 'age': 24}\n"
          ]
        }
      ]
    },
    {
      "cell_type": "code",
      "source": [
        "#using modules to get the items\n",
        "from operator import itemgetter\n",
        "\n",
        "def search(sequence,expected,finder):\n",
        "  for elem in sequence:\n",
        "    if finder(elem) == expected:\n",
        "      return elem\n",
        "  raise RuntimeError(f\"Could not find an element with {expected}.\")\n",
        "\n",
        "friends = [\n",
        "    {\"name\":\"Rolf Smith\",\"age\":24},\n",
        "  {\"name\":\"Adam Wool\",\"age\":30},\n",
        "  {\"name\":\"Anne Pun\",\"age\":27}\n",
        "]\n",
        "\n",
        "# def get_friend_name(friend):\n",
        "#   return friend[\"name\"]\n",
        "\n",
        "print(search(friends,\"Rolf Smith\",itemgetter(\"name\")))\n",
        "#"
      ],
      "metadata": {
        "colab": {
          "base_uri": "https://localhost:8080/"
        },
        "id": "Y3v-eorrgnuX",
        "outputId": "4a462289-7a7c-48cb-f866-810052ac5d12"
      },
      "execution_count": 121,
      "outputs": [
        {
          "output_type": "stream",
          "name": "stdout",
          "text": [
            "{'name': 'Rolf Smith', 'age': 24}\n"
          ]
        }
      ]
    },
    {
      "cell_type": "markdown",
      "source": [
        "#simple decorators in python\n",
        "\n",
        "we can secure functions"
      ],
      "metadata": {
        "id": "1doaSugmg1b2"
      }
    },
    {
      "cell_type": "code",
      "source": [
        "user = {\"username\":\"jose\",\"access_level\":\"guest\"}\n",
        "\n",
        "def get_admin_password():\n",
        "  return \"1234\"\n",
        "\n",
        "def secure_get_admin_password():\n",
        "  if user[\"access_level\"] == \"admin\":\n",
        "    return \"1234\"\n",
        "  # raise ValueError(\"Permission denied\")\n",
        "\n",
        "print(secure_get_admin_password())\n",
        "\n",
        "# if user[\"access_level\"] == \"admin\":\n",
        "#   print(get_admin_password())\n",
        "\n",
        "\n",
        "print(get_admin_password())"
      ],
      "metadata": {
        "colab": {
          "base_uri": "https://localhost:8080/"
        },
        "id": "2PlJjoAXg44h",
        "outputId": "45a9fab2-1710-4f20-894a-0e7da6c856a6"
      },
      "execution_count": 122,
      "outputs": [
        {
          "output_type": "stream",
          "name": "stdout",
          "text": [
            "None\n",
            "1234\n"
          ]
        }
      ]
    },
    {
      "cell_type": "code",
      "source": [
        "user = {\"username\":\"jose\",\"access_level\":\"guest\"}\n",
        "\n",
        "def get_admin_password():\n",
        "  return \"1234\"\n",
        "\n",
        "def secure_function(func):\n",
        "  if user[\"access_level\"] == \"admin\":\n",
        "    return func\n",
        "  raise ValueError(\"Permission denied\")\n",
        "\n",
        "get_admin_password = secure_function(get_admin_password)\n",
        "\n",
        "print(get_admin_password())\n",
        "#"
      ],
      "metadata": {
        "colab": {
          "base_uri": "https://localhost:8080/",
          "height": 332
        },
        "id": "9c9xHQd-hf2u",
        "outputId": "89ee6cf1-3988-4e22-9ce6-00618bc5af93"
      },
      "execution_count": 123,
      "outputs": [
        {
          "output_type": "error",
          "ename": "ValueError",
          "evalue": "Permission denied",
          "traceback": [
            "\u001b[0;31m---------------------------------------------------------------------------\u001b[0m",
            "\u001b[0;31mValueError\u001b[0m                                Traceback (most recent call last)",
            "\u001b[0;32m<ipython-input-123-851ca3fddab2>\u001b[0m in \u001b[0;36m<cell line: 11>\u001b[0;34m()\u001b[0m\n\u001b[1;32m      9\u001b[0m   \u001b[0;32mraise\u001b[0m \u001b[0mValueError\u001b[0m\u001b[0;34m(\u001b[0m\u001b[0;34m\"Permission denied\"\u001b[0m\u001b[0;34m)\u001b[0m\u001b[0;34m\u001b[0m\u001b[0;34m\u001b[0m\u001b[0m\n\u001b[1;32m     10\u001b[0m \u001b[0;34m\u001b[0m\u001b[0m\n\u001b[0;32m---> 11\u001b[0;31m \u001b[0mget_admin_password\u001b[0m \u001b[0;34m=\u001b[0m \u001b[0msecure_function\u001b[0m\u001b[0;34m(\u001b[0m\u001b[0mget_admin_password\u001b[0m\u001b[0;34m)\u001b[0m\u001b[0;34m\u001b[0m\u001b[0;34m\u001b[0m\u001b[0m\n\u001b[0m\u001b[1;32m     12\u001b[0m \u001b[0;34m\u001b[0m\u001b[0m\n\u001b[1;32m     13\u001b[0m \u001b[0mprint\u001b[0m\u001b[0;34m(\u001b[0m\u001b[0mget_admin_password\u001b[0m\u001b[0;34m(\u001b[0m\u001b[0;34m)\u001b[0m\u001b[0;34m)\u001b[0m\u001b[0;34m\u001b[0m\u001b[0;34m\u001b[0m\u001b[0m\n",
            "\u001b[0;32m<ipython-input-123-851ca3fddab2>\u001b[0m in \u001b[0;36msecure_function\u001b[0;34m(func)\u001b[0m\n\u001b[1;32m      7\u001b[0m   \u001b[0;32mif\u001b[0m \u001b[0muser\u001b[0m\u001b[0;34m[\u001b[0m\u001b[0;34m\"access_level\"\u001b[0m\u001b[0;34m]\u001b[0m \u001b[0;34m==\u001b[0m \u001b[0;34m\"admin\"\u001b[0m\u001b[0;34m:\u001b[0m\u001b[0;34m\u001b[0m\u001b[0;34m\u001b[0m\u001b[0m\n\u001b[1;32m      8\u001b[0m     \u001b[0;32mreturn\u001b[0m \u001b[0mfunc\u001b[0m\u001b[0;34m\u001b[0m\u001b[0;34m\u001b[0m\u001b[0m\n\u001b[0;32m----> 9\u001b[0;31m   \u001b[0;32mraise\u001b[0m \u001b[0mValueError\u001b[0m\u001b[0;34m(\u001b[0m\u001b[0;34m\"Permission denied\"\u001b[0m\u001b[0;34m)\u001b[0m\u001b[0;34m\u001b[0m\u001b[0;34m\u001b[0m\u001b[0m\n\u001b[0m\u001b[1;32m     10\u001b[0m \u001b[0;34m\u001b[0m\u001b[0m\n\u001b[1;32m     11\u001b[0m \u001b[0mget_admin_password\u001b[0m \u001b[0;34m=\u001b[0m \u001b[0msecure_function\u001b[0m\u001b[0;34m(\u001b[0m\u001b[0mget_admin_password\u001b[0m\u001b[0;34m)\u001b[0m\u001b[0;34m\u001b[0m\u001b[0;34m\u001b[0m\u001b[0m\n",
            "\u001b[0;31mValueError\u001b[0m: Permission denied"
          ]
        }
      ]
    },
    {
      "cell_type": "code",
      "source": [
        "user = {\"username\":\"jose\",\"access_level\":\"guest\"}\n",
        "\n",
        "def get_admin_password():\n",
        "  return \"1234\"\n",
        "\n",
        "def make_secure(func)  :\n",
        "  def secure_function():\n",
        "    if user[\"access_level\"] == \"admin\":\n",
        "      return func()\n",
        "    else:\n",
        "      return f\"No admin permissions for {user['username']}\"\n",
        "    # raise ValueError(\"Permission denied\")\n",
        "  return secure_function #this is the decorator\n",
        "\n",
        "get_admin_password = make_secure(get_admin_password)\n",
        "\n",
        "print(get_admin_password())"
      ],
      "metadata": {
        "colab": {
          "base_uri": "https://localhost:8080/"
        },
        "id": "WFOIeVdWiou_",
        "outputId": "89cdfa4f-b65a-4bba-b314-0a3fd4a581a6"
      },
      "execution_count": 124,
      "outputs": [
        {
          "output_type": "stream",
          "name": "stdout",
          "text": [
            "No admin permissions for jose\n"
          ]
        }
      ]
    },
    {
      "cell_type": "markdown",
      "source": [
        "#the 'at' syntax\n"
      ],
      "metadata": {
        "id": "2k25kO4ljmcR"
      }
    },
    {
      "cell_type": "code",
      "source": [
        "import functools\n",
        "\n",
        "user = {\"username\":\"jose\",\"access_level\":\"guest\"}\n",
        "\n",
        "\n",
        "\n",
        "def make_secure(func)  :\n",
        "  @functools.wraps(func)\n",
        "  def secure_function():\n",
        "    if user[\"access_level\"] == \"admin\":\n",
        "      return func()\n",
        "    else:\n",
        "      return f\"No admin permissions for {user['username']}\"\n",
        "\n",
        "  return secure_function\n",
        "\n",
        "@make_secure #this is the decorator\n",
        "def get_admin_password():\n",
        "  return \"1234\"\n",
        "\n",
        "# get_admin_password = make_secure(get_admin_password)\n",
        "\n",
        "print(get_admin_password.__name__)\n",
        "print(get_admin_password())"
      ],
      "metadata": {
        "colab": {
          "base_uri": "https://localhost:8080/"
        },
        "id": "zUVh9sEVjoYK",
        "outputId": "49e8ac2e-78c4-494a-fee1-bc0816a2cea0"
      },
      "execution_count": 125,
      "outputs": [
        {
          "output_type": "stream",
          "name": "stdout",
          "text": [
            "get_admin_password\n",
            "No admin permissions for jose\n"
          ]
        }
      ]
    },
    {
      "cell_type": "markdown",
      "source": [
        "#decorating functions with parameters"
      ],
      "metadata": {
        "id": "AFBnUgHZkk6k"
      }
    },
    {
      "cell_type": "code",
      "source": [
        "import functools\n",
        "\n",
        "user = {\"username\":\"jose\",\"access_level\":\"guest\"}\n",
        "\n",
        "\n",
        "\n",
        "def make_secure(func)  :\n",
        "  @functools.wraps(func)\n",
        "  def secure_function(*args, **kwargs):\n",
        "    if user[\"access_level\"] == \"admin\":\n",
        "      return func(*args, **kwargs)\n",
        "    else:\n",
        "      return f\"No admin permissions for {user['username']}\"\n",
        "\n",
        "  return secure_function\n",
        "\n",
        "@make_secure #this is the decorator\n",
        "def get_password(panel):\n",
        "  if panel =='admin':\n",
        "    return \"1234\"\n",
        "  elif panel =='billing':\n",
        "    return \"super_secure_password\"\n",
        "\n",
        "print(get_password(\"billing\"))"
      ],
      "metadata": {
        "colab": {
          "base_uri": "https://localhost:8080/"
        },
        "id": "9rY6I2r9kkZp",
        "outputId": "09c17a63-fd47-4f8a-c25f-d7c93af3fdd8"
      },
      "execution_count": 126,
      "outputs": [
        {
          "output_type": "stream",
          "name": "stdout",
          "text": [
            "No admin permissions for jose\n"
          ]
        }
      ]
    },
    {
      "cell_type": "markdown",
      "source": [
        "#Decorators with parameters"
      ],
      "metadata": {
        "id": "eVA3HPfFbZeq"
      }
    },
    {
      "cell_type": "code",
      "source": [
        "import functools\n",
        "\n",
        "user = {\"username\":\"jose\",\"access_level\":\"user\"}\n",
        "\n",
        "def make_secure(access_level):\n",
        "  def decorator(func):\n",
        "    @functools.wraps(func)\n",
        "    def secure_function(*args, **kwargs):\n",
        "      if user[\"access_level\"] == access_level:\n",
        "        return func(*args, **kwargs)\n",
        "      else:\n",
        "        return f\"No {access_level} permissions for {user['username']}\"\n",
        "\n",
        "    return secure_function\n",
        "\n",
        "  return decorator\n",
        "\n",
        "@make_secure(\"admin\") #this is the decorator\n",
        "def get_admin_password():\n",
        "  return \"admin: 1234\"\n",
        "\n",
        "@make_secure(\"user\")\n",
        "def get_dashboard_password():\n",
        "  return \"user: user_password\"\n",
        "\n",
        "\n",
        "print(get_admin_password())\n",
        "print(get_dashboard_password())\n",
        "#\n",
        "user = {\"username\":\"ana\",\"access_level\":\"admin\"}\n",
        "print(get_admin_password())\n",
        "print(get_dashboard_password())"
      ],
      "metadata": {
        "colab": {
          "base_uri": "https://localhost:8080/"
        },
        "id": "Nj14f_a3YjDf",
        "outputId": "c8071440-a054-4c32-a66e-999df83f3d79"
      },
      "execution_count": 127,
      "outputs": [
        {
          "output_type": "stream",
          "name": "stdout",
          "text": [
            "No admin permissions for jose\n",
            "user: user_password\n",
            "admin: 1234\n",
            "No user permissions for ana\n"
          ]
        }
      ]
    },
    {
      "cell_type": "markdown",
      "source": [
        "#Mutability in Python"
      ],
      "metadata": {
        "id": "FfI40IojcmuY"
      }
    },
    {
      "cell_type": "code",
      "source": [
        "del a\n",
        "del b\n",
        "\n",
        "a = 8597\n",
        "b = 8597\n",
        "\n",
        "print(id(a))\n",
        "print(id(b))\n",
        "\n",
        "a = 8598\n",
        "\n",
        "print(id(a))\n",
        "print(id(b))"
      ],
      "metadata": {
        "colab": {
          "base_uri": "https://localhost:8080/"
        },
        "id": "6UgXBqNkcPo_",
        "outputId": "d20fd8c8-b003-43ce-9a21-30e065981f74"
      },
      "execution_count": 128,
      "outputs": [
        {
          "output_type": "stream",
          "name": "stdout",
          "text": [
            "139761086990160\n",
            "139761086990000\n",
            "139761086992720\n",
            "139761086990000\n"
          ]
        }
      ]
    },
    {
      "cell_type": "code",
      "source": [
        "del a\n",
        "del b\n",
        "\n",
        "a = \"hello\"\n",
        "b = a\n",
        "\n",
        "print(id(a))\n",
        "print(id(b))\n",
        "\n",
        "a = a + \"world\""
      ],
      "metadata": {
        "colab": {
          "base_uri": "https://localhost:8080/"
        },
        "id": "MtIADJRjcq_2",
        "outputId": "5cafe4a8-3db2-45a1-9530-9edd99dd33ea"
      },
      "execution_count": 129,
      "outputs": [
        {
          "output_type": "stream",
          "name": "stdout",
          "text": [
            "139762077667056\n",
            "139762077667056\n"
          ]
        }
      ]
    },
    {
      "cell_type": "code",
      "source": [
        "from typing import List, Optional\n",
        "\n",
        "class Student:\n",
        "  def __init__(self,name:str,grades:Optional[List[int]] = None):\n",
        "    self.name = name\n",
        "    self.grades = grades or []\n",
        "\n",
        "  def take_exam(self,result):\n",
        "    self.grades.append(result)\n",
        "\n",
        "bob = Student(\"Bob\" , [13, 45])\n",
        "bob.take_exam(90)\n",
        "print(bob.grades)\n",
        "\n",
        "rolf = Student(\"Rolf\")\n",
        "# rolf.take_exam(90)\n",
        "print(rolf.grades)"
      ],
      "metadata": {
        "colab": {
          "base_uri": "https://localhost:8080/"
        },
        "id": "RIVfqp6XeAu3",
        "outputId": "0cf65b15-c27a-48d5-a9cc-d231dfe9ca42"
      },
      "execution_count": 135,
      "outputs": [
        {
          "output_type": "stream",
          "name": "stdout",
          "text": [
            "[13, 45, 90]\n",
            "[]\n"
          ]
        }
      ]
    },
    {
      "cell_type": "code",
      "source": [],
      "metadata": {
        "id": "c-KNm_Y2fLwQ"
      },
      "execution_count": null,
      "outputs": []
    }
  ]
}