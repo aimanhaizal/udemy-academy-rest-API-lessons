{
  "nbformat": 4,
  "nbformat_minor": 0,
  "metadata": {
    "colab": {
      "provenance": [],
      "authorship_tag": "ABX9TyOhcYhtf1lO/21J2QHFKxQD",
      "include_colab_link": true
    },
    "kernelspec": {
      "name": "python3",
      "display_name": "Python 3"
    },
    "language_info": {
      "name": "python"
    }
  },
  "cells": [
    {
      "cell_type": "markdown",
      "metadata": {
        "id": "view-in-github",
        "colab_type": "text"
      },
      "source": [
        "<a href=\"https://colab.research.google.com/github/aimanhaizal/udemy-academy-rest-API-lessons/blob/main/Untitled0.ipynb\" target=\"_parent\"><img src=\"https://colab.research.google.com/assets/colab-badge.svg\" alt=\"Open In Colab\"/></a>"
      ]
    },
    {
      "cell_type": "code",
      "execution_count": null,
      "metadata": {
        "colab": {
          "base_uri": "https://localhost:8080/"
        },
        "id": "8pluBhg6sGhV",
        "outputId": "6dc13947-12b1-446f-f32e-07247ab8ae18"
      },
      "outputs": [
        {
          "output_type": "stream",
          "name": "stdout",
          "text": [
            "Hello, World!\n"
          ]
        }
      ],
      "source": [
        "print(\"Hello, World!\")"
      ]
    },
    {
      "cell_type": "code",
      "source": [
        "x = 1500\n",
        "price = 9.99\n",
        "\n",
        "discount = 0.2\n",
        "\n",
        "result = price*(1-discount)\n",
        "print(result)"
      ],
      "metadata": {
        "colab": {
          "base_uri": "https://localhost:8080/"
        },
        "id": "NBMxQDM4sblY",
        "outputId": "4f2951a7-08b9-4f04-e362-bdff36eb2a79"
      },
      "execution_count": null,
      "outputs": [
        {
          "output_type": "stream",
          "name": "stdout",
          "text": [
            "7.992000000000001\n"
          ]
        }
      ]
    },
    {
      "cell_type": "code",
      "source": [
        "name = \"rolf\"\n",
        "name = \"bob\"\n",
        "print(name)\n",
        "print(name*2)"
      ],
      "metadata": {
        "colab": {
          "base_uri": "https://localhost:8080/"
        },
        "id": "3h1aybL9xBhT",
        "outputId": "112a1a95-c57a-43a6-ad1d-f6f0a37e4401"
      },
      "execution_count": null,
      "outputs": [
        {
          "output_type": "stream",
          "name": "stdout",
          "text": [
            "bob\n",
            "bobbob\n"
          ]
        }
      ]
    },
    {
      "cell_type": "code",
      "source": [
        "a = 25\n",
        "b = a\n",
        "\n",
        "print(a)\n",
        "print(b)\n",
        "\n",
        "b = 17\n",
        "print(a)\n",
        "print(b)"
      ],
      "metadata": {
        "colab": {
          "base_uri": "https://localhost:8080/"
        },
        "id": "2Ic-pEqAxpiF",
        "outputId": "4c9c0de1-ec2d-4179-860e-8f4f55a21cdf"
      },
      "execution_count": null,
      "outputs": [
        {
          "output_type": "stream",
          "name": "stdout",
          "text": [
            "25\n",
            "25\n",
            "25\n",
            "17\n"
          ]
        }
      ]
    },
    {
      "cell_type": "code",
      "source": [
        "name = \"Bob\"\n",
        "greeting =f\"Hello,{name}\"\n",
        "#fstring embed variables in string\n",
        "\n",
        "print(f\"Hello,{name}\")\n",
        "\n",
        "name= \"Rolf\"\n",
        "print(f\"Hello,{name}\")"
      ],
      "metadata": {
        "colab": {
          "base_uri": "https://localhost:8080/"
        },
        "id": "3Hj5gDCXx1nk",
        "outputId": "697a10c5-712d-4da8-a405-ccb254be963a"
      },
      "execution_count": null,
      "outputs": [
        {
          "output_type": "stream",
          "name": "stdout",
          "text": [
            "Hello,Bob\n",
            "Hello,Rolf\n"
          ]
        }
      ]
    },
    {
      "cell_type": "code",
      "source": [
        "#template strings\n",
        "name = \"Bob\"\n",
        "greeting = \"Hello, {}\"\n",
        "with_name = greeting.format(name)\n",
        "#called the format function inside greeting\n",
        "\n",
        "with_name_two = greeting.format(\"Rolf\")\n",
        "print(with_name)\n",
        "print(with_name_two)"
      ],
      "metadata": {
        "colab": {
          "base_uri": "https://localhost:8080/"
        },
        "id": "DLjenWRA0T2f",
        "outputId": "9fbc5800-9002-4b9d-bd30-85f05b5ff746"
      },
      "execution_count": null,
      "outputs": [
        {
          "output_type": "stream",
          "name": "stdout",
          "text": [
            "Hello, Bob\n",
            "Hello, Rolf\n"
          ]
        }
      ]
    },
    {
      "cell_type": "code",
      "source": [
        "longer_phrase = \"Hello, {}. Today is {}.\"\n",
        "formatted = longer_phrase.format(\"Bob\", \"Monday\")\n",
        "print(formatted)"
      ],
      "metadata": {
        "colab": {
          "base_uri": "https://localhost:8080/"
        },
        "id": "uKm1JXZZ04F5",
        "outputId": "1b5c2838-0170-4e1c-8dd2-cd52606fdff5"
      },
      "execution_count": null,
      "outputs": [
        {
          "output_type": "stream",
          "name": "stdout",
          "text": [
            "Hello, Bob. Today is Monday.\n"
          ]
        }
      ]
    },
    {
      "cell_type": "code",
      "source": [
        "name=input(\"What is your name?\")\n",
        "print(f\"Hello,{name}\")"
      ],
      "metadata": {
        "colab": {
          "base_uri": "https://localhost:8080/"
        },
        "id": "1l4jnBVy1J6A",
        "outputId": "de7b052c-735f-436e-fa4f-257fafc72b01"
      },
      "execution_count": null,
      "outputs": [
        {
          "output_type": "stream",
          "name": "stdout",
          "text": [
            "What is your name?rolf\n",
            "Hello,rolf\n"
          ]
        }
      ]
    },
    {
      "cell_type": "code",
      "source": [
        "size_input = input(\"How big is your house (in square feet)?\")\n",
        "square_feet = int(size_input)\n",
        "square_meters = square_feet/10.8\n",
        "print(f\"{square_feet} square feet is {square_meters:.2f} square meters.\")"
      ],
      "metadata": {
        "colab": {
          "base_uri": "https://localhost:8080/"
        },
        "id": "6k0u6bdl1VDC",
        "outputId": "a65a56f6-5836-4d7c-9a92-98c279af3cd9"
      },
      "execution_count": null,
      "outputs": [
        {
          "output_type": "stream",
          "name": "stdout",
          "text": [
            "How big is your house (in square feet)?500\n",
            "500 square feet is 46.30 square meters.\n"
          ]
        }
      ]
    },
    {
      "cell_type": "code",
      "source": [
        "# user_age = input(\"Enter your age:\")\n",
        "user_age = int(input(\"Enter your age:\"))\n",
        "age_in_days = int(user_age)*365\n",
        "print(f\"Your age in days is {age_in_days}.\")\n",
        "age_in_month = int(user_age)*12\n",
        "print(f\"Your age in days is {age_in_month}.\")"
      ],
      "metadata": {
        "colab": {
          "base_uri": "https://localhost:8080/"
        },
        "id": "2ff7VzGS30RP",
        "outputId": "926dfaee-ec66-497b-f95c-a484ed9b2770"
      },
      "execution_count": null,
      "outputs": [
        {
          "output_type": "stream",
          "name": "stdout",
          "text": [
            "Enter your age:30\n",
            "Your age in days is 10950.\n",
            "Your age in days is 360.\n"
          ]
        }
      ]
    },
    {
      "cell_type": "code",
      "source": [
        "l = [\"Bob\",\"Rolf\",\"Anne\"]\n",
        "print(l)\n",
        "#you cannot change inside a tuple\n",
        "t=(\"Bob\",\"Rolf\",\"Anne\")\n",
        "print(t)\n",
        "#set, you cannot havedupes\n",
        "s={\"Bob\",\"Rolf\",\"Anne\"}\n",
        "print(s)\n",
        "# print(l[0])\n",
        "# print(t[0])\n",
        "#set cannot have subscript\n",
        "# print(s[0])\n",
        "# l[0] = \"Smith\"\n",
        "\n",
        "# t[0] = \"Anne"
      ],
      "metadata": {
        "colab": {
          "base_uri": "https://localhost:8080/"
        },
        "id": "S1gMQsgZ4C1s",
        "outputId": "f8d66144-9d86-4662-9e87-2fff545947a7"
      },
      "execution_count": null,
      "outputs": [
        {
          "output_type": "stream",
          "name": "stdout",
          "text": [
            "['Bob', 'Rolf', 'Anne']\n",
            "('Bob', 'Rolf', 'Anne')\n",
            "{'Bob', 'Anne', 'Rolf'}\n"
          ]
        }
      ]
    },
    {
      "cell_type": "code",
      "source": [
        "print(s[1])"
      ],
      "metadata": {
        "colab": {
          "base_uri": "https://localhost:8080/",
          "height": 141
        },
        "id": "pT6NlRe28Utd",
        "outputId": "1a53fbd7-037b-4c53-de0e-ca6fd449c4c8"
      },
      "execution_count": null,
      "outputs": [
        {
          "output_type": "error",
          "ename": "TypeError",
          "evalue": "'set' object is not subscriptable",
          "traceback": [
            "\u001b[0;31m---------------------------------------------------------------------------\u001b[0m",
            "\u001b[0;31mTypeError\u001b[0m                                 Traceback (most recent call last)",
            "\u001b[0;32m<ipython-input-67-c1d0669698c5>\u001b[0m in \u001b[0;36m<cell line: 1>\u001b[0;34m()\u001b[0m\n\u001b[0;32m----> 1\u001b[0;31m \u001b[0mprint\u001b[0m\u001b[0;34m(\u001b[0m\u001b[0ms\u001b[0m\u001b[0;34m[\u001b[0m\u001b[0;36m1\u001b[0m\u001b[0;34m]\u001b[0m\u001b[0;34m)\u001b[0m\u001b[0;34m\u001b[0m\u001b[0;34m\u001b[0m\u001b[0m\n\u001b[0m",
            "\u001b[0;31mTypeError\u001b[0m: 'set' object is not subscriptable"
          ]
        }
      ]
    },
    {
      "cell_type": "code",
      "source": [
        "w = [\"Bob\",\"Rolf\",\"Anne\"]\n",
        "# print(l)\n",
        "\n",
        "w[1] = \"Smith\"\n",
        "print(w)"
      ],
      "metadata": {
        "colab": {
          "base_uri": "https://localhost:8080/"
        },
        "id": "DXH8rWRp5uaH",
        "outputId": "92f2a4cc-de19-49c7-f19a-9c27defe833e"
      },
      "execution_count": null,
      "outputs": [
        {
          "output_type": "stream",
          "name": "stdout",
          "text": [
            "['Bob', 'Smith', 'Anne']\n"
          ]
        }
      ]
    },
    {
      "cell_type": "code",
      "source": [
        "l.append(\"Smith\")\n",
        "print(l)\n",
        "\n",
        "l.remove(\"Bob\")\n",
        "print(l)"
      ],
      "metadata": {
        "colab": {
          "base_uri": "https://localhost:8080/"
        },
        "id": "NjIOXoGN4nSM",
        "outputId": "8aa5d08a-d11a-4556-9389-2f348ca61ccf"
      },
      "execution_count": null,
      "outputs": [
        {
          "output_type": "stream",
          "name": "stdout",
          "text": [
            "['Bob', 'Rolf', 'Anne', 'Smith']\n",
            "['Rolf', 'Anne', 'Smith']\n"
          ]
        }
      ]
    },
    {
      "cell_type": "code",
      "source": [
        "print(s)\n",
        "s.add(\"Smith\")\n",
        "s.add(\"Smith\")\n",
        "print(s)\n",
        "#sets cannot have duplicates"
      ],
      "metadata": {
        "colab": {
          "base_uri": "https://localhost:8080/"
        },
        "id": "UtuHAovY61NJ",
        "outputId": "afb77699-0afe-47b2-e67a-2e585bbf4a2f"
      },
      "execution_count": null,
      "outputs": [
        {
          "output_type": "stream",
          "name": "stdout",
          "text": [
            "{'Bob', 'Anne', 'Rolf', 'Smith'}\n",
            "{'Bob', 'Anne', 'Rolf', 'Smith'}\n"
          ]
        }
      ]
    },
    {
      "cell_type": "code",
      "source": [
        "friends = {\"Bob\",\"Rolf\",\"Anne\"}\n",
        "abroad = {\"Bob\",\"Anne\"}\n",
        "#finds the difference between friends and abroad\n",
        "local_friends = friends.difference(abroad)\n",
        "print(local_friends)\n",
        "#"
      ],
      "metadata": {
        "colab": {
          "base_uri": "https://localhost:8080/"
        },
        "id": "5s5MtgpV7KJz",
        "outputId": "2d03a731-76de-49e2-9988-d797a4c68746"
      },
      "execution_count": null,
      "outputs": [
        {
          "output_type": "stream",
          "name": "stdout",
          "text": [
            "{'Rolf'}\n"
          ]
        }
      ]
    },
    {
      "cell_type": "code",
      "source": [
        "local = {\"Rolf\"}\n",
        "abroad = {\"Bob\",\"Anne\"}\n",
        "#finds the union between local and abroad\n",
        "friends = local.union(abroad)\n",
        "print(friends)\n",
        "#"
      ],
      "metadata": {
        "colab": {
          "base_uri": "https://localhost:8080/"
        },
        "id": "g7pKM8Iy7i5K",
        "outputId": "c1777e44-252c-4c88-d1ea-7f1546355bc0"
      },
      "execution_count": null,
      "outputs": [
        {
          "output_type": "stream",
          "name": "stdout",
          "text": [
            "{'Bob', 'Anne', 'Rolf'}\n"
          ]
        }
      ]
    },
    {
      "cell_type": "code",
      "source": [
        "art={\"Bob\",\"Jen\",\"Rolf\",\"Charlie\"}\n",
        "science = {\"Bob\",\"Jen\",\"Adam\",\"Anne\"}\n",
        "both = art.intersection(science)\n",
        "print(both)\n",
        "#finding out which friends study both art and science"
      ],
      "metadata": {
        "colab": {
          "base_uri": "https://localhost:8080/"
        },
        "id": "cEiIdRhD77ps",
        "outputId": "772fa5a2-f5f0-4c6d-b180-720037dc069e"
      },
      "execution_count": null,
      "outputs": [
        {
          "output_type": "stream",
          "name": "stdout",
          "text": [
            "{'Bob', 'Jen'}\n"
          ]
        }
      ]
    },
    {
      "cell_type": "code",
      "source": [
        "#booleans\n",
        "print(5 == 5)\n",
        "print(5 > 5)\n",
        "print(10 != 10)"
      ],
      "metadata": {
        "colab": {
          "base_uri": "https://localhost:8080/"
        },
        "id": "85Gngfl279h6",
        "outputId": "04b6938d-0ded-402e-91b9-0bc3154f9e92"
      },
      "execution_count": null,
      "outputs": [
        {
          "output_type": "stream",
          "name": "stdout",
          "text": [
            "True\n",
            "False\n",
            "False\n"
          ]
        }
      ]
    },
    {
      "cell_type": "code",
      "source": [
        "friends = [\"Rolf\",\"Bob\"]\n",
        "abroad = [\"Rolf\",\"Bob\"]\n",
        "# print(friends == abroad)\n",
        "print(friends is abroad)\n",
        "#the lists themselves are different"
      ],
      "metadata": {
        "colab": {
          "base_uri": "https://localhost:8080/"
        },
        "id": "oaiHvE0T-L3C",
        "outputId": "f78f296e-53ab-441f-dd21-123e63f3d9cd"
      },
      "execution_count": null,
      "outputs": [
        {
          "output_type": "stream",
          "name": "stdout",
          "text": [
            "False\n"
          ]
        }
      ]
    },
    {
      "cell_type": "code",
      "source": [
        "day_of_week = input(\"What day of the week is it today?\").lower()\n",
        "if day_of_week == \"monday\":\n",
        "    print(\"Have a great start to your week!\")\n",
        "elif (day_of_week == \"teusday\"):\n",
        "    print(\"Its chewsday innit?\")\n",
        "else:\n",
        "    print(\"Full speed ahead\")\n",
        "\n",
        "print(day_of_week ==\"Monday\")"
      ],
      "metadata": {
        "colab": {
          "base_uri": "https://localhost:8080/"
        },
        "id": "YYuO6JnL-fWy",
        "outputId": "ac461197-d3c5-41cf-d570-e10714755675"
      },
      "execution_count": null,
      "outputs": [
        {
          "output_type": "stream",
          "name": "stdout",
          "text": [
            "What day of the week is it today?MoNday\n",
            "Have a great start to your week!\n",
            "False\n"
          ]
        }
      ]
    },
    {
      "cell_type": "code",
      "source": [
        "#the in keywords\n",
        "friends = [\"Rolf\",\"Bob\",\"Jen\"]\n",
        "print(\"Bob\" in friends)"
      ],
      "metadata": {
        "colab": {
          "base_uri": "https://localhost:8080/"
        },
        "id": "ggt9k-84-4IS",
        "outputId": "c3b6b444-51c2-4bb7-fcb6-19a376692f7a"
      },
      "execution_count": null,
      "outputs": [
        {
          "output_type": "stream",
          "name": "stdout",
          "text": [
            "True\n"
          ]
        }
      ]
    },
    {
      "cell_type": "code",
      "source": [
        "movies_watched = {\"The Matrix\",\"Green Book\",\"Her\"}\n",
        "user_movie = input(\"Enter something you've watched recently\")\n",
        "print(user_movie in movies_watched)\n"
      ],
      "metadata": {
        "colab": {
          "base_uri": "https://localhost:8080/"
        },
        "id": "YQVryOYUATTv",
        "outputId": "b9e70862-51c3-461d-df58-e52f1c0d20d1"
      },
      "execution_count": null,
      "outputs": [
        {
          "output_type": "stream",
          "name": "stdout",
          "text": [
            "Enter something you've watched recentlyThe Matrix\n",
            "True\n"
          ]
        }
      ]
    },
    {
      "cell_type": "code",
      "source": [
        "movies_watched = {\"The Matrix\",\"Green Book\",\"Her\"}\n",
        "user_movie = input(\"Enter something you've watched recently\")\n",
        "\n",
        "if user_movie in movies_watched:\n",
        "    print(f\"I've watched {user_movie} too!\")\n",
        "else:\n",
        "    print(\"I haven't watched that yet.\")"
      ],
      "metadata": {
        "colab": {
          "base_uri": "https://localhost:8080/"
        },
        "id": "84r6BOXnAYNZ",
        "outputId": "594895d9-7fb6-4026-fe87-9c5aa73bfaa0"
      },
      "execution_count": null,
      "outputs": [
        {
          "output_type": "stream",
          "name": "stdout",
          "text": [
            "Enter something you've watched recentlyThe Matrix\n",
            "I've watched The Matrix too!\n"
          ]
        }
      ]
    },
    {
      "cell_type": "code",
      "source": [
        "number = 7\n",
        "user_input = input(\"Enter 'y' if you would like to play:\")\n",
        "if user_input in (\"y\",\"Y\"):\n",
        "    user_number = int(input(\"Guess our number:\"))\n",
        "    if user_number == number:\n",
        "        print(\"You guessed correctly!\")\n",
        "    elif number - user_number in (1, -1):\n",
        "    # elif abs(number - user_number) == 1:\n",
        "\n",
        "        print(\"You were off by one.\")\n",
        "    else:\n",
        "        print(\"Sorry, it's wrong!\")\n",
        "elif user_input != \"y\":\n",
        "    quit()"
      ],
      "metadata": {
        "colab": {
          "base_uri": "https://localhost:8080/"
        },
        "id": "Y8j0afK-Anm5",
        "outputId": "013f739d-c55b-4fd4-b2a5-482b9704821d"
      },
      "execution_count": null,
      "outputs": [
        {
          "output_type": "stream",
          "name": "stdout",
          "text": [
            "Enter 'y' if you would like to play:y\n",
            "Guess our number:6\n",
            "You were off by one.\n"
          ]
        }
      ]
    },
    {
      "cell_type": "code",
      "source": [
        "number = 7\n",
        "# user_input = input(\"Would you like to play? (Y/n)\")\n",
        "\n",
        "while True:\n",
        "    user_input = input(\"Enter 'y' if you would like to play:\")\n",
        "    if user_input == \"n\":\n",
        "        break\n",
        "\n",
        "\n",
        "    user_number = int(input(\"Guess our number:\"))\n",
        "    if user_number == number:\n",
        "        print(\"You guessed correctly!\")\n",
        "        break\n",
        "    elif number - user_number in (1, -1):\n",
        "        print(\"You were off by one.\")\n",
        "    else:\n",
        "        print(\"Sorry, it's wrong!\")"
      ],
      "metadata": {
        "colab": {
          "base_uri": "https://localhost:8080/"
        },
        "id": "fdeMY_57BD0l",
        "outputId": "206ae9c8-2109-4922-c187-3bfcfb29d4ac"
      },
      "execution_count": null,
      "outputs": [
        {
          "name": "stdout",
          "output_type": "stream",
          "text": [
            "Enter 'y' if you would like to play:u\n",
            "Guess our number:8\n",
            "You were off by one.\n",
            "Enter 'y' if you would like to play:n\n"
          ]
        }
      ]
    },
    {
      "cell_type": "code",
      "source": [
        "friends = [\"Rolf\",\"Jen\",\"Bob\", \"Anne\"]\n",
        "for friend in friends:\n",
        "    print(f\"{friend} is my friend.\")\n",
        "\n",
        "for i in range(4):\n",
        "    print(f\"{friends[i]} is my friend.\")"
      ],
      "metadata": {
        "colab": {
          "base_uri": "https://localhost:8080/"
        },
        "id": "dT96HxLXDv-_",
        "outputId": "19feadec-5684-47ec-968a-8bf811b59682"
      },
      "execution_count": null,
      "outputs": [
        {
          "output_type": "stream",
          "name": "stdout",
          "text": [
            "Rolf is my friend.\n",
            "Jen is my friend.\n",
            "Bob is my friend.\n",
            "Anne is my friend.\n",
            "Rolf is my friend.\n",
            "Jen is my friend.\n",
            "Bob is my friend.\n",
            "Anne is my friend.\n"
          ]
        }
      ]
    },
    {
      "cell_type": "code",
      "source": [
        "grades = [35,67,98,100,100]\n",
        "total = 0\n",
        "amount = len(grades)\n",
        "\n",
        "for grade in grades:\n",
        "    total += grade\n",
        "\n",
        "print(total/amount)\n",
        "#"
      ],
      "metadata": {
        "colab": {
          "base_uri": "https://localhost:8080/"
        },
        "id": "8Ec4suvDDzIB",
        "outputId": "cccbdc92-bfb7-4e0c-bc2a-50d00e25ef51"
      },
      "execution_count": null,
      "outputs": [
        {
          "output_type": "stream",
          "name": "stdout",
          "text": [
            "80.0\n"
          ]
        }
      ]
    },
    {
      "cell_type": "code",
      "source": [
        "grades = [35,67,98,100,100]\n",
        "total = sum(grades)\n",
        "amount = len(grades)\n",
        "print(total/amount)"
      ],
      "metadata": {
        "colab": {
          "base_uri": "https://localhost:8080/"
        },
        "id": "K6n3juqjEsZc",
        "outputId": "ff5acd06-e040-4c10-f635-cb8cf819a180"
      },
      "execution_count": null,
      "outputs": [
        {
          "output_type": "stream",
          "name": "stdout",
          "text": [
            "80.0\n"
          ]
        }
      ]
    },
    {
      "cell_type": "code",
      "source": [
        "numbers = [1,3,5]\n",
        "doubled = [x*2 for x in numbers]\n",
        "print(doubled)\n"
      ],
      "metadata": {
        "colab": {
          "base_uri": "https://localhost:8080/"
        },
        "id": "PyReJQBGFDwl",
        "outputId": "a604ffd3-0d77-41f3-b944-a23b09254d2b"
      },
      "execution_count": null,
      "outputs": [
        {
          "output_type": "stream",
          "name": "stdout",
          "text": [
            "[2, 6, 10]\n"
          ]
        }
      ]
    },
    {
      "cell_type": "code",
      "source": [
        "friends = [\"Rolf\",\"Sam\",\"Samantha\",\"Saurabh\",\"Jen\"]\n",
        "starts_s = [friend for friend in friends if friend.startswith(\"S\")]\n",
        "print(starts_s)\n",
        "#\n",
        "print(\"friends: \", id(friends), \" starts_s: \", id(starts_s))"
      ],
      "metadata": {
        "colab": {
          "base_uri": "https://localhost:8080/"
        },
        "id": "Dsp5iwylGp39",
        "outputId": "3a2148e2-7e63-4cdb-ea33-d11d0fdb901f"
      },
      "execution_count": null,
      "outputs": [
        {
          "output_type": "stream",
          "name": "stdout",
          "text": [
            "['Sam', 'Samantha', 'Saurabh']\n",
            "friends:  137409958038976  starts_s:  137409956228416\n"
          ]
        }
      ]
    },
    {
      "cell_type": "code",
      "source": [
        "#dictionaries\n",
        "friend_ages = {\"Rolf\":24,\"Adam\":30,\"Anne\":27}\n",
        "friend_ages[\"Bob\"] = 20\n",
        "print(friend_ages)"
      ],
      "metadata": {
        "colab": {
          "base_uri": "https://localhost:8080/"
        },
        "id": "ZE-SLQ2LG9XA",
        "outputId": "65bb1514-6ea7-4d02-c557-58faf40cfd53"
      },
      "execution_count": null,
      "outputs": [
        {
          "output_type": "stream",
          "name": "stdout",
          "text": [
            "{'Rolf': 24, 'Adam': 30, 'Anne': 27, 'Bob': 20}\n"
          ]
        }
      ]
    },
    {
      "cell_type": "code",
      "source": [
        "friends = [\n",
        "    {\"name\":\"Rolf\",\"age\":24},\n",
        "    {\"name\":\"Adam\",\"age\":30},\n",
        "    {\"name\":\"Anne\",\"age\":27}\n",
        "]\n",
        "print(friends[0][\"name\"])\n",
        "#"
      ],
      "metadata": {
        "colab": {
          "base_uri": "https://localhost:8080/"
        },
        "id": "VwK7p7fOIiu8",
        "outputId": "9d67ea9d-e0f3-4dec-f59b-43de89425c43"
      },
      "execution_count": null,
      "outputs": [
        {
          "output_type": "stream",
          "name": "stdout",
          "text": [
            "Rolf\n"
          ]
        }
      ]
    },
    {
      "cell_type": "code",
      "source": [
        "student_attendance = {\"Rolf\":96,\"Bob\":80,\"Anne\":100}\n",
        "for student,attendance in student_attendance.items():\n",
        "    # print(f\"{student}: {student_attendance[student]}%\")\n",
        "    print(f\"{student}: {attendance}%\")\n",
        "\n",
        "#"
      ],
      "metadata": {
        "colab": {
          "base_uri": "https://localhost:8080/"
        },
        "id": "9gA91cXcI46C",
        "outputId": "a428a170-10f0-415a-aa47-2cc7bb96b636"
      },
      "execution_count": null,
      "outputs": [
        {
          "output_type": "stream",
          "name": "stdout",
          "text": [
            "Rolf: 96%\n",
            "Bob: 80%\n",
            "Anne: 100%\n"
          ]
        }
      ]
    },
    {
      "cell_type": "code",
      "source": [
        "student_attendance = {\"Rolf\":96,\"Bob\":80,\"Anne\":100}\n",
        "\n",
        "if \"Bob\" in student_attendance:\n",
        "    print(f\"Bob: {student_attendance['Bob']}\")\n",
        "else:\n",
        "    print(\"Bob isn't a student in this class!\")\n",
        "\n",
        "attendance_values = student_attendance.values()\n",
        "print(sum(attendance_values)/len(attendance_values))\n",
        "#"
      ],
      "metadata": {
        "colab": {
          "base_uri": "https://localhost:8080/"
        },
        "id": "61tgL2VSJPx2",
        "outputId": "0fec05f4-c698-418b-bbea-c61cb41a9e5a"
      },
      "execution_count": null,
      "outputs": [
        {
          "output_type": "stream",
          "name": "stdout",
          "text": [
            "Bob: 80\n",
            "92.0\n"
          ]
        }
      ]
    },
    {
      "cell_type": "code",
      "source": [
        "t=5,11\n",
        "x, y = t\n",
        "print(x,y)"
      ],
      "metadata": {
        "colab": {
          "base_uri": "https://localhost:8080/"
        },
        "id": "SNIQRirLKHpe",
        "outputId": "0f5847e4-57c1-423b-b2a2-f62c6fcc7cf1"
      },
      "execution_count": null,
      "outputs": [
        {
          "output_type": "stream",
          "name": "stdout",
          "text": [
            "5 11\n"
          ]
        }
      ]
    },
    {
      "cell_type": "code",
      "source": [
        "student_attendance = {\"Rolf\":96,\"Bob\":80,\"Anne\":100}\n",
        "print(list(student_attendance.items()))\n",
        "\n",
        "for student, attendance in student_attendance.items():\n",
        "    print(f\"{student}:{attendance}\")\n",
        "\n",
        "# for t in student_attendance.items():\n",
        "#     print (t)"
      ],
      "metadata": {
        "colab": {
          "base_uri": "https://localhost:8080/"
        },
        "id": "ooYHjnw9NNxS",
        "outputId": "4965cdc9-c77f-4041-f2a5-dc3f0433f7c9"
      },
      "execution_count": null,
      "outputs": [
        {
          "output_type": "stream",
          "name": "stdout",
          "text": [
            "[('Rolf', 96), ('Bob', 80), ('Anne', 100)]\n",
            "Rolf:96\n",
            "Bob:80\n",
            "Anne:100\n"
          ]
        }
      ]
    },
    {
      "cell_type": "code",
      "source": [
        "people = [(\"Bob\",42,\"Mechanic\"),(\"James\",24,\"Artist\"),(\"Harry\",32,\"Lecturer\")]\n",
        "\n",
        "for name, age, profession in people:\n",
        "    print(f\"Name:{name}, Age:{age}, Profession:{profession}\")\n",
        "#"
      ],
      "metadata": {
        "colab": {
          "base_uri": "https://localhost:8080/"
        },
        "id": "aDqfw6vINwwA",
        "outputId": "1fe65bae-939c-4dde-d488-081971a918a9"
      },
      "execution_count": null,
      "outputs": [
        {
          "output_type": "stream",
          "name": "stdout",
          "text": [
            "Name:Bob, Age:42, Profession:Mechanic\n",
            "Name:James, Age:24, Profession:Artist\n",
            "Name:Harry, Age:32, Profession:Lecturer\n"
          ]
        }
      ]
    },
    {
      "cell_type": "code",
      "source": [
        "person =(\"Bob\",42,\"Mechanic\")\n",
        "name,_,profession = person\n",
        "print(name,profession)"
      ],
      "metadata": {
        "colab": {
          "base_uri": "https://localhost:8080/"
        },
        "id": "XUYnVm4UORKz",
        "outputId": "27857feb-37bb-4cf7-d46a-aef150dcac45"
      },
      "execution_count": null,
      "outputs": [
        {
          "output_type": "stream",
          "name": "stdout",
          "text": [
            "Bob Mechanic\n"
          ]
        }
      ]
    },
    {
      "cell_type": "code",
      "source": [
        "head, *tail = [1,2,3,4,5]\n",
        "print(head)\n",
        "print(tail)"
      ],
      "metadata": {
        "colab": {
          "base_uri": "https://localhost:8080/"
        },
        "id": "FuNtaCyPPKdp",
        "outputId": "a17b867c-f4ab-4241-8812-a68bee617ffc"
      },
      "execution_count": null,
      "outputs": [
        {
          "output_type": "stream",
          "name": "stdout",
          "text": [
            "1\n",
            "[2, 3, 4, 5]\n"
          ]
        }
      ]
    },
    {
      "cell_type": "code",
      "source": [
        "def hello():\n",
        "    print(\"Hello!\")\n",
        "\n",
        "hello()"
      ],
      "metadata": {
        "colab": {
          "base_uri": "https://localhost:8080/"
        },
        "id": "tTgU4rgIPYVJ",
        "outputId": "3243d58d-ea41-48e6-907a-ace7b8104dcf"
      },
      "execution_count": null,
      "outputs": [
        {
          "output_type": "stream",
          "name": "stdout",
          "text": [
            "Hello!\n"
          ]
        }
      ]
    },
    {
      "cell_type": "code",
      "source": [
        "def user_age_in_seconds():\n",
        "    user_age = int(input(\"Enter you age:\"))\n",
        "    age_seconds = user_age*365*24*60*60\n",
        "    print(f\"Your age in seconds is {age_seconds}.\")\n",
        "\n",
        "user_age_in_seconds()"
      ],
      "metadata": {
        "colab": {
          "base_uri": "https://localhost:8080/"
        },
        "id": "7ZmBUkiiQMqg",
        "outputId": "97dfcd57-7366-4545-ed6a-640721f4bcf0"
      },
      "execution_count": null,
      "outputs": [
        {
          "output_type": "stream",
          "name": "stdout",
          "text": [
            "Enter you age:30\n",
            "Your age in seconds is 946080000.\n"
          ]
        }
      ]
    },
    {
      "cell_type": "code",
      "source": [
        "friends = [\"Rolf\",\"Bob\"]\n",
        "\n",
        "def add_friend():\n",
        "    friend_name = input(\"Enter your friend name:\")\n",
        "    friends.append(friend_name)\n",
        "\n",
        "add_friend()"
      ],
      "metadata": {
        "colab": {
          "base_uri": "https://localhost:8080/"
        },
        "id": "l2DHLMsYQqNw",
        "outputId": "33616fec-5609-4a55-c381-033613a7756c"
      },
      "execution_count": null,
      "outputs": [
        {
          "name": "stdout",
          "output_type": "stream",
          "text": [
            "Enter your friend name:Jenn\n"
          ]
        }
      ]
    },
    {
      "cell_type": "code",
      "source": [
        "del print"
      ],
      "metadata": {
        "id": "YSUJT_UwSVBe"
      },
      "execution_count": null,
      "outputs": []
    },
    {
      "cell_type": "code",
      "source": [
        "def add_friend():\n",
        "    friends.append(\"Rolf\")\n",
        "\n",
        "friends=[]\n",
        "add_friend()\n",
        "add_friend()\n",
        "add_friend()\n",
        "\n",
        "print(friends)"
      ],
      "metadata": {
        "colab": {
          "base_uri": "https://localhost:8080/"
        },
        "id": "msBr1dsaRSp3",
        "outputId": "1625ac15-f887-4d02-b55e-416eabde40b3"
      },
      "execution_count": null,
      "outputs": [
        {
          "output_type": "stream",
          "name": "stdout",
          "text": [
            "['Rolf', 'Rolf', 'Rolf']\n"
          ]
        }
      ]
    },
    {
      "cell_type": "code",
      "source": [
        "def add(x,y):\n",
        "    result = x+y\n",
        "    return result\n",
        "\n",
        "add(5,3)"
      ],
      "metadata": {
        "colab": {
          "base_uri": "https://localhost:8080/"
        },
        "id": "Mp7b5wMyR4xx",
        "outputId": "4150069b-bc07-4d1c-e681-4365f626182e"
      },
      "execution_count": null,
      "outputs": [
        {
          "output_type": "execute_result",
          "data": {
            "text/plain": [
              "8"
            ]
          },
          "metadata": {},
          "execution_count": 141
        }
      ]
    },
    {
      "cell_type": "code",
      "source": [
        "def say_hello(name):\n",
        "    print(f\"Hello {name}\")\n",
        "\n",
        "say_hello(\"Bob\")"
      ],
      "metadata": {
        "colab": {
          "base_uri": "https://localhost:8080/"
        },
        "id": "Kk9JJuIHTG4U",
        "outputId": "815be852-e72f-4c3f-b2ed-366137d8970f"
      },
      "execution_count": null,
      "outputs": [
        {
          "output_type": "stream",
          "name": "stdout",
          "text": [
            "Hello Bob\n"
          ]
        }
      ]
    },
    {
      "cell_type": "code",
      "source": [
        "def say_hello(name,surname):\n",
        "    print(f\"Hello {name} {surname}\")\n",
        "\n",
        "\n",
        "say_hello(surname = \"Bob\",name = \"Smith\")"
      ],
      "metadata": {
        "colab": {
          "base_uri": "https://localhost:8080/"
        },
        "id": "oH3EzT5QTNRb",
        "outputId": "76be0e5b-8cb4-40e2-c150-28e7b89a639b"
      },
      "execution_count": null,
      "outputs": [
        {
          "output_type": "stream",
          "name": "stdout",
          "text": [
            "Hello Smith Bob\n"
          ]
        }
      ]
    },
    {
      "cell_type": "code",
      "source": [
        "def divide(dividend, divisor):\n",
        "    if divisor != 0:\n",
        "        return dividend/divisor\n",
        "    else:\n",
        "        return \"You fool!\"\n",
        "\n",
        "divide(dividend=15, divisor=0)"
      ],
      "metadata": {
        "colab": {
          "base_uri": "https://localhost:8080/",
          "height": 35
        },
        "id": "Nvzo81_5TpAx",
        "outputId": "1298ed27-31c9-4017-f157-ec53fd039d6d"
      },
      "execution_count": null,
      "outputs": [
        {
          "output_type": "execute_result",
          "data": {
            "text/plain": [
              "'You fool!'"
            ],
            "application/vnd.google.colaboratory.intrinsic+json": {
              "type": "string"
            }
          },
          "metadata": {},
          "execution_count": 146
        }
      ]
    },
    {
      "cell_type": "code",
      "source": [
        "def add(x,y=8):\n",
        "    return x+y\n",
        "    print(\"This shouldn't print\")\n",
        "\n",
        "add(5,90)"
      ],
      "metadata": {
        "colab": {
          "base_uri": "https://localhost:8080/"
        },
        "id": "HJDO2eftT-Bs",
        "outputId": "0b39dad5-7c7a-4694-f2da-19f8ebb1831d"
      },
      "execution_count": null,
      "outputs": [
        {
          "output_type": "execute_result",
          "data": {
            "text/plain": [
              "95"
            ]
          },
          "metadata": {},
          "execution_count": 149
        }
      ]
    },
    {
      "cell_type": "code",
      "source": [
        "default_y = 5\n",
        "def add(x,y=default_y):\n",
        "    return x+y\n",
        "\n",
        "add(2)\n",
        "#"
      ],
      "metadata": {
        "colab": {
          "base_uri": "https://localhost:8080/"
        },
        "id": "SRTB8v8wUv0X",
        "outputId": "098729cc-98d6-4990-f727-af95c34a34fa"
      },
      "execution_count": null,
      "outputs": [
        {
          "output_type": "execute_result",
          "data": {
            "text/plain": [
              "7"
            ]
          },
          "metadata": {},
          "execution_count": 150
        }
      ]
    },
    {
      "cell_type": "code",
      "source": [
        "def add(x,y):\n",
        "  return (x+y)\n",
        "\n",
        "add(5,3)\n",
        "result = add(5,3)\n",
        "print(result)"
      ],
      "metadata": {
        "colab": {
          "base_uri": "https://localhost:8080/"
        },
        "id": "Q6xYAEFGVG7P",
        "outputId": "2a1ddc78-83a7-4db5-a3d4-c6c1983b6cc3"
      },
      "execution_count": null,
      "outputs": [
        {
          "output_type": "stream",
          "name": "stdout",
          "text": [
            "8\n"
          ]
        }
      ]
    },
    {
      "cell_type": "code",
      "source": [
        "def divide(dividend, divisor):\n",
        "    if divisor != 0:\n",
        "        return dividend/divisor\n",
        "    else:\n",
        "        return \"You fool!\"\n",
        "        print(\"This won't print\")\n",
        "\n",
        "\n",
        "result=divide(15,0)\n",
        "print(result)\n",
        "#"
      ],
      "metadata": {
        "colab": {
          "base_uri": "https://localhost:8080/"
        },
        "id": "CGzhO79Emdde",
        "outputId": "7d80ffca-4b41-456b-bb26-5314771a021a"
      },
      "execution_count": null,
      "outputs": [
        {
          "output_type": "stream",
          "name": "stdout",
          "text": [
            "You fool!\n"
          ]
        }
      ]
    },
    {
      "cell_type": "code",
      "source": [
        "#lambda functions, only for return values\n",
        "#only input outputs\n",
        "\n",
        "def add(x,y):\n",
        "    return x+y\n",
        "\n",
        "add = lambda x,y: x+y\n",
        "\n",
        "print(add(5,3))"
      ],
      "metadata": {
        "colab": {
          "base_uri": "https://localhost:8080/"
        },
        "id": "SpCEme8pnTWO",
        "outputId": "603ffabc-dbaa-4404-c93b-551c12ead1bf"
      },
      "execution_count": null,
      "outputs": [
        {
          "output_type": "stream",
          "name": "stdout",
          "text": [
            "8\n"
          ]
        }
      ]
    },
    {
      "cell_type": "code",
      "source": [
        "(lambda x,y: x+y)(5,3)"
      ],
      "metadata": {
        "colab": {
          "base_uri": "https://localhost:8080/"
        },
        "id": "7yCWyXlopMI-",
        "outputId": "83f00cb5-cebf-4334-96ca-37f2cd448777"
      },
      "execution_count": null,
      "outputs": [
        {
          "output_type": "execute_result",
          "data": {
            "text/plain": [
              "8"
            ]
          },
          "metadata": {},
          "execution_count": 155
        }
      ]
    },
    {
      "cell_type": "code",
      "source": [
        "def double(x):\n",
        "    return x*2\n",
        "\n",
        "# double = lambda x: x*2\n",
        "\n",
        "# print(double(5))\n",
        "\n",
        "sequence = [1,3,5,9]\n",
        "doubled = [double(x) for x in sequence]\n",
        "print(doubled)\n",
        "#make it a list if you want to actually see the values\n",
        "doubled=list(map(lambda x:x*2,sequence))\n",
        "print(doubled)"
      ],
      "metadata": {
        "colab": {
          "base_uri": "https://localhost:8080/"
        },
        "id": "grRbjMqvphs3",
        "outputId": "4a709d94-cdd7-4848-dba3-b4ab51d59f8d"
      },
      "execution_count": null,
      "outputs": [
        {
          "output_type": "stream",
          "name": "stdout",
          "text": [
            "[2, 6, 10, 18]\n",
            "[2, 6, 10, 18]\n"
          ]
        }
      ]
    },
    {
      "cell_type": "code",
      "source": [
        "users = [\n",
        "    (0,\"Bob\",\"password\"),\n",
        "    (1,\"Rolf\",\"bob123\"),\n",
        "    (2,\"Jose\",\"longp4assword\"),\n",
        "    (3,\"username\",\"1234\")\n",
        "]\n",
        "username_mapping = {user[1]:user for user in users}\n",
        "print(username_mapping)"
      ],
      "metadata": {
        "colab": {
          "base_uri": "https://localhost:8080/"
        },
        "id": "FRVlgmL5prkh",
        "outputId": "74fc4de2-8131-4fa4-b236-8ba20603994a"
      },
      "execution_count": null,
      "outputs": [
        {
          "output_type": "stream",
          "name": "stdout",
          "text": [
            "{'Bob': (0, 'Bob', 'password'), 'Rolf': (1, 'Rolf', 'bob123'), 'Jose': (2, 'Jose', 'longp4assword'), 'username': (3, 'username', '1234')}\n"
          ]
        }
      ]
    },
    {
      "cell_type": "code",
      "source": [
        "users = [\n",
        "    (0,\"Bob\",\"password\"),\n",
        "    (1,\"Rolf\",\"bob123\"),\n",
        "    (2,\"Jose\",\"longp4assword\"),\n",
        "    (3,\"username\",\"1234\")\n",
        "]\n",
        "username_mapping = {user[1]:user for user in users}\n",
        "\n",
        "username_input = input(\"Enter your username:\")\n",
        "password_input = input(\"Enter your password:\")\n",
        "\n",
        "_, username, password = username_mapping[username_input]\n",
        "\n",
        "if password_input == password:\n",
        "    print(\"Your details are correct!\")\n",
        "else:\n",
        "    print(\"Your details are incorrect!\")"
      ],
      "metadata": {
        "colab": {
          "base_uri": "https://localhost:8080/"
        },
        "id": "1W4PI6bQqhjv",
        "outputId": "aa781e40-cc9e-4236-8980-6953acc7af1c"
      },
      "execution_count": null,
      "outputs": [
        {
          "output_type": "stream",
          "name": "stdout",
          "text": [
            "Enter your username:Bob\n",
            "Enter your password:password\n",
            "Your details are correct!\n"
          ]
        }
      ]
    },
    {
      "cell_type": "code",
      "source": [
        "#create a dictionary\n",
        "student = {\n",
        "    'name': 'Jose',\n",
        "    'school': 'Computing',\n",
        "    'grades': (66, 77, 88)\n",
        "}\n"
      ],
      "metadata": {
        "id": "KzHnf41Rq8WH"
      },
      "execution_count": null,
      "outputs": []
    },
    {
      "cell_type": "code",
      "source": [
        "#modify grade function\n",
        "def average_grade(data):\n",
        "    grades = data['grades']  # Access the 'grades' key from the data dictionary\n",
        "    return sum(grades) / len(grades)  # Return the average\n"
      ],
      "metadata": {
        "id": "i8S3WVjLuCyG"
      },
      "execution_count": null,
      "outputs": []
    },
    {
      "cell_type": "code",
      "source": [
        "#add all grades\n",
        "def average_grade_all_students(student_list):\n",
        "    total = 0\n",
        "    count = 0\n",
        "    for student in student_list:\n",
        "        grades = student['grades']  # Access the 'grades' for each student\n",
        "        total += sum(grades)  # Add the sum of grades for the current student to total\n",
        "        count += len(grades)  # Add the number of grades for the current student to count\n",
        "\n",
        "    # Return the average grade for the entire class\n",
        "    return total / count if count > 0 else 0\n"
      ],
      "metadata": {
        "id": "6OrRB_SnuG7d"
      },
      "execution_count": null,
      "outputs": []
    },
    {
      "cell_type": "code",
      "source": [
        "def multiply(*args):\n",
        "    total = 1\n",
        "    for arg in args:\n",
        "        total *= arg\n",
        "    return total\n",
        "\n",
        "print(multiply(1,3,5))\n",
        "#* means it takes any number of arguments"
      ],
      "metadata": {
        "colab": {
          "base_uri": "https://localhost:8080/"
        },
        "id": "B0mudyEHvZUl",
        "outputId": "c1efb3e9-6233-456d-f76d-3529ebca1735"
      },
      "execution_count": null,
      "outputs": [
        {
          "output_type": "stream",
          "name": "stdout",
          "text": [
            "15\n"
          ]
        }
      ]
    },
    {
      "cell_type": "code",
      "source": [
        "def add(x,y):\n",
        "    return x+y\n",
        "\n",
        "# nums = [3,5]\n",
        "nums = {\"x\":15, \"y\":25}\n",
        "print(add(**nums))\n",
        "#print(add(nums))\n",
        "#split the nums into x and y below\n",
        "# print(add(*nums))"
      ],
      "metadata": {
        "colab": {
          "base_uri": "https://localhost:8080/"
        },
        "id": "Zx8rGJPZvofI",
        "outputId": "62e8d35b-cfe2-4578-fc85-532d044bc064"
      },
      "execution_count": null,
      "outputs": [
        {
          "output_type": "stream",
          "name": "stdout",
          "text": [
            "40\n"
          ]
        }
      ]
    },
    {
      "cell_type": "code",
      "source": [
        "def multiply(*args):\n",
        "    print(args)\n",
        "    total = 1\n",
        "    for arg in args:\n",
        "        total *= arg\n",
        "    return total\n",
        "\n",
        "def apply(*args, operator):\n",
        "    if operator == \"*\":\n",
        "        return multiply(*args)\n",
        "    elif operator == \"+\":\n",
        "        return sum(args)\n",
        "    else:\n",
        "        return \"No valid operator provided to apply().\"\n",
        "\n",
        "print(apply(1,3,6,7, operator=\"*\"))"
      ],
      "metadata": {
        "colab": {
          "base_uri": "https://localhost:8080/"
        },
        "id": "WF6nGmg8wers",
        "outputId": "b2b5ce9e-e002-42dd-9df7-6f09f26a9143"
      },
      "execution_count": null,
      "outputs": [
        {
          "output_type": "stream",
          "name": "stdout",
          "text": [
            "(1, 3, 6, 7)\n",
            "126\n"
          ]
        }
      ]
    },
    {
      "cell_type": "code",
      "source": [
        "#unpacking keyword arguments\n",
        "def named(**kwargs):\n",
        "    print(kwargs)\n",
        "\n",
        "named(name=\"Bob\",age=25)"
      ],
      "metadata": {
        "colab": {
          "base_uri": "https://localhost:8080/"
        },
        "id": "cy_QE9QjxJfV",
        "outputId": "fda55f8c-1498-4fe7-be9a-0f49ffa8f0d6"
      },
      "execution_count": null,
      "outputs": [
        {
          "output_type": "stream",
          "name": "stdout",
          "text": [
            "{'name': 'Bob', 'age': 25}\n"
          ]
        }
      ]
    },
    {
      "cell_type": "code",
      "source": [
        "def named(name, age):\n",
        "    print(name,age)\n",
        "\n",
        "details = {\"name\":\"Bob\",\"age\":25}\n",
        "named(**details)"
      ],
      "metadata": {
        "colab": {
          "base_uri": "https://localhost:8080/"
        },
        "id": "377LaqrE0bNS",
        "outputId": "7ad72be1-876d-449b-8d58-21a128a74576"
      },
      "execution_count": null,
      "outputs": [
        {
          "output_type": "stream",
          "name": "stdout",
          "text": [
            "Bob 25\n"
          ]
        }
      ]
    },
    {
      "cell_type": "code",
      "source": [
        "def named(**kwargs):\n",
        "    print(kwargs)\n",
        "\n",
        "def print_nicely(**kwargs):\n",
        "    named(**kwargs)\n",
        "    for arg, value in kwargs.items():\n",
        "        print(f\"{arg}:{value}\")\n",
        "\n",
        "print_nicely(name=\"Bob\",age=25)\n",
        "#the items is for dictionaries"
      ],
      "metadata": {
        "colab": {
          "base_uri": "https://localhost:8080/"
        },
        "id": "MJCTZvIH0q1c",
        "outputId": "64df3810-1490-4fb6-dddc-5df886bd6651"
      },
      "execution_count": null,
      "outputs": [
        {
          "output_type": "stream",
          "name": "stdout",
          "text": [
            "{'name': 'Bob', 'age': 25}\n",
            "name:Bob\n",
            "age:25\n"
          ]
        }
      ]
    },
    {
      "cell_type": "code",
      "source": [
        "def both(*args, **kwargs):\n",
        "    print(args)\n",
        "    print(kwargs)\n",
        "\n",
        "both(1,3,5,name=\"Bob\",age=25)\n",
        "#** is always a dictionary"
      ],
      "metadata": {
        "colab": {
          "base_uri": "https://localhost:8080/"
        },
        "id": "G5d0YRYu1cYd",
        "outputId": "bf664427-07f6-410b-b1f6-d6168260ba6d"
      },
      "execution_count": null,
      "outputs": [
        {
          "output_type": "stream",
          "name": "stdout",
          "text": [
            "(1, 3, 5)\n",
            "{'name': 'Bob', 'age': 25}\n"
          ]
        }
      ]
    },
    {
      "cell_type": "markdown",
      "source": [
        "#Object Oriented Programming"
      ],
      "metadata": {
        "id": "OZdzvyi63WgB"
      }
    },
    {
      "cell_type": "code",
      "source": [
        "student = {\"name\":\"Rolf\",\"grades\":(89,90,93,78,90)}\n",
        "\n",
        "def average(sequence):\n",
        "    return sum(sequence)/len(sequence)\n",
        "\n",
        "print(average(student[\"grades\"]))\n",
        "#the function does notr know anything about the student\n",
        "#its better if we ask specific average about the student\n",
        "# print(student.average())"
      ],
      "metadata": {
        "colab": {
          "base_uri": "https://localhost:8080/",
          "height": 193
        },
        "id": "GlIVH8yT22lI",
        "outputId": "e50ca603-51e7-4a9f-8172-abe9021262b9"
      },
      "execution_count": null,
      "outputs": [
        {
          "output_type": "stream",
          "name": "stdout",
          "text": [
            "88.0\n"
          ]
        },
        {
          "output_type": "error",
          "ename": "AttributeError",
          "evalue": "'dict' object has no attribute 'average'",
          "traceback": [
            "\u001b[0;31m---------------------------------------------------------------------------\u001b[0m",
            "\u001b[0;31mAttributeError\u001b[0m                            Traceback (most recent call last)",
            "\u001b[0;32m<ipython-input-177-cb150b842a21>\u001b[0m in \u001b[0;36m<cell line: 9>\u001b[0;34m()\u001b[0m\n\u001b[1;32m      7\u001b[0m \u001b[0;31m#the function does notr know anything about the student\u001b[0m\u001b[0;34m\u001b[0m\u001b[0;34m\u001b[0m\u001b[0m\n\u001b[1;32m      8\u001b[0m \u001b[0;31m#its better if we ask specific average about the student\u001b[0m\u001b[0;34m\u001b[0m\u001b[0;34m\u001b[0m\u001b[0m\n\u001b[0;32m----> 9\u001b[0;31m \u001b[0mprint\u001b[0m\u001b[0;34m(\u001b[0m\u001b[0mstudent\u001b[0m\u001b[0;34m.\u001b[0m\u001b[0maverage\u001b[0m\u001b[0;34m(\u001b[0m\u001b[0;34m)\u001b[0m\u001b[0;34m)\u001b[0m\u001b[0;34m\u001b[0m\u001b[0;34m\u001b[0m\u001b[0m\n\u001b[0m",
            "\u001b[0;31mAttributeError\u001b[0m: 'dict' object has no attribute 'average'"
          ]
        }
      ]
    },
    {
      "cell_type": "code",
      "source": [
        "class Student:\n",
        "  #defining how a student will behave\n",
        "  def __init__(self):\n",
        "    self.name = \"Rolf\"\n",
        "    self.grades = (89,90,93,78,90)\n",
        "\n",
        "  def average_grade(self):\n",
        "    return sum(self.grades)/len(self.grades)\n",
        "\n",
        "student = Student()\n",
        "print(student.name)\n",
        "print(student.grades)\n",
        "# print(Student.average(student))\n",
        "print(student.average_grade())\n",
        "#"
      ],
      "metadata": {
        "colab": {
          "base_uri": "https://localhost:8080/"
        },
        "id": "BeFgBFBI-jhZ",
        "outputId": "57d15e6b-8592-487e-9286-efc8753af8ed"
      },
      "execution_count": null,
      "outputs": [
        {
          "output_type": "stream",
          "name": "stdout",
          "text": [
            "Rolf\n",
            "(89, 90, 93, 78, 90)\n",
            "88.0\n"
          ]
        }
      ]
    },
    {
      "cell_type": "code",
      "source": [
        "class Student:\n",
        "  #defining how a student will behave\n",
        "  def __init__(self,name,grades):\n",
        "    self.name = name\n",
        "    self.grades = grades\n",
        "\n",
        "  def average_grade(self):\n",
        "    return sum(self.grades)/len(self.grades)\n",
        "\n",
        "student = Student(\"Bob\", (100,100,93,78,90))\n",
        "student2 = Student(\"Rolf\", (89,90,93,78,90))\n",
        "# print(student.name)\n",
        "# print(student.grades)\n",
        "print(Student.average_grade(student2))\n",
        "print(student2.average_grade())\n",
        "# print(student2.average_grade())\n",
        "#"
      ],
      "metadata": {
        "colab": {
          "base_uri": "https://localhost:8080/"
        },
        "id": "W9baS6_w_-Jx",
        "outputId": "a358ee43-728c-4945-88ec-07bbcf0fb7c1"
      },
      "execution_count": null,
      "outputs": [
        {
          "output_type": "stream",
          "name": "stdout",
          "text": [
            "88.0\n",
            "88.0\n"
          ]
        }
      ]
    },
    {
      "cell_type": "markdown",
      "source": [
        "##__str__ and __repr__ methods"
      ],
      "metadata": {
        "id": "jYe9kkgzDHCQ"
      }
    },
    {
      "cell_type": "code",
      "source": [
        "class Person:\n",
        "  def __init__(self,name,age):\n",
        "      self.name = name\n",
        "      self.age = age\n",
        "\n",
        "  # def __str__(self):\n",
        "  #   return f\"Person {self.name}, {self.age} years old.\"\n",
        "  def __repr__(self):\n",
        "    return f\"<Person({self.name},{self.age})>\"\n",
        "    # return \"Hellow\"\n",
        "\n",
        "\n",
        "\n",
        "bob = Person(\"Bob\",35)\n",
        "print(bob)\n",
        "\n",
        "#str method is to turn your object into a string\n",
        "#repr is when to print an unambiguous representation of an object"
      ],
      "metadata": {
        "colab": {
          "base_uri": "https://localhost:8080/"
        },
        "id": "aQ37q1JZDKat",
        "outputId": "55afb6e8-f4b6-4d1c-b870-14cd9061dfbc"
      },
      "execution_count": null,
      "outputs": [
        {
          "output_type": "stream",
          "name": "stdout",
          "text": [
            "<Person(Bob,35)>\n"
          ]
        }
      ]
    },
    {
      "cell_type": "code",
      "source": [
        "class Store:\n",
        "  def __init__(self,name):\n",
        "    self.name = name\n",
        "    self.items = []\n",
        "  #make init method, it only takes name, and it should initialise name and self items\n",
        "  #store object will always have these two properties\n",
        "  def add_item(self,name,price):\n",
        "    item = {'name':name, 'price':price}\n",
        "    self.items.append(item)\n",
        "\n",
        "  def stock_price(self):\n",
        "    # total = 0\n",
        "    # for item in self.items:\n",
        "    #   total += item['price']\n",
        "    # return total\n",
        "\n",
        "    return sum([item['price'] for item in self.items])\n",
        "\n",
        "    #it creates a diuctionary with keys name and price which appends to self items\n",
        "    #this dictionary will have name and price"
      ],
      "metadata": {
        "id": "drIJ1c7VDSuh"
      },
      "execution_count": null,
      "outputs": []
    },
    {
      "cell_type": "markdown",
      "source": [
        "#classmethod and static method"
      ],
      "metadata": {
        "id": "KWxfrjS00Wd4"
      }
    },
    {
      "cell_type": "code",
      "source": [
        "class ClassTest:\n",
        "  def instance_method(self):\n",
        "    print(f\"Called instance_method of {self}\")\n",
        "\n",
        "# test = ClassTest()\n",
        "# test.instance_method()\n",
        "#instance method means called on class instance\n",
        "\n",
        "  @classmethod\n",
        "  def class_method(cls):\n",
        "    print(f\"Called class_method of {cls}\")\n",
        "\n",
        "  @staticmethod\n",
        "  def static_method():\n",
        "    print(\"Called static_method.\")\n",
        "\n",
        "ClassTest.class_method()\n",
        "ClassTest.static_method()\n",
        "#instance method used for most things\n",
        "#"
      ],
      "metadata": {
        "colab": {
          "base_uri": "https://localhost:8080/"
        },
        "id": "iLVeX70a0slJ",
        "outputId": "e329f40a-236f-41ba-f884-27c5bdb9b1ab"
      },
      "execution_count": null,
      "outputs": [
        {
          "output_type": "stream",
          "name": "stdout",
          "text": [
            "Called class_method of <class '__main__.ClassTest'>\n",
            "Called static_method.\n"
          ]
        }
      ]
    },
    {
      "cell_type": "code",
      "source": [
        "class Book:\n",
        "  TYPES = (\"hardcover\",\"paperback\")\n",
        "  def __init__(self,name,book_type,weight):\n",
        "    self.name = name\n",
        "    self.book_type = book_type\n",
        "    self.weight = weight\n",
        "\n",
        "  def __repr__(self):\n",
        "    return f\"<Book {self.name},{self.book_type},{self.weight}g>\"\n",
        "\n",
        "  @classmethod\n",
        "  def hardcover(cls,name,page_weight):\n",
        "    return cls(name,cls.TYPES[0],page_weight+100)\n",
        "\n",
        "  @classmethod\n",
        "  def paperback(cls,name,page_weight):\n",
        "    return cls(name,cls.TYPES[1],page_weight)\n",
        "\n",
        "# print(Book.TYPES)\n",
        "# book = Book(\"Harry Potter\",\"comic book\",1500)\n",
        "book = Book.hardcover(\"Harry Potter\",1500)\n",
        "light = Book.paperback(\"Python101\",1500)\n",
        "print(book)\n",
        "print(light)\n",
        "#"
      ],
      "metadata": {
        "colab": {
          "base_uri": "https://localhost:8080/"
        },
        "id": "PrbQOcVP30MD",
        "outputId": "2f7e21b7-9193-4d1d-b121-369c2867931a"
      },
      "execution_count": null,
      "outputs": [
        {
          "output_type": "stream",
          "name": "stdout",
          "text": [
            "<Book Harry Potter,hardcover,1600g>\n",
            "<Book Python101,paperback,1500g>\n"
          ]
        }
      ]
    },
    {
      "cell_type": "code",
      "source": [
        "animal = \"lion\"\n",
        "print(f\"A {animal} is a cold animal.\")"
      ],
      "metadata": {
        "id": "GTeD7eZn398x",
        "colab": {
          "base_uri": "https://localhost:8080/"
        },
        "outputId": "fd776f67-dadb-4f2b-dc0b-7bf91e148d8a"
      },
      "execution_count": null,
      "outputs": [
        {
          "output_type": "stream",
          "name": "stdout",
          "text": [
            "A lion is a cold animal.\n"
          ]
        }
      ]
    },
    {
      "cell_type": "code",
      "source": [
        "class Store:\n",
        "    def __init__(self, name):\n",
        "        self.name = name\n",
        "        self.items = []\n",
        "\n",
        "    def add_item(self, name, price):\n",
        "        self.items.append({\n",
        "            'name': name,\n",
        "            'price': price\n",
        "        })\n",
        "\n",
        "    #just returns all item value in store\n",
        "    def stock_price(self):\n",
        "        total = 0\n",
        "        for item in self.items:\n",
        "            total += item['price']\n",
        "        return total\n",
        "\n",
        "    @classmethod\n",
        "    def franchise(cls, store):\n",
        "        # Return another store, with the same name as the argument's name, plus \" - franchise\"\n",
        "        return cls(store.name + \" - franchise\")\n",
        "\n",
        "\n",
        "    @staticmethod\n",
        "    def store_details(store):\n",
        "        # Return a string representing the argument\n",
        "        # It should be in the format 'NAME, total stock price: TOTAL'\n",
        "        return \"{}, total stock price: {}\".format(store.name, int(store.stock_price()))\n",
        "        # return f\"{store.name}, total stock price: {stock_price()}\"\n",
        "        # return f\"<Book {self.name},{self.book_type},{self.weight}g>\"\n",
        "\n",
        "\n",
        "\n",
        "#cls is just referencing to the main Store class."
      ],
      "metadata": {
        "id": "ek2JENLI8N6-"
      },
      "execution_count": null,
      "outputs": []
    },
    {
      "cell_type": "code",
      "source": [
        "store = Store(\"Test\")\n",
        "store2 = Store(\"Amazon\")\n",
        "store2.add_item(\"Keyboard\", 160)\n",
        "print(Store.franchise(store))\n",
        "print(Store.franchise(store2))\n",
        "print(Store.store_details(store))\n",
        "print(Store.store_details(store2))"
      ],
      "metadata": {
        "colab": {
          "base_uri": "https://localhost:8080/"
        },
        "id": "WJYN8lci-JKX",
        "outputId": "1fdcdc34-0629-4887-8c84-df67f471079e"
      },
      "execution_count": null,
      "outputs": [
        {
          "output_type": "stream",
          "name": "stdout",
          "text": [
            "<__main__.Store object at 0x79b73781fd60>\n",
            "<__main__.Store object at 0x79b73781d7e0>\n",
            "Test, total stock price: 0\n",
            "Amazon, total stock price: 160\n"
          ]
        }
      ]
    },
    {
      "cell_type": "code",
      "source": [
        "# Create a store\n",
        "store = Store(\"Tech Store\")\n",
        "\n",
        "# Add items to the store\n",
        "store.add_item(\"Laptop\", 1200)\n",
        "store.add_item(\"Phone\", 800)\n",
        "\n",
        "# Print stock price of the original store\n",
        "print(f\"Stock price of {store.name}: {store.stock_price()}\")  # Output: Stock price of Tech Store: 2000\n",
        "\n",
        "# Create a franchise store\n",
        "franchise_store = Store.franchise(store)\n",
        "\n",
        "# Print the name of the franchise store\n",
        "print(f\"Franchise store name: {franchise_store.name}\")  # Output: Franchise store name: Tech Store - franchise\n",
        "\n",
        "# Print the details of the franchise store\n",
        "print(Store.store_details(franchise_store))  # Output: Tech Store - franchise, total stock price: 0\n",
        "\n",
        "# Print the details of the original store\n",
        "print(Store.store_details(store))  # Output: Tech Store, total stock price: 2000\n"
      ],
      "metadata": {
        "colab": {
          "base_uri": "https://localhost:8080/"
        },
        "id": "mzSYgscT9OB9",
        "outputId": "fd43bdfd-7874-482c-d10b-a7ae548b5c36"
      },
      "execution_count": null,
      "outputs": [
        {
          "output_type": "stream",
          "name": "stdout",
          "text": [
            "Stock price of Tech Store: 2000\n",
            "Franchise store name: Tech Store - franchise\n",
            "Tech Store - franchise, total stock price: 0\n",
            "Tech Store, total stock price: 2000\n"
          ]
        }
      ]
    },
    {
      "cell_type": "markdown",
      "source": [
        "#class inheritance"
      ],
      "metadata": {
        "id": "B_I9JczK_QXa"
      }
    },
    {
      "cell_type": "code",
      "source": [
        "class Device:\n",
        "  def __init__(self,name,connected_by):\n",
        "    self.name = name\n",
        "    self.connected_by = connected_by\n",
        "    self.connected = True\n",
        "\n",
        "    def __str__(self):\n",
        "      return f\"Device {self.name!r} ({self.connected_by})\"\n",
        "\n",
        "  def disconnect(self):\n",
        "    self.connected = False\n",
        "    print(\"Disconnected.\")\n",
        "\n",
        "# printer = Device(\"Printer\",\"USB\")\n",
        "# print(printer)\n",
        "# printer.disconnect()\n",
        "#\n",
        "\n",
        "class Printer(Device):\n",
        "  def __init__(self,name,connected_by,capacity):\n",
        "    #this init comes from the inheritance of the parent\n",
        "\n",
        "    super().__init__(name,connected_by)\n",
        "    self.capacity = capacity\n",
        "    self.remaining_pages = capacity\n",
        "\n",
        "  def __str__(self):\n",
        "    return f\"{super().__str__()} ({self.remaining_pages} pages remaining)\"\n",
        "\n",
        "  def print(self,pages):\n",
        "    if not self.connected:\n",
        "      print(\"Your printer is not connected!\")\n",
        "      return\n",
        "    print(f\"Printing {pages} pages.\")\n",
        "    self.remaining_pages -= pages\n",
        "\n",
        "printer = Printer(\"Printer\",\"USB\",500)\n",
        "print(printer)\n",
        "printer.print(20)\n",
        "print(printer)\n",
        "printer.disconnect()\n",
        "printer.print(30)\n",
        "#"
      ],
      "metadata": {
        "colab": {
          "base_uri": "https://localhost:8080/"
        },
        "id": "5-iYtgrJ_Ukm",
        "outputId": "bdf81bc8-709d-4b7f-ea68-8f573636048b"
      },
      "execution_count": null,
      "outputs": [
        {
          "output_type": "stream",
          "name": "stdout",
          "text": [
            "<__main__.Printer object at 0x79b73781f9a0> (500 pages remaining)\n",
            "Printing 20 pages.\n",
            "<__main__.Printer object at 0x79b73781f9a0> (480 pages remaining)\n",
            "Disconnected.\n",
            "Your printer is not connected!\n"
          ]
        }
      ]
    },
    {
      "cell_type": "markdown",
      "source": [
        "#class composition\n",
        "##the opposite of inheritance"
      ],
      "metadata": {
        "id": "Yu1JaytGDGy8"
      }
    },
    {
      "cell_type": "code",
      "source": [
        "class BookShelf:\n",
        "  def __init__(self,quantity):\n",
        "    self.quantity = quantity\n",
        "\n",
        "  def __str__(self):\n",
        "    return f\"BookShelf with {self.quantity} books.\"\n",
        "\n",
        "shelf = BookShelf(300)\n",
        "# print(shelf)\n",
        "\n",
        "class Book(BookShelf):\n",
        "  def __init__(self,name,quantity):\n",
        "    super().__init__(quantity)\n",
        "    self.name = name\n",
        "\n",
        "  def __str__(self):\n",
        "    return f\"Book {self.name}\"\n",
        "\n",
        "book = Book(\"Harry Potter\", 120)\n",
        "print(book)"
      ],
      "metadata": {
        "colab": {
          "base_uri": "https://localhost:8080/"
        },
        "id": "sE62IKF7DL9G",
        "outputId": "caae6cdf-ecca-474d-e57b-67479acdc0e1"
      },
      "execution_count": null,
      "outputs": [
        {
          "output_type": "stream",
          "name": "stdout",
          "text": [
            "Book Harry Potter\n"
          ]
        }
      ]
    },
    {
      "cell_type": "code",
      "source": [
        "class BookShelf:\n",
        "  def __init__(self,*books):\n",
        "    self.books = books\n",
        "\n",
        "  def __str__(self):\n",
        "    return f\"BookShelf with {len(self.books)} books.\"\n",
        "\n",
        "# shelf = BookShelf(300)\n",
        "# print(shelf)\n",
        "\n",
        "class Book:\n",
        "  def __init__(self,name):\n",
        "    self.name = name\n",
        "\n",
        "  def __str__(self):\n",
        "    return f\"Book {self.name}\"\n",
        "\n",
        "book = Book(\"Harry Potter\")\n",
        "book2 = Book(\"Python 101\")\n",
        "\n",
        "shelf = BookShelf(book,book2)\n",
        "print(shelf)\n",
        "print(book)\n",
        "print(book2)"
      ],
      "metadata": {
        "colab": {
          "base_uri": "https://localhost:8080/"
        },
        "id": "fTpW8IcfEDnm",
        "outputId": "2edac52e-f078-4b6d-e26b-2216a24d4351"
      },
      "execution_count": null,
      "outputs": [
        {
          "output_type": "stream",
          "name": "stdout",
          "text": [
            "BookShelf with 2 books.\n",
            "Book Harry Potter\n",
            "Book Python 101\n"
          ]
        }
      ]
    },
    {
      "cell_type": "markdown",
      "source": [
        "#type hinting"
      ],
      "metadata": {
        "id": "1xl7KTijJaL1"
      }
    },
    {
      "cell_type": "code",
      "source": [
        "# def list_avg(sequence:list) -> float:\n",
        "#   return sum(sequence)/len(sequence)\n",
        "from typing import List\n",
        "\n",
        "def list_avg(sequence: list) -> float:\n",
        "  return sum(sequence)/len(sequence)\n",
        "\n",
        "print(list_avg([123]))  # Output: 123.0\n",
        "print(list_avg([1, 2, 3]))  # Output: 2.0"
      ],
      "metadata": {
        "colab": {
          "base_uri": "https://localhost:8080/"
        },
        "id": "DTuIjdQUJcQ2",
        "outputId": "8beabb82-6b0c-4298-9b41-48827156ac93"
      },
      "execution_count": null,
      "outputs": [
        {
          "output_type": "stream",
          "name": "stdout",
          "text": [
            "123.0\n",
            "2.0\n"
          ]
        }
      ]
    },
    {
      "cell_type": "code",
      "source": [
        "class Book:\n",
        "  #no return values because this doesnt return anything\n",
        "  def __init__(self,name:str,page_count:int):\n",
        "    self.name = name\n",
        "    self.page_count = page_count\n",
        "\n",
        "book = Book(\"Harry Potter\",500)\n",
        "print(book)"
      ],
      "metadata": {
        "colab": {
          "base_uri": "https://localhost:8080/"
        },
        "id": "WsMC8HHPKP_h",
        "outputId": "c5a05517-7eca-436b-e13d-87bdfb1a5c04"
      },
      "execution_count": null,
      "outputs": [
        {
          "output_type": "stream",
          "name": "stdout",
          "text": [
            "<__main__.Book object at 0x79b73757e7d0>\n"
          ]
        }
      ]
    },
    {
      "cell_type": "code",
      "source": [
        "from typing import List\n",
        "\n",
        "class BookShelf:\n",
        "  #the book parameter is a list of book objects\n",
        "  def __init__(self,books:List[Book]):\n",
        "    self.books = books\n",
        "\n",
        "  #STRING BEING RETURNSED FROM THE STR\n",
        "  def __str__(self) -> str:\n",
        "    return f\"BookShelf with {len(self.books)} books.\"\n",
        "\n",
        "book = Book(\"Harry Potter\",500)\n",
        "book2 = Book(\"Python 101\",600)\n",
        "shelf = BookShelf([book,book2])\n",
        "print(shelf)"
      ],
      "metadata": {
        "colab": {
          "base_uri": "https://localhost:8080/"
        },
        "id": "rvpz2NvyLbOn",
        "outputId": "7aaedfd6-b581-445b-b703-70540facc5fd"
      },
      "execution_count": null,
      "outputs": [
        {
          "output_type": "stream",
          "name": "stdout",
          "text": [
            "BookShelf with 2 books.\n"
          ]
        }
      ]
    },
    {
      "cell_type": "code",
      "source": [
        "class Book:\n",
        "  TYPES = (\"hardcover\",\"paperback\")\n",
        "  def __init__(self,name:str,book_type:str,weight:int):\n",
        "    self.name = name\n",
        "    self.book_type = book_type\n",
        "    self.weight = weight\n",
        "\n",
        "  def __repr__(self) -> str:\n",
        "    return f\"<Book {self.name},{self.book_type},{self.weight}g>\"\n",
        "\n",
        "  @classmethod\n",
        "  def hardcover(cls,name:str,page_weight:int) -> \"Book\":\n",
        "    return cls(name,cls.TYPES[0],page_weight+100)\n",
        "\n",
        "  @classmethod\n",
        "  def paperback(cls,name:str,page_weight:int) -> \"Book\":\n",
        "    return cls(name,cls.TYPES[1],page_weight)\n",
        "\n",
        "book = Book(\"Harry Potter\")"
      ],
      "metadata": {
        "id": "Mx_SkkqVL1rH"
      },
      "execution_count": null,
      "outputs": []
    },
    {
      "cell_type": "code",
      "source": [
        "import mymodule\n",
        "\n",
        "mymodule.sqroot(5)"
      ],
      "metadata": {
        "colab": {
          "base_uri": "https://localhost:8080/"
        },
        "id": "3O_XaZ4IRRGs",
        "outputId": "57a9327b-c72f-43f2-cedd-ab526d23d5cb"
      },
      "execution_count": null,
      "outputs": [
        {
          "output_type": "execute_result",
          "data": {
            "text/plain": [
              "2.23606797749979"
            ]
          },
          "metadata": {},
          "execution_count": 70
        }
      ]
    },
    {
      "cell_type": "code",
      "source": [
        "from mymodule2 import divide\n",
        "print(divide(10,2))\n",
        "print(__name__)\n"
      ],
      "metadata": {
        "colab": {
          "base_uri": "https://localhost:8080/"
        },
        "id": "BZKrwlhqRfQd",
        "outputId": "15ef67ce-bf44-4401-df6b-f0292b408ecb"
      },
      "execution_count": null,
      "outputs": [
        {
          "output_type": "stream",
          "name": "stdout",
          "text": [
            "5.0\n",
            "__main__\n"
          ]
        }
      ]
    },
    {
      "cell_type": "code",
      "source": [
        "import sys\n",
        "\n",
        "print(sys.path)"
      ],
      "metadata": {
        "colab": {
          "base_uri": "https://localhost:8080/"
        },
        "id": "FZ5uXT_oV2Pk",
        "outputId": "5629ad08-d0df-4bc0-dedd-7612cb6460e2"
      },
      "execution_count": null,
      "outputs": [
        {
          "output_type": "stream",
          "name": "stdout",
          "text": [
            "['/content', '/env/python', '/usr/lib/python310.zip', '/usr/lib/python3.10', '/usr/lib/python3.10/lib-dynload', '', '/usr/local/lib/python3.10/dist-packages', '/usr/lib/python3/dist-packages', '/usr/local/lib/python3.10/dist-packages/IPython/extensions', '/usr/local/lib/python3.10/dist-packages/setuptools/_vendor', '/root/.ipython']\n"
          ]
        }
      ]
    },
    {
      "cell_type": "code",
      "source": [
        "# import libs.mylib"
      ],
      "metadata": {
        "colab": {
          "base_uri": "https://localhost:8080/"
        },
        "id": "HlAKAnj7W4SH",
        "outputId": "40a55c5a-820b-437b-c7dc-9d83afb454a4"
      },
      "execution_count": null,
      "outputs": [
        {
          "output_type": "stream",
          "name": "stdout",
          "text": [
            "mylib.py libs.mylib\n"
          ]
        }
      ]
    },
    {
      "cell_type": "code",
      "source": [
        "import mymodule2\n",
        "import sys"
      ],
      "metadata": {
        "colab": {
          "base_uri": "https://localhost:8080/"
        },
        "id": "BHEnVTBrXEY-",
        "outputId": "03ac934c-f06c-4330-a8ae-4f6298055468"
      },
      "execution_count": null,
      "outputs": [
        {
          "output_type": "stream",
          "name": "stdout",
          "text": [
            "mymodule.py:  mymodule2\n",
            "mylib.py libs.mylib\n"
          ]
        }
      ]
    },
    {
      "cell_type": "code",
      "source": [
        "#main here\n",
        "import mymodule\n",
        "\n",
        "print(\"code.py: \", __name__)"
      ],
      "metadata": {
        "colab": {
          "base_uri": "https://localhost:8080/",
          "height": 406
        },
        "id": "8SN1NQ6PXWfJ",
        "outputId": "c7aabe50-50a1-49cf-f440-867a50e77b06"
      },
      "execution_count": null,
      "outputs": [
        {
          "output_type": "error",
          "ename": "ModuleNotFoundError",
          "evalue": "No module named 'mymodule'",
          "traceback": [
            "\u001b[0;31m---------------------------------------------------------------------------\u001b[0m",
            "\u001b[0;31mModuleNotFoundError\u001b[0m                       Traceback (most recent call last)",
            "\u001b[0;32m<ipython-input-1-9b1a7b67aa68>\u001b[0m in \u001b[0;36m<cell line: 2>\u001b[0;34m()\u001b[0m\n\u001b[1;32m      1\u001b[0m \u001b[0;31m#main here\u001b[0m\u001b[0;34m\u001b[0m\u001b[0;34m\u001b[0m\u001b[0m\n\u001b[0;32m----> 2\u001b[0;31m \u001b[0;32mimport\u001b[0m \u001b[0mmymodule\u001b[0m\u001b[0;34m\u001b[0m\u001b[0;34m\u001b[0m\u001b[0m\n\u001b[0m\u001b[1;32m      3\u001b[0m \u001b[0;34m\u001b[0m\u001b[0m\n\u001b[1;32m      4\u001b[0m \u001b[0mprint\u001b[0m\u001b[0;34m(\u001b[0m\u001b[0;34m\"code.py: \"\u001b[0m\u001b[0;34m,\u001b[0m \u001b[0m__name__\u001b[0m\u001b[0;34m)\u001b[0m\u001b[0;34m\u001b[0m\u001b[0;34m\u001b[0m\u001b[0m\n",
            "\u001b[0;31mModuleNotFoundError\u001b[0m: No module named 'mymodule'",
            "",
            "\u001b[0;31m---------------------------------------------------------------------------\u001b[0;32m\nNOTE: If your import is failing due to a missing package, you can\nmanually install dependencies using either !pip or !apt.\n\nTo view examples of installing some common dependencies, click the\n\"Open Examples\" button below.\n\u001b[0;31m---------------------------------------------------------------------------\u001b[0m\n"
          ],
          "errorDetails": {
            "actions": [
              {
                "action": "open_url",
                "actionText": "Open Examples",
                "url": "/notebooks/snippets/importing_libraries.ipynb"
              }
            ]
          }
        }
      ]
    },
    {
      "cell_type": "markdown",
      "source": [
        "#Relative Imports"
      ],
      "metadata": {
        "id": "C3BcrU6bVPu-"
      }
    },
    {
      "cell_type": "code",
      "source": [
        "import mymodule\n",
        "\n",
        "/content/mymodule.py"
      ],
      "metadata": {
        "id": "lOW3TdxJVNcP"
      },
      "execution_count": null,
      "outputs": []
    },
    {
      "cell_type": "markdown",
      "source": [
        "#Monday 9/9 Codes"
      ],
      "metadata": {
        "id": "j7m8saw6RDtO"
      }
    },
    {
      "cell_type": "code",
      "source": [
        "#relative imports in python\n",
        "import mymodule\n",
        "\n",
        "print(\"code.py\", __name__)"
      ],
      "metadata": {
        "colab": {
          "base_uri": "https://localhost:8080/"
        },
        "id": "X_lXKpQeRbd9",
        "outputId": "d41b4fdd-7649-4c0a-d939-b4b3f4be5bb8"
      },
      "execution_count": null,
      "outputs": [
        {
          "output_type": "stream",
          "name": "stdout",
          "text": [
            "operator.py:  libs.operations.operator\n",
            "mylib.py:  libs.mylib\n",
            "mymodule.py mymodule\n",
            "code.py __main__\n"
          ]
        }
      ]
    },
    {
      "cell_type": "code",
      "source": [
        "# from .mymodule import divide\n",
        "\n",
        "print(\"code.py\", __name__)"
      ],
      "metadata": {
        "colab": {
          "base_uri": "https://localhost:8080/"
        },
        "id": "47Xew6wNUVbQ",
        "outputId": "3b7f0e56-da50-4ad1-d310-61b957774f1e"
      },
      "execution_count": null,
      "outputs": [
        {
          "output_type": "stream",
          "name": "stdout",
          "text": [
            "code.py __main__\n"
          ]
        }
      ]
    },
    {
      "cell_type": "markdown",
      "source": [
        "#Errors in python"
      ],
      "metadata": {
        "id": "Q0KjPiFS-lsE"
      }
    },
    {
      "cell_type": "code",
      "source": [
        "def divide(dividend,divisor):\n",
        "  if divisor == 0:\n",
        "    # raise ZeroDivisionError(\"Divisor cannot be 0.\")\n",
        "    print(\"Divisor cannot be 0.\")\n",
        "    return\n",
        "\n",
        "  return dividend/divisor\n",
        "\n",
        "# divide(10,0)\n",
        "# grades = [78,99,85,100]\n",
        "grades = []\n",
        "print(\"Welcome to the average grade program.\")\n",
        "average = divide(sum(grades),len(grades))\n",
        "print(f\"The average grade is {average}.\")"
      ],
      "metadata": {
        "colab": {
          "base_uri": "https://localhost:8080/"
        },
        "id": "m94tP_Rm-lKI",
        "outputId": "833fe405-44dc-472d-b8ac-aa8853143768"
      },
      "execution_count": null,
      "outputs": [
        {
          "output_type": "stream",
          "name": "stdout",
          "text": [
            "Welcome to the average grade program.\n",
            "Divisor cannot be 0.\n",
            "The average grade is None.\n"
          ]
        }
      ]
    },
    {
      "cell_type": "code",
      "source": [
        "def divide(dividend,divisor):\n",
        "  if divisor == 0:\n",
        "    raise ZeroDivisionError(\"Divisor cannot be 0.\")\n",
        "    # print(\"Divisor cannot be 0.\")\n",
        "    # return\n",
        "\n",
        "  return dividend/divisor\n",
        "\n",
        "grades=[]\n",
        "\n",
        "print(\"Welcome to the average grade program.\")\n",
        "try:\n",
        "  average = divide(sum(grades),len(grades))\n",
        "  # print(f\"The average grade is {average}.\")\n",
        "except ZeroDivisionError as e:\n",
        "  print(e)\n",
        "  print(\"There are no grades yet in your list.\")\n",
        "else:\n",
        "  print(f\"The average grade is {average}.\")\n",
        "finally:\n",
        "  print(\"Thank you!\")\n",
        "#"
      ],
      "metadata": {
        "colab": {
          "base_uri": "https://localhost:8080/"
        },
        "id": "Qv2Q2YeoUcMe",
        "outputId": "dbe9e4cd-1195-47a1-80a6-b7f93a7e5da3"
      },
      "execution_count": null,
      "outputs": [
        {
          "output_type": "stream",
          "name": "stdout",
          "text": [
            "Welcome to the average grade program.\n",
            "Divisor cannot be 0.\n",
            "There are no grades yet in your list.\n",
            "Thank you!\n"
          ]
        }
      ]
    },
    {
      "cell_type": "code",
      "source": [
        "def divide(dividend,divisor):\n",
        "  if divisor == 0:\n",
        "    raise ZeroDivisionError(\"Divisor cannot be 0.\")\n",
        "\n",
        "  return dividend/divisor\n",
        "\n",
        "students = [\n",
        "    {\"name\":\"Bob\",\"grades\":[75 , 90]},\n",
        "  {\"name\":\"Rolf\",\"grades\":[]},\n",
        "  {\"name\":\"Jen\",\"grades\":[100,90]}\n",
        "]\n",
        "\n",
        "try:\n",
        "  for student in students:\n",
        "    name = student[\"name\"]\n",
        "    grades = student[\"grades\"]\n",
        "    average = divide(sum(grades),len(grades))\n",
        "    print(f\"{name} averaged {average}.\")\n",
        "except ZeroDivisionError as e:\n",
        "  print(f\"ERROR: {name} has no grades!\")\n",
        "  print(e)\n",
        "else:\n",
        "  print(\"-- All student averages calculated--\")\n",
        "finally:\n",
        "  print(\"-- End of student average calculation--\")"
      ],
      "metadata": {
        "colab": {
          "base_uri": "https://localhost:8080/"
        },
        "id": "PyuN-BiUWB9I",
        "outputId": "ff587910-bd2e-4a8d-9673-a75c5c3ede5e"
      },
      "execution_count": null,
      "outputs": [
        {
          "output_type": "stream",
          "name": "stdout",
          "text": [
            "Bob averaged 82.5.\n",
            "ERROR: Rolf has no grades!\n",
            "Divisor cannot be 0.\n",
            "-- End of student average calculation--\n"
          ]
        }
      ]
    },
    {
      "cell_type": "markdown",
      "source": [
        "#Custom error classes"
      ],
      "metadata": {
        "id": "vtsP9SHkW3yz"
      }
    },
    {
      "cell_type": "code",
      "source": [
        "class TooManyPagesReadError(ValueError):\n",
        "  pass\n",
        "\n",
        "class Book:\n",
        "  def __init__(self,name:str,page_count:int):\n",
        "    self.name = name\n",
        "    self.page_count = page_count\n",
        "    self.pages_read = 0\n",
        "\n",
        "  def __repr__(self):\n",
        "    return (\n",
        "      f\"<Book {self.name}, read {self.pages_read} pages out of {self.page_count}>\"\n",
        "    )\n",
        "\n",
        "  def read(self,pages:int):\n",
        "    if self.pages_read + pages > self.page_count:\n",
        "      raise ValueError(\n",
        "          f\"You tried to read {self.pages_read + pages} pages, but this book only has {self.page_count} pages.\"\n",
        "          )\n",
        "    self.pages_read += pages\n",
        "    print(f\"You have now read {self.pages_read} pages out of {self.page_count}.\")\n",
        "\n",
        "python101 = Book(\"Python 101\",50)\n",
        "try:\n",
        "  python101.read(35)\n",
        "  python101.read(50)\n",
        "except TooManyPagesReadError as e:\n",
        "  print(e)\n"
      ],
      "metadata": {
        "colab": {
          "base_uri": "https://localhost:8080/",
          "height": 350
        },
        "id": "fz8ATH7pW2ir",
        "outputId": "f1a4db0d-4eed-44d5-c24f-1261e46bb1db"
      },
      "execution_count": null,
      "outputs": [
        {
          "output_type": "stream",
          "name": "stdout",
          "text": [
            "You have now read 35 pages out of 50.\n"
          ]
        },
        {
          "output_type": "error",
          "ename": "ValueError",
          "evalue": "You tried to read 85 pages, but this book only has 50 pages.",
          "traceback": [
            "\u001b[0;31m---------------------------------------------------------------------------\u001b[0m",
            "\u001b[0;31mValueError\u001b[0m                                Traceback (most recent call last)",
            "\u001b[0;32m<ipython-input-25-478bf74a12a2>\u001b[0m in \u001b[0;36m<cell line: 24>\u001b[0;34m()\u001b[0m\n\u001b[1;32m     24\u001b[0m \u001b[0;32mtry\u001b[0m\u001b[0;34m:\u001b[0m\u001b[0;34m\u001b[0m\u001b[0;34m\u001b[0m\u001b[0m\n\u001b[1;32m     25\u001b[0m   \u001b[0mpython101\u001b[0m\u001b[0;34m.\u001b[0m\u001b[0mread\u001b[0m\u001b[0;34m(\u001b[0m\u001b[0;36m35\u001b[0m\u001b[0;34m)\u001b[0m\u001b[0;34m\u001b[0m\u001b[0;34m\u001b[0m\u001b[0m\n\u001b[0;32m---> 26\u001b[0;31m   \u001b[0mpython101\u001b[0m\u001b[0;34m.\u001b[0m\u001b[0mread\u001b[0m\u001b[0;34m(\u001b[0m\u001b[0;36m50\u001b[0m\u001b[0;34m)\u001b[0m\u001b[0;34m\u001b[0m\u001b[0;34m\u001b[0m\u001b[0m\n\u001b[0m\u001b[1;32m     27\u001b[0m \u001b[0;32mexcept\u001b[0m \u001b[0mTooManyPagesReadError\u001b[0m \u001b[0;32mas\u001b[0m \u001b[0me\u001b[0m\u001b[0;34m:\u001b[0m\u001b[0;34m\u001b[0m\u001b[0;34m\u001b[0m\u001b[0m\n\u001b[1;32m     28\u001b[0m   \u001b[0mprint\u001b[0m\u001b[0;34m(\u001b[0m\u001b[0me\u001b[0m\u001b[0;34m)\u001b[0m\u001b[0;34m\u001b[0m\u001b[0;34m\u001b[0m\u001b[0m\n",
            "\u001b[0;32m<ipython-input-25-478bf74a12a2>\u001b[0m in \u001b[0;36mread\u001b[0;34m(self, pages)\u001b[0m\n\u001b[1;32m     15\u001b[0m   \u001b[0;32mdef\u001b[0m \u001b[0mread\u001b[0m\u001b[0;34m(\u001b[0m\u001b[0mself\u001b[0m\u001b[0;34m,\u001b[0m\u001b[0mpages\u001b[0m\u001b[0;34m:\u001b[0m\u001b[0mint\u001b[0m\u001b[0;34m)\u001b[0m\u001b[0;34m:\u001b[0m\u001b[0;34m\u001b[0m\u001b[0;34m\u001b[0m\u001b[0m\n\u001b[1;32m     16\u001b[0m     \u001b[0;32mif\u001b[0m \u001b[0mself\u001b[0m\u001b[0;34m.\u001b[0m\u001b[0mpages_read\u001b[0m \u001b[0;34m+\u001b[0m \u001b[0mpages\u001b[0m \u001b[0;34m>\u001b[0m \u001b[0mself\u001b[0m\u001b[0;34m.\u001b[0m\u001b[0mpage_count\u001b[0m\u001b[0;34m:\u001b[0m\u001b[0;34m\u001b[0m\u001b[0;34m\u001b[0m\u001b[0m\n\u001b[0;32m---> 17\u001b[0;31m       raise ValueError(\n\u001b[0m\u001b[1;32m     18\u001b[0m           \u001b[0;34mf\"You tried to read {self.pages_read + pages} pages, but this book only has {self.page_count} pages.\"\u001b[0m\u001b[0;34m\u001b[0m\u001b[0;34m\u001b[0m\u001b[0m\n\u001b[1;32m     19\u001b[0m           )\n",
            "\u001b[0;31mValueError\u001b[0m: You tried to read 85 pages, but this book only has 50 pages."
          ]
        }
      ]
    },
    {
      "cell_type": "markdown",
      "source": [
        "#First Class Functions"
      ],
      "metadata": {
        "id": "y1OWCVCyeoey"
      }
    },
    {
      "cell_type": "code",
      "source": [
        "def divide(dividend,divisor):\n",
        "  if divisor == 0:\n",
        "    raise ZeroDivisionError(\"Divisor cannot be 0.\")\n",
        "\n",
        "  return dividend/divisor\n",
        "\n",
        "def calculate(*values, operator)  :\n",
        "  return operator(*values)\n",
        "\n",
        "result = calculate(20,4,operator=divide)\n",
        "print(result)\n",
        "#pass in divide operator as the function to be used with (*values)\n"
      ],
      "metadata": {
        "colab": {
          "base_uri": "https://localhost:8080/"
        },
        "id": "YHmsSNE4eqlQ",
        "outputId": "e0af2343-f6a6-4b32-ef28-9f8fa70fee98"
      },
      "execution_count": null,
      "outputs": [
        {
          "output_type": "stream",
          "name": "stdout",
          "text": [
            "5.0\n"
          ]
        }
      ]
    },
    {
      "cell_type": "code",
      "source": [
        "def search(sequence,expected,finder):\n",
        "  for elem in sequence:\n",
        "    if finder(elem) == expected:\n",
        "      return elem\n",
        "  raise RuntimeError(f\"Could not find an element with {expected}.\")\n",
        "\n",
        "friends = [\n",
        "    {\"name\":\"Rolf Smith\",\"age\":24},\n",
        "  {\"name\":\"Adam Wool\",\"age\":30},\n",
        "  {\"name\":\"Anne Pun\",\"age\":27}\n",
        "]\n",
        "\n",
        "def get_friend_name(friend):\n",
        "  return friend[\"name\"]\n",
        "\n",
        "print(search(friends,\"Rolf Smith\",get_friend_name))\n",
        "#"
      ],
      "metadata": {
        "colab": {
          "base_uri": "https://localhost:8080/"
        },
        "id": "A9M9x_DqfaRy",
        "outputId": "9f89fde4-4c32-46fa-8d7b-b3299fb88869"
      },
      "execution_count": null,
      "outputs": [
        {
          "output_type": "stream",
          "name": "stdout",
          "text": [
            "{'name': 'Rolf Smith', 'age': 24}\n"
          ]
        }
      ]
    },
    {
      "cell_type": "code",
      "source": [
        "def search(sequence,expected,finder):\n",
        "  for elem in sequence:\n",
        "    if finder(elem) == expected:\n",
        "      return elem\n",
        "  raise RuntimeError(f\"Could not find an element with {expected}.\")\n",
        "\n",
        "friends = [\n",
        "    {\"name\":\"Rolf Smith\",\"age\":24},\n",
        "  {\"name\":\"Adam Wool\",\"age\":30},\n",
        "  {\"name\":\"Anne Pun\",\"age\":27}\n",
        "]\n",
        "\n",
        "# def get_friend_name(friend):\n",
        "#   return friend[\"name\"]\n",
        "\n",
        "print(search(friends,\"Rolf Smith\",lambda friend: friend[\"name\"]))\n",
        "#"
      ],
      "metadata": {
        "colab": {
          "base_uri": "https://localhost:8080/"
        },
        "id": "dosj4lMwgJyW",
        "outputId": "e6892592-9b6c-4b65-d80f-09ad8482dedc"
      },
      "execution_count": null,
      "outputs": [
        {
          "output_type": "stream",
          "name": "stdout",
          "text": [
            "{'name': 'Rolf Smith', 'age': 24}\n"
          ]
        }
      ]
    },
    {
      "cell_type": "code",
      "source": [
        "#using modules to get the items\n",
        "from operator import itemgetter\n",
        "\n",
        "def search(sequence,expected,finder):\n",
        "  for elem in sequence:\n",
        "    if finder(elem) == expected:\n",
        "      return elem\n",
        "  raise RuntimeError(f\"Could not find an element with {expected}.\")\n",
        "\n",
        "friends = [\n",
        "    {\"name\":\"Rolf Smith\",\"age\":24},\n",
        "  {\"name\":\"Adam Wool\",\"age\":30},\n",
        "  {\"name\":\"Anne Pun\",\"age\":27}\n",
        "]\n",
        "\n",
        "# def get_friend_name(friend):\n",
        "#   return friend[\"name\"]\n",
        "\n",
        "print(search(friends,\"Rolf Smith\",itemgetter(\"name\")))\n",
        "#"
      ],
      "metadata": {
        "colab": {
          "base_uri": "https://localhost:8080/"
        },
        "id": "Y3v-eorrgnuX",
        "outputId": "df6f5021-761f-47a0-b7b6-239693ec7d57"
      },
      "execution_count": null,
      "outputs": [
        {
          "output_type": "stream",
          "name": "stdout",
          "text": [
            "{'name': 'Rolf Smith', 'age': 24}\n"
          ]
        }
      ]
    },
    {
      "cell_type": "markdown",
      "source": [
        "#simple decorators in python\n",
        "\n",
        "we can secure functions"
      ],
      "metadata": {
        "id": "1doaSugmg1b2"
      }
    },
    {
      "cell_type": "code",
      "source": [
        "user = {\"username\":\"jose\",\"access_level\":\"guest\"}\n",
        "\n",
        "def get_admin_password():\n",
        "  return \"1234\"\n",
        "\n",
        "def secure_get_admin_password():\n",
        "  if user[\"access_level\"] == \"admin\":\n",
        "    return \"1234\"\n",
        "  # raise ValueError(\"Permission denied\")\n",
        "\n",
        "print(secure_get_admin_password())\n",
        "\n",
        "# if user[\"access_level\"] == \"admin\":\n",
        "#   print(get_admin_password())\n",
        "\n",
        "\n",
        "print(get_admin_password())"
      ],
      "metadata": {
        "colab": {
          "base_uri": "https://localhost:8080/"
        },
        "id": "2PlJjoAXg44h",
        "outputId": "c922da0b-de52-4c6b-cdc4-abd00c932938"
      },
      "execution_count": null,
      "outputs": [
        {
          "output_type": "stream",
          "name": "stdout",
          "text": [
            "None\n",
            "1234\n"
          ]
        }
      ]
    },
    {
      "cell_type": "code",
      "source": [
        "user = {\"username\":\"jose\",\"access_level\":\"guest\"}\n",
        "\n",
        "def get_admin_password():\n",
        "  return \"1234\"\n",
        "\n",
        "def secure_function(func):\n",
        "  if user[\"access_level\"] == \"admin\":\n",
        "    return func\n",
        "  raise ValueError(\"Permission denied\")\n",
        "\n",
        "get_admin_password = secure_function(get_admin_password)\n",
        "\n",
        "print(get_admin_password())\n",
        "#"
      ],
      "metadata": {
        "colab": {
          "base_uri": "https://localhost:8080/",
          "height": 332
        },
        "id": "9c9xHQd-hf2u",
        "outputId": "e88e4100-3c6d-44d5-ae11-407050f3d4a1"
      },
      "execution_count": null,
      "outputs": [
        {
          "output_type": "error",
          "ename": "ValueError",
          "evalue": "Permission denied",
          "traceback": [
            "\u001b[0;31m---------------------------------------------------------------------------\u001b[0m",
            "\u001b[0;31mValueError\u001b[0m                                Traceback (most recent call last)",
            "\u001b[0;32m<ipython-input-48-851ca3fddab2>\u001b[0m in \u001b[0;36m<cell line: 11>\u001b[0;34m()\u001b[0m\n\u001b[1;32m      9\u001b[0m   \u001b[0;32mraise\u001b[0m \u001b[0mValueError\u001b[0m\u001b[0;34m(\u001b[0m\u001b[0;34m\"Permission denied\"\u001b[0m\u001b[0;34m)\u001b[0m\u001b[0;34m\u001b[0m\u001b[0;34m\u001b[0m\u001b[0m\n\u001b[1;32m     10\u001b[0m \u001b[0;34m\u001b[0m\u001b[0m\n\u001b[0;32m---> 11\u001b[0;31m \u001b[0mget_admin_password\u001b[0m \u001b[0;34m=\u001b[0m \u001b[0msecure_function\u001b[0m\u001b[0;34m(\u001b[0m\u001b[0mget_admin_password\u001b[0m\u001b[0;34m)\u001b[0m\u001b[0;34m\u001b[0m\u001b[0;34m\u001b[0m\u001b[0m\n\u001b[0m\u001b[1;32m     12\u001b[0m \u001b[0;34m\u001b[0m\u001b[0m\n\u001b[1;32m     13\u001b[0m \u001b[0mprint\u001b[0m\u001b[0;34m(\u001b[0m\u001b[0mget_admin_password\u001b[0m\u001b[0;34m(\u001b[0m\u001b[0;34m)\u001b[0m\u001b[0;34m)\u001b[0m\u001b[0;34m\u001b[0m\u001b[0;34m\u001b[0m\u001b[0m\n",
            "\u001b[0;32m<ipython-input-48-851ca3fddab2>\u001b[0m in \u001b[0;36msecure_function\u001b[0;34m(func)\u001b[0m\n\u001b[1;32m      7\u001b[0m   \u001b[0;32mif\u001b[0m \u001b[0muser\u001b[0m\u001b[0;34m[\u001b[0m\u001b[0;34m\"access_level\"\u001b[0m\u001b[0;34m]\u001b[0m \u001b[0;34m==\u001b[0m \u001b[0;34m\"admin\"\u001b[0m\u001b[0;34m:\u001b[0m\u001b[0;34m\u001b[0m\u001b[0;34m\u001b[0m\u001b[0m\n\u001b[1;32m      8\u001b[0m     \u001b[0;32mreturn\u001b[0m \u001b[0mfunc\u001b[0m\u001b[0;34m\u001b[0m\u001b[0;34m\u001b[0m\u001b[0m\n\u001b[0;32m----> 9\u001b[0;31m   \u001b[0;32mraise\u001b[0m \u001b[0mValueError\u001b[0m\u001b[0;34m(\u001b[0m\u001b[0;34m\"Permission denied\"\u001b[0m\u001b[0;34m)\u001b[0m\u001b[0;34m\u001b[0m\u001b[0;34m\u001b[0m\u001b[0m\n\u001b[0m\u001b[1;32m     10\u001b[0m \u001b[0;34m\u001b[0m\u001b[0m\n\u001b[1;32m     11\u001b[0m \u001b[0mget_admin_password\u001b[0m \u001b[0;34m=\u001b[0m \u001b[0msecure_function\u001b[0m\u001b[0;34m(\u001b[0m\u001b[0mget_admin_password\u001b[0m\u001b[0;34m)\u001b[0m\u001b[0;34m\u001b[0m\u001b[0;34m\u001b[0m\u001b[0m\n",
            "\u001b[0;31mValueError\u001b[0m: Permission denied"
          ]
        }
      ]
    },
    {
      "cell_type": "code",
      "source": [
        "user = {\"username\":\"jose\",\"access_level\":\"guest\"}\n",
        "\n",
        "def get_admin_password():\n",
        "  return \"1234\"\n",
        "\n",
        "def make_secure(func)  :\n",
        "  def secure_function():\n",
        "    if user[\"access_level\"] == \"admin\":\n",
        "      return func()\n",
        "    else:\n",
        "      return f\"No admin permissions for {user['username']}\"\n",
        "    # raise ValueError(\"Permission denied\")\n",
        "  return secure_function #this is the decorator\n",
        "\n",
        "get_admin_password = make_secure(get_admin_password)\n",
        "\n",
        "print(get_admin_password())"
      ],
      "metadata": {
        "colab": {
          "base_uri": "https://localhost:8080/"
        },
        "id": "WFOIeVdWiou_",
        "outputId": "36776643-b7d7-488c-d4aa-93b7251802c8"
      },
      "execution_count": null,
      "outputs": [
        {
          "output_type": "stream",
          "name": "stdout",
          "text": [
            "No admin permissions for jose\n"
          ]
        }
      ]
    },
    {
      "cell_type": "markdown",
      "source": [
        "#the 'at' syntax\n"
      ],
      "metadata": {
        "id": "2k25kO4ljmcR"
      }
    },
    {
      "cell_type": "code",
      "source": [
        "import functools\n",
        "\n",
        "user = {\"username\":\"jose\",\"access_level\":\"guest\"}\n",
        "\n",
        "\n",
        "\n",
        "def make_secure(func)  :\n",
        "  @functools.wraps(func)\n",
        "  def secure_function():\n",
        "    if user[\"access_level\"] == \"admin\":\n",
        "      return func()\n",
        "    else:\n",
        "      return f\"No admin permissions for {user['username']}\"\n",
        "\n",
        "  return secure_function\n",
        "\n",
        "@make_secure #this is the decorator\n",
        "def get_admin_password():\n",
        "  return \"1234\"\n",
        "\n",
        "# get_admin_password = make_secure(get_admin_password)\n",
        "\n",
        "print(get_admin_password.__name__)\n",
        "print(get_admin_password())"
      ],
      "metadata": {
        "colab": {
          "base_uri": "https://localhost:8080/"
        },
        "id": "zUVh9sEVjoYK",
        "outputId": "77b3591c-456a-48ae-a3f7-f370332ecccc"
      },
      "execution_count": null,
      "outputs": [
        {
          "output_type": "stream",
          "name": "stdout",
          "text": [
            "get_admin_password\n",
            "No admin permissions for jose\n"
          ]
        }
      ]
    },
    {
      "cell_type": "markdown",
      "source": [
        "#decorating functions with parameters"
      ],
      "metadata": {
        "id": "AFBnUgHZkk6k"
      }
    },
    {
      "cell_type": "code",
      "source": [
        "import functools\n",
        "\n",
        "user = {\"username\":\"jose\",\"access_level\":\"guest\"}\n",
        "\n",
        "\n",
        "\n",
        "def make_secure(func)  :\n",
        "  @functools.wraps(func)\n",
        "  def secure_function(panel):\n",
        "    if user[\"access_level\"] == \"admin\":\n",
        "      return func(panel)\n",
        "    else:\n",
        "      return f\"No admin permissions for {user['username']}\"\n",
        "\n",
        "  return secure_function\n",
        "\n",
        "@make_secure #this is the decorator\n",
        "def get_password(panel):\n",
        "  if panel =='admin':\n",
        "    return \"1234\"\n",
        "  elif panel =='billing':\n",
        "    return \"super_secure_password\"\n",
        "\n",
        "print(get_password(\"billing\"))"
      ],
      "metadata": {
        "colab": {
          "base_uri": "https://localhost:8080/"
        },
        "id": "9rY6I2r9kkZp",
        "outputId": "1baf02b3-90f5-4aa3-c5a8-421521fc64b8"
      },
      "execution_count": null,
      "outputs": [
        {
          "output_type": "stream",
          "name": "stdout",
          "text": [
            "No admin permissions for jose\n"
          ]
        }
      ]
    },
    {
      "cell_type": "code",
      "source": [],
      "metadata": {
        "id": "Nj14f_a3YjDf"
      },
      "execution_count": null,
      "outputs": []
    }
  ]
}